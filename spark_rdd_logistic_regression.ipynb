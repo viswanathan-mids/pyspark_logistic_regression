{
  "cells": [
    {
      "cell_type": "markdown",
      "source": [
        "# Logistic Regression from Scratch"
      ],
      "metadata": {
        "application/vnd.databricks.v1+cell": {
          "title": "",
          "showTitle": false,
          "inputWidgets": {},
          "nuid": "ea6b143d-69ec-4121-9d57-704d8749ee9a"
        },
        "id": "NIUV2ZRCmFNh"
      }
    },
    {
      "cell_type": "markdown",
      "source": [
        "## Logistic Regression\n",
        "Reference [link](https://github.com/UCB-w261/main/blob/main/HelpfulResources/logistic_regression/Logistic%20regression.ipynb)\n",
        "\n",
        "Logistic regression is an algorithm that could be used when the dependant variable \\\\(y\\\\) has a dichotomous outcome of a negative class or a postive class, \\\\(y \\in\\\\) {0,1}\n",
        "\n",
        "Some examples of the classification problem where logistic regression can be used.\n",
        "* Email classification : Spam or not spam\n",
        "* Credit card transactions: Fraud or not fraud\n",
        "* Airline flights: Delayed or not delayed"
      ],
      "metadata": {
        "application/vnd.databricks.v1+cell": {
          "title": "",
          "showTitle": false,
          "inputWidgets": {},
          "nuid": "7bb76a14-269e-40e3-b406-0ceb0951f025"
        },
        "id": "AxaVq_6kmFNn"
      }
    },
    {
      "cell_type": "markdown",
      "source": [
        "### Notations\n",
        "\n",
        "Below are the notations that are used in the explanation of logistic regression<br/>\n",
        "\\\\(n\\\\) → number of features<br/>\n",
        "\\\\(m\\\\) → number of training examples<br/>\n",
        "\\\\(X\\\\) → input data matrix of shape (m x n)<br/>\n",
        "\\\\(y\\\\) → true/ target value (can be 0 or 1 only)<br/>\n",
        "\\\\(x(i), y(i)\\\\) → ith training example<br/>\n",
        "\\\\(w\\\\) → weights (parameters) of shape (n x 1)<br/>\n",
        "\\\\(b\\\\) → bias (parameter), a real number that can be broadcasted<br/>\n",
        "\\\\({y}^{-}\\\\) → hypothesis \\\\({h}_{\\theta}(X)\\\\) (outputs values between 0 and 1)<br/>\n",
        "\n",
        "In logistic regression \\\\(0 \\le {h}_{\\theta}(X) \\le 1 \\\\)"
      ],
      "metadata": {
        "application/vnd.databricks.v1+cell": {
          "title": "",
          "showTitle": false,
          "inputWidgets": {},
          "nuid": "41bc1044-b6df-4aad-8b26-a48aa74d724c"
        },
        "id": "L9BwhOuJmFNo"
      }
    },
    {
      "cell_type": "markdown",
      "source": [
        "### Hypothesis\n",
        "\n",
        "The hypothesis is \\\\({h}_{\\theta}(X)\\\\) is the estimated probability that \\\\(y = 1\\\\) given the set of features \\\\(X\\\\) and parameterized by \\\\(\\theta\\\\).<br/> \n",
        "\\\\(P(y=1 | X;\\theta)\\\\)\n",
        "\n",
        "In logistic regression, the hypothesis \\\\({h}_{\\theta}(X) \\\\) is a Sigmoid function \\\\(g\\\\) where \\\\(g(z) = \\frac{1}{1+{e}^{-z}}\\\\) and \\\\(z\\\\) = \\\\({\\theta}^{T}X\\\\).\n",
        "\n",
        "Hence, the hypothesis can be re-written as \\\\({h}_{\\theta}(X) = \\frac{1}{1+{e}^{-{\\theta}^{T}X}}\\\\)\n",
        "\n",
        "The probability that \\\\(y = 0\\\\) can be calculated by \\\\(1 - P(y=1 | X;\\theta)\\\\), since the probability of both classes will add up to \\\\(1\\\\)."
      ],
      "metadata": {
        "application/vnd.databricks.v1+cell": {
          "title": "",
          "showTitle": false,
          "inputWidgets": {},
          "nuid": "98ffb1df-2ab2-415c-9900-7a510a04b2bd"
        },
        "id": "YKiZJR9YmFNq"
      }
    },
    {
      "cell_type": "markdown",
      "source": [
        "###Cost Function\n",
        "For gradient descent to work, the cost function for logistic regression has to be a convex function. <br/>\n",
        "Cost function is defined as\n",
        "\n",
        "\\\\(J(\\theta) = \\frac{1}{m} {\\Sigma}_{i=1}^{m} Cost(h_\\theta(X(i)),y(i))\\\\)\n",
        "\n",
        "where \\\\(y =\\\\) 0 or 1 and \\\\(Cost(h_\\theta (X),y) = -y log(h_\\theta (X)) - (1-y) log(1 - h_\\theta(X))\\\\)\n",
        "\n",
        "rewriting the cost function\n",
        "\n",
        "\\\\(J(\\theta) = - \\frac{1}{m} [ {\\Sigma}_{i=1}^{m} y(i) log(h_\\theta (X(i))) + (1-y(i)) log(1 - h_\\theta(X(i))) ]\\\\)\n",
        "\n",
        "Here, \\\\(h_\\theta(X)\\\\) is the Sigmoid function \\\\(\\frac{1}{1+{e}^{-{\\theta}^{T}X}}\\\\)"
      ],
      "metadata": {
        "application/vnd.databricks.v1+cell": {
          "title": "",
          "showTitle": false,
          "inputWidgets": {},
          "nuid": "3da21142-a150-4de2-889e-dc6b080afcfc"
        },
        "id": "Ec-PCn4CmFNq"
      }
    },
    {
      "cell_type": "markdown",
      "source": [
        "###Gradient Descent\n",
        "\n",
        "We can use the gradient descent algorithm to fit the parameters \\\\(\\theta\\\\) that minimizes the cost function \\\\(J(\\theta)\\\\).\n",
        "\n",
        "Gradient update step uses \\\\(\\theta_j := \\theta_j - \\alpha \\frac{d}{d\\theta_j} J(\\theta)\\\\) where \\\\(\\alpha\\\\) is the learning rate and all \\\\(\\theta_j\\\\) are updated simultaneously.\n",
        "\n",
        "\\\\(\\frac{d}{d\\theta_j} J(\\theta) = \\frac{1}{m} {\\Sigma}_{i=1}^{m} (h_\\theta(X(i))- y(i)) X_j(i)\\\\)\n",
        "\n",
        "The gradient descent step is re-written as\n",
        "\n",
        "\\\\(\\theta_j := \\theta_j - \\alpha \\frac{1}{m} {\\Sigma}_{i=1}^{m} (h_\\theta(X(i))- y(i)) X_j(i)\\\\), all \\\\(\\theta_j\\\\) are updated simultaneously.\n",
        "\n",
        "Here, \\\\(h_\\theta(X)\\\\) is the Sigmoid function \\\\(\\frac{1}{1+{e}^{-{\\theta}^{T}X}}\\\\)"
      ],
      "metadata": {
        "application/vnd.databricks.v1+cell": {
          "title": "",
          "showTitle": false,
          "inputWidgets": {},
          "nuid": "ccf6c92f-66dc-403b-9105-3377c6b12b3c"
        },
        "id": "7mjyfoRrmFNr"
      }
    },
    {
      "cell_type": "markdown",
      "source": [
        "###Make Predictions\n",
        "\n",
        "To fit the parameters \\\\(\\theta\\\\) we need to find the \\\\(\\theta\\\\) such that it minimizes the cost function \\\\(J(\\theta)\\\\). Using this set of \\\\(\\theta\\\\) we can make predictions.\n",
        "\n",
        "For predictions on a new feature set \\\\(X\\\\), calculate \\\\({h}_{\\theta}(X) = \\frac{1}{1+{e}^{-{\\theta}^{T}X}}\\\\), which will give the probalility that \\\\(y=1\\\\).\n",
        "\n",
        "We can use a threshold value for the probability to predict 0, if less than threshold, and 1, if greater than or equal to threshold probability."
      ],
      "metadata": {
        "application/vnd.databricks.v1+cell": {
          "title": "",
          "showTitle": false,
          "inputWidgets": {},
          "nuid": "d4458c5b-bc2d-44f1-b8eb-7ca52276909d"
        },
        "id": "_cgcs5YBmFNt"
      }
    },
    {
      "cell_type": "markdown",
      "source": [
        "### Data pre-processing"
      ],
      "metadata": {
        "application/vnd.databricks.v1+cell": {
          "title": "",
          "showTitle": false,
          "inputWidgets": {},
          "nuid": "faa9baab-be52-4c69-a796-3a22c8af0873"
        },
        "id": "ctRSRJQnmFNu"
      }
    },
    {
      "cell_type": "code",
      "source": [
        "# Load Libraries\n",
        "from pyspark.sql.functions import col\n",
        "from pyspark.sql import types\n",
        "from pyspark.sql.functions import *\n",
        "from pyspark.sql.types import LongType, StringType, IntegerType, DoubleType\n",
        "from pyspark.sql.functions import udf\n",
        "from pyspark.sql.functions import percent_rank\n",
        "from pyspark.sql import Window\n",
        "from pyspark import StorageLevel\n",
        "from pyspark.sql import Row\n",
        "from pyspark.sql.types import *\n",
        "\n",
        "from pyspark.ml.feature import StringIndexer, OneHotEncoder, VectorAssembler, StandardScaler, Imputer, MinMaxScaler, PCA\n",
        "from pyspark.ml import Pipeline, PipelineModel\n",
        "from pyspark.ml.classification import LogisticRegression, LogisticRegressionModel\n",
        "from pyspark.ml.evaluation import BinaryClassificationEvaluator, MulticlassClassificationEvaluator\n",
        "from pyspark.mllib.evaluation import MulticlassMetrics\n",
        "from pyspark.ml.tuning import ParamGridBuilder, CrossValidator\n",
        "import mlflow\n",
        "import mlflow.sklearn\n",
        "\n",
        "import re\n",
        "import os\n",
        "import numpy as np\n",
        "import pandas as pd\n",
        "import math\n",
        "import matplotlib.pyplot as plt\n",
        "import warnings"
      ],
      "metadata": {
        "application/vnd.databricks.v1+cell": {
          "title": "",
          "showTitle": false,
          "inputWidgets": {},
          "nuid": "2b1041e7-0497-4614-a12c-d60df96cc24b"
        },
        "id": "DB_X9JFxmFNv",
        "outputId": "3d817083-a9be-4da8-9fda-65004956daff"
      },
      "outputs": [
        {
          "output_type": "display_data",
          "metadata": {
            "application/vnd.databricks.v1+output": {
              "datasetInfos": [],
              "data": "<div class=\"ansiout\"></div>",
              "removedWidgets": [],
              "addedWidgets": {},
              "metadata": {},
              "type": "html",
              "arguments": {}
            }
          },
          "data": {
            "text/html": [
              "<style scoped>\n  .ansiout {\n    display: block;\n    unicode-bidi: embed;\n    white-space: pre-wrap;\n    word-wrap: break-word;\n    word-break: break-all;\n    font-family: \"Source Code Pro\", \"Menlo\", monospace;;\n    font-size: 13px;\n    color: #555;\n    margin-left: 4px;\n    line-height: 19px;\n  }\n</style>\n<div class=\"ansiout\"></div>"
            ]
          }
        }
      ],
      "execution_count": null
    },
    {
      "cell_type": "markdown",
      "source": [
        "##### Set up blob storage"
      ],
      "metadata": {
        "application/vnd.databricks.v1+cell": {
          "title": "",
          "showTitle": false,
          "inputWidgets": {},
          "nuid": "c67fbb7a-622b-45fe-ae39-6d35d6df332d"
        },
        "id": "Rm_G7db5mFNy"
      }
    },
    {
      "cell_type": "code",
      "source": [
        "# Parameters for SAS Token. Required for establishing connection to blob storage.\n",
        "\n",
        "blob_container = \"cont\" # The name of your container created in https://portal.azure.com\n",
        "storage_account = \"acc\" # The name of your Storage account created in https://portal.azure.com\n",
        "secret_scope = \"scope\" # The name of the scope created in your local computer using the Databricks CLI\n",
        "secret_key = \"key\" # The name of the secret key created in your local computer using the Databricks CLI \n",
        "blob_url = f\"wasbs://{blob_container}@{storage_account}.blob.core.windows.net\"\n",
        "mount_path = \"/mnt/path\""
      ],
      "metadata": {
        "application/vnd.databricks.v1+cell": {
          "title": "",
          "showTitle": false,
          "inputWidgets": {},
          "nuid": "deed48f7-b48f-45ba-8182-83cd6ce652ee"
        },
        "id": "LR8qkcoJmFNy",
        "outputId": "f9110c56-a706-4e96-94e9-739e31fdc076"
      },
      "outputs": [
        {
          "output_type": "display_data",
          "metadata": {
            "application/vnd.databricks.v1+output": {
              "datasetInfos": [],
              "data": "<div class=\"ansiout\"></div>",
              "removedWidgets": [],
              "addedWidgets": {},
              "metadata": {},
              "type": "html",
              "arguments": {}
            }
          },
          "data": {
            "text/html": [
              "<style scoped>\n  .ansiout {\n    display: block;\n    unicode-bidi: embed;\n    white-space: pre-wrap;\n    word-wrap: break-word;\n    word-break: break-all;\n    font-family: \"Source Code Pro\", \"Menlo\", monospace;;\n    font-size: 13px;\n    color: #555;\n    margin-left: 4px;\n    line-height: 19px;\n  }\n</style>\n<div class=\"ansiout\"></div>"
            ]
          }
        }
      ],
      "execution_count": null
    },
    {
      "cell_type": "code",
      "source": [
        "spark.conf.set(\n",
        "  f\"fs.azure.sas.{blob_container}.{storage_account}.blob.core.windows.net\",\n",
        "  dbutils.secrets.get(scope = secret_scope, key = secret_key)\n",
        ")"
      ],
      "metadata": {
        "application/vnd.databricks.v1+cell": {
          "title": "",
          "showTitle": false,
          "inputWidgets": {},
          "nuid": "9f149496-923b-4bc4-88f5-911e45d70db8"
        },
        "id": "t-uECAjnmFNz",
        "outputId": "3f48d64a-f72e-4c54-c1ab-5551b9cc7289"
      },
      "outputs": [
        {
          "output_type": "display_data",
          "metadata": {
            "application/vnd.databricks.v1+output": {
              "datasetInfos": [],
              "data": "<div class=\"ansiout\"></div>",
              "removedWidgets": [],
              "addedWidgets": {},
              "metadata": {},
              "type": "html",
              "arguments": {}
            }
          },
          "data": {
            "text/html": [
              "<style scoped>\n  .ansiout {\n    display: block;\n    unicode-bidi: embed;\n    white-space: pre-wrap;\n    word-wrap: break-word;\n    word-break: break-all;\n    font-family: \"Source Code Pro\", \"Menlo\", monospace;;\n    font-size: 13px;\n    color: #555;\n    margin-left: 4px;\n    line-height: 19px;\n  }\n</style>\n<div class=\"ansiout\"></div>"
            ]
          }
        }
      ],
      "execution_count": null
    },
    {
      "cell_type": "markdown",
      "source": [
        "####Load data from blob storage"
      ],
      "metadata": {
        "application/vnd.databricks.v1+cell": {
          "title": "",
          "showTitle": false,
          "inputWidgets": {},
          "nuid": "262cb163-0c55-4018-8419-859ab6e7f40d"
        },
        "id": "Mp447wfDmFNz"
      }
    },
    {
      "cell_type": "code",
      "source": [
        "# SMALL DATASET (6M)\n",
        "joined_data_6M = spark.read.parquet(f\"{blob_url}/joined_data\")\n",
        "# LARGE DATASET (2015-2018)\n",
        "joined_data_traintest = spark.read.parquet(f'{blob_url}/joined_data_traintest')\n",
        "# LARGE DATASET (2019)\n",
        "joined_data_holdout = spark.read.parquet(f'{blob_url}/joined_data_holdout')"
      ],
      "metadata": {
        "application/vnd.databricks.v1+cell": {
          "title": "",
          "showTitle": false,
          "inputWidgets": {},
          "nuid": "9e93ec85-6dc5-4943-a580-d37235eec076"
        },
        "id": "BKB_1BcRmFN0",
        "outputId": "51cb0112-1121-41f7-c644-5b654442117e"
      },
      "outputs": [
        {
          "output_type": "display_data",
          "metadata": {
            "application/vnd.databricks.v1+output": {
              "datasetInfos": [],
              "data": "<div class=\"ansiout\"></div>",
              "removedWidgets": [],
              "addedWidgets": {},
              "metadata": {},
              "type": "html",
              "arguments": {}
            }
          },
          "data": {
            "text/html": [
              "<style scoped>\n  .ansiout {\n    display: block;\n    unicode-bidi: embed;\n    white-space: pre-wrap;\n    word-wrap: break-word;\n    word-break: break-all;\n    font-family: \"Source Code Pro\", \"Menlo\", monospace;;\n    font-size: 13px;\n    color: #555;\n    margin-left: 4px;\n    line-height: 19px;\n  }\n</style>\n<div class=\"ansiout\"></div>"
            ]
          }
        }
      ],
      "execution_count": null
    },
    {
      "cell_type": "markdown",
      "source": [
        "#### Features\n",
        "- Columns to keep"
      ],
      "metadata": {
        "application/vnd.databricks.v1+cell": {
          "title": "",
          "showTitle": false,
          "inputWidgets": {},
          "nuid": "75ac1b31-1410-477b-985e-ce0337524cc3"
        },
        "id": "7NG3cADtmFN0"
      }
    },
    {
      "cell_type": "code",
      "source": [
        "keep = ['ELEVATION_ORG', 'ELEVATION_DEST', 'FL_DATE', 'YEAR', 'QUARTER', 'MONTH', 'DAY_OF_MONTH', 'DAY_OF_WEEK', 'OP_UNIQUE_CARRIER', 'ORIGIN', 'ORIGIN_STATE_FIPS', 'DEST', 'DEST_STATE_FIPS', 'DEP_DEL15', 'DEP_TIME_BLK', 'ARR_TIME_BLK', 'DISTANCE_GROUP', 'BAD_TRAVEL_DAY', 'SLP_ORG', 'VIS_ORG', 'TMP_ORG', 'DEW_ORG', 'CIG_ORG', 'WND_ORG', 'GUST_ORG', 'TCB_ORG', 'OBSC_ORG', 'PREC_ORG', 'SNW_ORG', 'FZFG_ORG', 'FZDZ_ORG', 'FZRA_ORG', 'TSRA_ORG', 'HSN_ORG', 'LSN_ORG', 'BSN_ORG', 'VV_ORG', 'TS_ORG', 'HAIL_ORG', 'FOG_ORG', 'VA_ORG', 'BR_ORG', 'SQ_ORG', 'FC_ORG',  'SLP_DEST', 'VIS_DEST', 'TMP_DEST', 'DEW_DEST', 'CIG_DEST', 'WND_DEST', 'GUST_DEST', 'TCB_DEST', 'OBSC_DEST', 'PREC_DEST', 'SNW_DEST', 'FZFG_DEST', 'FZDZ_DEST', 'FZRA_DEST', 'TSRA_DEST', 'HSN_DEST', 'LSN_DEST', 'BSN_DEST', 'VV_DEST', 'TS_DEST', 'HAIL_DEST', 'FOG_DEST', 'VA_DEST', 'BR_DEST', 'SQ_DEST', 'FC_DEST', 'DEP_TIME_SEGMENT', 'p_rank']"
      ],
      "metadata": {
        "application/vnd.databricks.v1+cell": {
          "title": "",
          "showTitle": false,
          "inputWidgets": {},
          "nuid": "bde57c56-3280-413a-9ca3-892a594f8e59"
        },
        "id": "6nByUfNomFN1",
        "outputId": "4fff18cf-fa7e-4006-9ec2-b7aa2c04e55d"
      },
      "outputs": [
        {
          "output_type": "display_data",
          "metadata": {
            "application/vnd.databricks.v1+output": {
              "datasetInfos": [],
              "data": "<div class=\"ansiout\"></div>",
              "removedWidgets": [],
              "addedWidgets": {},
              "metadata": {},
              "type": "html",
              "arguments": {}
            }
          },
          "data": {
            "text/html": [
              "<style scoped>\n  .ansiout {\n    display: block;\n    unicode-bidi: embed;\n    white-space: pre-wrap;\n    word-wrap: break-word;\n    word-break: break-all;\n    font-family: \"Source Code Pro\", \"Menlo\", monospace;;\n    font-size: 13px;\n    color: #555;\n    margin-left: 4px;\n    line-height: 19px;\n  }\n</style>\n<div class=\"ansiout\"></div>"
            ]
          }
        }
      ],
      "execution_count": null
    },
    {
      "cell_type": "markdown",
      "source": [
        "- Columns to drop"
      ],
      "metadata": {
        "application/vnd.databricks.v1+cell": {
          "title": "",
          "showTitle": false,
          "inputWidgets": {},
          "nuid": "67c26d20-0471-47a4-bf48-d574e80564db"
        },
        "id": "fjoi_BRtmFN1"
      }
    },
    {
      "cell_type": "code",
      "source": [
        "drop = ['DISTANCE', 'CRS_ARR_TIME', 'CRS_DEP_TIME', 'OP_CARRIER_AIRLINE_ID', 'OP_CARRIER_FL_NUM', 'DEP_TIMESTAMP', 'DEP_TIMESTAMP_UTC', 'DEP_TIMESTAMP_UTC_MINUS2', 'WX_STATION_ORIG', 'WX_STATION_DEST', 'CALL_SIGN_ORG', 'WX_TIMESTAMP_UTC_START_ORG', 'WX_TIMESTAMP_UTC_END_ORG', 'CALL_SIGN_DEST', 'WX_TIMESTAMP_UTC_START_DEST', 'WX_TIMESTAMP_UTC_END_DEST', 'DEST_AIRPORT_ID', 'DEST_CITY_MARKET_ID', 'ORIGIN_AIRPORT_ID', 'ORIGIN_CITY_MARKET_ID', 'join_year', 'year_start']"
      ],
      "metadata": {
        "application/vnd.databricks.v1+cell": {
          "title": "",
          "showTitle": false,
          "inputWidgets": {},
          "nuid": "4c790890-dd70-4f89-845b-06d8caf942d1"
        },
        "id": "HIiB9RSjmFN1",
        "outputId": "97e5ff6c-6030-4a54-e3fc-c4f7f123eba5"
      },
      "outputs": [
        {
          "output_type": "display_data",
          "metadata": {
            "application/vnd.databricks.v1+output": {
              "datasetInfos": [],
              "data": "<div class=\"ansiout\"></div>",
              "removedWidgets": [],
              "addedWidgets": {},
              "metadata": {},
              "type": "html",
              "arguments": {}
            }
          },
          "data": {
            "text/html": [
              "<style scoped>\n  .ansiout {\n    display: block;\n    unicode-bidi: embed;\n    white-space: pre-wrap;\n    word-wrap: break-word;\n    word-break: break-all;\n    font-family: \"Source Code Pro\", \"Menlo\", monospace;;\n    font-size: 13px;\n    color: #555;\n    margin-left: 4px;\n    line-height: 19px;\n  }\n</style>\n<div class=\"ansiout\"></div>"
            ]
          }
        }
      ],
      "execution_count": null
    },
    {
      "cell_type": "code",
      "source": [
        "#drop = ['DISTANCE', 'CRS_ARR_TIME', 'CRS_DEP_TIME', 'OP_CARRIER_AIRLINE_ID', 'OP_CARRIER_FL_NUM', 'DEP_TIMESTAMP', 'DEP_TIMESTAMP_UTC', 'DEP_TIMESTAMP_UTC_MINUS2', 'WX_STATION_ORIG', 'WX_STATION_DEST', 'CALL_SIGN_ORG', 'WX_TIMESTAMP_UTC_START_ORG', 'WX_TIMESTAMP_UTC_END_ORG', 'CALL_SIGN_DEST', 'WX_TIMESTAMP_UTC_START_DEST', 'WX_TIMESTAMP_UTC_END_DEST', 'DEST_AIRPORT_ID', 'DEST_CITY_MARKET_ID', 'ORIGIN_AIRPORT_ID', 'ORIGIN_CITY_MARKET_ID', 'join_year', 'year_start','FL_DATE', 'YEAR', 'QUARTER', 'DEST_STATE_FIPS', 'DISTANCE_GROUP', 'BAD_TRAVEL_DAY','WND_ORG', 'GUST_ORG', 'TCB_ORG', 'OBSC_ORG', 'SNW_ORG', 'FZFG_ORG', 'FZDZ_ORG', 'FZRA_ORG', 'TSRA_ORG', 'HSN_ORG', 'LSN_ORG', 'BSN_ORG', 'VV_ORG', 'TS_ORG', 'HAIL_ORG', 'FOG_ORG', 'VA_ORG', 'BR_ORG', 'SQ_ORG', 'FC_ORG',  'SLP_DEST', 'VIS_DEST', 'TMP_DEST', 'DEW_DEST','WND_DEST', 'GUST_DEST', 'TCB_DEST', 'OBSC_DEST','SNW_DEST', 'FZFG_DEST', 'FZDZ_DEST', 'FZRA_DEST', 'TSRA_DEST', 'HSN_DEST', 'LSN_DEST', 'BSN_DEST', 'VV_DEST', 'TS_DEST', 'HAIL_DEST', 'FOG_DEST', 'VA_DEST', 'BR_DEST', 'SQ_DEST', 'FC_DEST', 'DEP_TIME_SEGMENT']"
      ],
      "metadata": {
        "application/vnd.databricks.v1+cell": {
          "title": "",
          "showTitle": false,
          "inputWidgets": {},
          "nuid": "194e57d8-98aa-4c84-af43-d0c1f3b06c2d"
        },
        "id": "1J__Miy8mFN2",
        "outputId": "137d4f78-f44e-4eaf-b530-4451c5c91b63"
      },
      "outputs": [
        {
          "output_type": "display_data",
          "metadata": {
            "application/vnd.databricks.v1+output": {
              "datasetInfos": [],
              "data": "<div class=\"ansiout\"></div>",
              "removedWidgets": [],
              "addedWidgets": {},
              "metadata": {},
              "type": "html",
              "arguments": {}
            }
          },
          "data": {
            "text/html": [
              "<style scoped>\n  .ansiout {\n    display: block;\n    unicode-bidi: embed;\n    white-space: pre-wrap;\n    word-wrap: break-word;\n    word-break: break-all;\n    font-family: \"Source Code Pro\", \"Menlo\", monospace;;\n    font-size: 13px;\n    color: #555;\n    margin-left: 4px;\n    line-height: 19px;\n  }\n</style>\n<div class=\"ansiout\"></div>"
            ]
          }
        }
      ],
      "execution_count": null
    },
    {
      "cell_type": "markdown",
      "source": [
        "- Columns that need one-hot-encoding (and string indexing)"
      ],
      "metadata": {
        "application/vnd.databricks.v1+cell": {
          "title": "",
          "showTitle": false,
          "inputWidgets": {},
          "nuid": "995b18d1-d773-4ef6-a054-88921861a6b4"
        },
        "id": "Utax4jccmFN2"
      }
    },
    {
      "cell_type": "code",
      "source": [
        "need_ohe = ['YEAR','QUARTER', 'MONTH', 'DAY_OF_MONTH', 'DAY_OF_WEEK', 'OP_UNIQUE_CARRIER', 'ORIGIN', 'ORIGIN_STATE_FIPS', 'DEST', 'DEST_STATE_FIPS', 'DEP_TIME_BLK', 'ARR_TIME_BLK', 'DISTANCE_GROUP', 'BAD_TRAVEL_DAY', 'DEP_TIME_SEGMENT']"
      ],
      "metadata": {
        "application/vnd.databricks.v1+cell": {
          "title": "",
          "showTitle": false,
          "inputWidgets": {},
          "nuid": "2d4e8526-ca0a-4fee-9038-a572cf439aa8"
        },
        "id": "ecF5V711mFN2",
        "outputId": "2cace6f4-f5d6-4aa4-f7de-369a59d5e612"
      },
      "outputs": [
        {
          "output_type": "display_data",
          "metadata": {
            "application/vnd.databricks.v1+output": {
              "datasetInfos": [],
              "data": "<div class=\"ansiout\"></div>",
              "removedWidgets": [],
              "addedWidgets": {},
              "metadata": {},
              "type": "html",
              "arguments": {}
            }
          },
          "data": {
            "text/html": [
              "<style scoped>\n  .ansiout {\n    display: block;\n    unicode-bidi: embed;\n    white-space: pre-wrap;\n    word-wrap: break-word;\n    word-break: break-all;\n    font-family: \"Source Code Pro\", \"Menlo\", monospace;;\n    font-size: 13px;\n    color: #555;\n    margin-left: 4px;\n    line-height: 19px;\n  }\n</style>\n<div class=\"ansiout\"></div>"
            ]
          }
        }
      ],
      "execution_count": null
    },
    {
      "cell_type": "code",
      "source": [
        "#need_ohe = ['MONTH', 'DAY_OF_MONTH', 'DAY_OF_WEEK', 'OP_UNIQUE_CARRIER', 'ORIGIN', 'ORIGIN_STATE_FIPS', 'DEST', 'DEP_TIME_BLK', 'ARR_TIME_BLK']"
      ],
      "metadata": {
        "application/vnd.databricks.v1+cell": {
          "title": "",
          "showTitle": false,
          "inputWidgets": {},
          "nuid": "7c689e53-2a6c-41c5-bd74-856b57f41f13"
        },
        "id": "VcuCLmwSmFN3",
        "outputId": "53fd1d8d-a34a-47c9-e08e-f823ecf5ed92"
      },
      "outputs": [
        {
          "output_type": "display_data",
          "metadata": {
            "application/vnd.databricks.v1+output": {
              "datasetInfos": [],
              "data": "<div class=\"ansiout\"></div>",
              "removedWidgets": [],
              "addedWidgets": {},
              "metadata": {},
              "type": "html",
              "arguments": {}
            }
          },
          "data": {
            "text/html": [
              "<style scoped>\n  .ansiout {\n    display: block;\n    unicode-bidi: embed;\n    white-space: pre-wrap;\n    word-wrap: break-word;\n    word-break: break-all;\n    font-family: \"Source Code Pro\", \"Menlo\", monospace;;\n    font-size: 13px;\n    color: #555;\n    margin-left: 4px;\n    line-height: 19px;\n  }\n</style>\n<div class=\"ansiout\"></div>"
            ]
          }
        }
      ],
      "execution_count": null
    },
    {
      "cell_type": "markdown",
      "source": [
        "- Weather continuous features that require normalization or standardization"
      ],
      "metadata": {
        "application/vnd.databricks.v1+cell": {
          "title": "",
          "showTitle": false,
          "inputWidgets": {},
          "nuid": "19a1b8f5-e589-4f46-9797-bef613115e2a"
        },
        "id": "HSJQWVMUmFN3"
      }
    },
    {
      "cell_type": "code",
      "source": [
        "features_numerical = ['ELEVATION_ORG', 'ELEVATION_DEST', 'SNW_DEST', 'SNW_ORG', 'CIG_ORG', 'WND_ORG', 'GUST_ORG',  'VIS_DEST', 'CIG_DEST', 'WND_DEST', 'GUST_DEST', 'p_rank']"
      ],
      "metadata": {
        "application/vnd.databricks.v1+cell": {
          "title": "",
          "showTitle": false,
          "inputWidgets": {},
          "nuid": "884e1fb7-72f6-4566-8423-603e45113fb9"
        },
        "id": "4hTIwP4TmFN3",
        "outputId": "1bbd1da4-8190-472e-a134-ee76007fff9a"
      },
      "outputs": [
        {
          "output_type": "display_data",
          "metadata": {
            "application/vnd.databricks.v1+output": {
              "datasetInfos": [],
              "data": "<div class=\"ansiout\"></div>",
              "removedWidgets": [],
              "addedWidgets": {},
              "metadata": {},
              "type": "html",
              "arguments": {}
            }
          },
          "data": {
            "text/html": [
              "<style scoped>\n  .ansiout {\n    display: block;\n    unicode-bidi: embed;\n    white-space: pre-wrap;\n    word-wrap: break-word;\n    word-break: break-all;\n    font-family: \"Source Code Pro\", \"Menlo\", monospace;;\n    font-size: 13px;\n    color: #555;\n    margin-left: 4px;\n    line-height: 19px;\n  }\n</style>\n<div class=\"ansiout\"></div>"
            ]
          }
        }
      ],
      "execution_count": null
    },
    {
      "cell_type": "code",
      "source": [
        "#features_numerical = ['ELEVATION_ORG', 'ELEVATION_DEST', 'CIG_ORG', 'CIG_DEST', 'p_rank']"
      ],
      "metadata": {
        "application/vnd.databricks.v1+cell": {
          "title": "",
          "showTitle": false,
          "inputWidgets": {},
          "nuid": "b0ca22e1-e5a6-4ef8-aa60-80f7b26fed85"
        },
        "id": "jMgZg_vUmFN4",
        "outputId": "34f0169c-5c3e-487a-f930-05885f0ba1ff"
      },
      "outputs": [
        {
          "output_type": "display_data",
          "metadata": {
            "application/vnd.databricks.v1+output": {
              "datasetInfos": [],
              "data": "<div class=\"ansiout\"></div>",
              "removedWidgets": [],
              "addedWidgets": {},
              "metadata": {},
              "type": "html",
              "arguments": {}
            }
          },
          "data": {
            "text/html": [
              "<style scoped>\n  .ansiout {\n    display: block;\n    unicode-bidi: embed;\n    white-space: pre-wrap;\n    word-wrap: break-word;\n    word-break: break-all;\n    font-family: \"Source Code Pro\", \"Menlo\", monospace;;\n    font-size: 13px;\n    color: #555;\n    margin-left: 4px;\n    line-height: 19px;\n  }\n</style>\n<div class=\"ansiout\"></div>"
            ]
          }
        }
      ],
      "execution_count": null
    },
    {
      "cell_type": "code",
      "source": [
        "# Null columns\n",
        "null_cols = ['SLP_ORG', 'VIS_ORG', 'TMP_ORG', 'PREC_ORG', 'DEW_ORG', 'SLP_DEST', 'TMP_DEST', 'DEW_DEST', 'PREC_DEST']"
      ],
      "metadata": {
        "application/vnd.databricks.v1+cell": {
          "title": "",
          "showTitle": false,
          "inputWidgets": {},
          "nuid": "74bde2fd-67cf-4fdc-9801-6c7b5c0063cf"
        },
        "id": "qwAMFrRQmFN4",
        "outputId": "9586d1ea-7caf-4cd6-a12a-2e6a8bc69f7e"
      },
      "outputs": [
        {
          "output_type": "display_data",
          "metadata": {
            "application/vnd.databricks.v1+output": {
              "datasetInfos": [],
              "data": "<div class=\"ansiout\"></div>",
              "removedWidgets": [],
              "addedWidgets": {},
              "metadata": {},
              "type": "html",
              "arguments": {}
            }
          },
          "data": {
            "text/html": [
              "<style scoped>\n  .ansiout {\n    display: block;\n    unicode-bidi: embed;\n    white-space: pre-wrap;\n    word-wrap: break-word;\n    word-break: break-all;\n    font-family: \"Source Code Pro\", \"Menlo\", monospace;;\n    font-size: 13px;\n    color: #555;\n    margin-left: 4px;\n    line-height: 19px;\n  }\n</style>\n<div class=\"ansiout\"></div>"
            ]
          }
        }
      ],
      "execution_count": null
    },
    {
      "cell_type": "code",
      "source": [
        "#null_cols = ['TMP_ORG', 'PREC_ORG', 'DEW_ORG', 'PREC_DEST']"
      ],
      "metadata": {
        "application/vnd.databricks.v1+cell": {
          "title": "",
          "showTitle": false,
          "inputWidgets": {},
          "nuid": "e754aabc-3bbf-428c-b610-d9d3ce33c4a7"
        },
        "id": "wCzhOh14mFN4",
        "outputId": "f81f507f-33b0-4ec2-a756-2932a49f730e"
      },
      "outputs": [
        {
          "output_type": "display_data",
          "metadata": {
            "application/vnd.databricks.v1+output": {
              "datasetInfos": [],
              "data": "<div class=\"ansiout\"></div>",
              "removedWidgets": [],
              "addedWidgets": {},
              "metadata": {},
              "type": "html",
              "arguments": {}
            }
          },
          "data": {
            "text/html": [
              "<style scoped>\n  .ansiout {\n    display: block;\n    unicode-bidi: embed;\n    white-space: pre-wrap;\n    word-wrap: break-word;\n    word-break: break-all;\n    font-family: \"Source Code Pro\", \"Menlo\", monospace;;\n    font-size: 13px;\n    color: #555;\n    margin-left: 4px;\n    line-height: 19px;\n  }\n</style>\n<div class=\"ansiout\"></div>"
            ]
          }
        }
      ],
      "execution_count": null
    },
    {
      "cell_type": "markdown",
      "source": [
        "- Weather features that don't require one-hot-encoding (already int 1 or 0)"
      ],
      "metadata": {
        "application/vnd.databricks.v1+cell": {
          "title": "",
          "showTitle": false,
          "inputWidgets": {},
          "nuid": "0c9dfb3d-ce07-4387-8858-05a844a404b2"
        },
        "id": "dnKgX37omFN4"
      }
    },
    {
      "cell_type": "code",
      "source": [
        "wx_categorical = ['TCB_ORG', 'OBSC_ORG', 'FZFG_ORG', 'FZDZ_ORG', 'FZRA_ORG', 'TSRA_ORG', 'HSN_ORG', 'LSN_ORG', 'BSN_ORG', 'VV_ORG', 'TS_ORG', 'HAIL_ORG', 'FOG_ORG', 'VA_ORG', 'BR_ORG', 'SQ_ORG', 'FC_ORG', 'TCB_DEST', 'OBSC_DEST', 'FZFG_DEST', 'FZDZ_DEST', 'FZRA_DEST', 'TSRA_DEST', 'HSN_DEST', 'LSN_DEST', 'BSN_DEST', 'VV_DEST', 'TS_DEST', 'HAIL_DEST', 'FOG_DEST', 'VA_DEST', 'BR_DEST', 'SQ_DEST', 'FC_DEST']"
      ],
      "metadata": {
        "application/vnd.databricks.v1+cell": {
          "title": "",
          "showTitle": false,
          "inputWidgets": {},
          "nuid": "836b58ed-2eee-44b6-978b-604fbad57c2a"
        },
        "id": "nQu9CrF1mFN4",
        "outputId": "58122e25-fcd9-4a5a-c19c-0377ca3a6aad"
      },
      "outputs": [
        {
          "output_type": "display_data",
          "metadata": {
            "application/vnd.databricks.v1+output": {
              "datasetInfos": [],
              "data": "<div class=\"ansiout\"></div>",
              "removedWidgets": [],
              "addedWidgets": {},
              "metadata": {},
              "type": "html",
              "arguments": {}
            }
          },
          "data": {
            "text/html": [
              "<style scoped>\n  .ansiout {\n    display: block;\n    unicode-bidi: embed;\n    white-space: pre-wrap;\n    word-wrap: break-word;\n    word-break: break-all;\n    font-family: \"Source Code Pro\", \"Menlo\", monospace;;\n    font-size: 13px;\n    color: #555;\n    margin-left: 4px;\n    line-height: 19px;\n  }\n</style>\n<div class=\"ansiout\"></div>"
            ]
          }
        }
      ],
      "execution_count": null
    },
    {
      "cell_type": "code",
      "source": [
        "#wx_categorical = []"
      ],
      "metadata": {
        "application/vnd.databricks.v1+cell": {
          "title": "",
          "showTitle": false,
          "inputWidgets": {},
          "nuid": "9fc191e4-935a-48d2-84ce-626176cc3cca"
        },
        "id": "v9w61cjnmFN5",
        "outputId": "ef1728c4-c9a4-442c-ade8-91d3aa803929"
      },
      "outputs": [
        {
          "output_type": "display_data",
          "metadata": {
            "application/vnd.databricks.v1+output": {
              "datasetInfos": [],
              "data": "<div class=\"ansiout\"></div>",
              "removedWidgets": [],
              "addedWidgets": {},
              "metadata": {},
              "type": "html",
              "arguments": {}
            }
          },
          "data": {
            "text/html": [
              "<style scoped>\n  .ansiout {\n    display: block;\n    unicode-bidi: embed;\n    white-space: pre-wrap;\n    word-wrap: break-word;\n    word-break: break-all;\n    font-family: \"Source Code Pro\", \"Menlo\", monospace;;\n    font-size: 13px;\n    color: #555;\n    margin-left: 4px;\n    line-height: 19px;\n  }\n</style>\n<div class=\"ansiout\"></div>"
            ]
          }
        }
      ],
      "execution_count": null
    },
    {
      "cell_type": "markdown",
      "source": [
        "### Pipeline Functions"
      ],
      "metadata": {
        "application/vnd.databricks.v1+cell": {
          "title": "",
          "showTitle": false,
          "inputWidgets": {},
          "nuid": "b7bf8eb9-b82e-49fd-b1c3-5ebdc541a407"
        },
        "id": "y3S8nR-ZmFN5"
      }
    },
    {
      "cell_type": "markdown",
      "source": [
        "#### Sampling\n",
        "- Found this function to undersample the majority class\n",
        "- This step is optional for now\n",
        "- Source: https://stackoverflow.com/questions/53978683/how-to-undersampling-the-majority-class-using-pyspark"
      ],
      "metadata": {
        "application/vnd.databricks.v1+cell": {
          "title": "",
          "showTitle": false,
          "inputWidgets": {},
          "nuid": "4e947bfb-7e7d-4246-83eb-04d3abd03e2a"
        },
        "id": "KRqookkFmFN5"
      }
    },
    {
      "cell_type": "markdown",
      "source": [
        "- Example: Passing in a ratio of 2.0 returns a majority class twice as large as the minority class."
      ],
      "metadata": {
        "application/vnd.databricks.v1+cell": {
          "title": "",
          "showTitle": false,
          "inputWidgets": {},
          "nuid": "f24218ba-a1da-4c9b-8bc0-c6fa7072b57a"
        },
        "id": "UKl212qfmFN5"
      }
    },
    {
      "cell_type": "code",
      "source": [
        "def resample(base_features,ratio,class_field,base_class):\n",
        "    pos = base_features.filter(col(class_field)==base_class)\n",
        "    neg = base_features.filter(col(class_field)!=base_class)\n",
        "    total_pos = pos.count()\n",
        "    total_neg = neg.count()\n",
        "    fraction = float(total_pos*ratio)/float(total_neg)\n",
        "    sampled = neg.sample(False, fraction)\n",
        "    return sampled.union(pos)"
      ],
      "metadata": {
        "application/vnd.databricks.v1+cell": {
          "title": "",
          "showTitle": false,
          "inputWidgets": {},
          "nuid": "382f6aef-cd07-4a99-a1bb-7e69c8b3d315"
        },
        "id": "Ip_izBJQmFN5",
        "outputId": "6a06f419-ea76-4f4e-8f23-797592de880f"
      },
      "outputs": [
        {
          "output_type": "display_data",
          "metadata": {
            "application/vnd.databricks.v1+output": {
              "datasetInfos": [],
              "data": "<div class=\"ansiout\"></div>",
              "removedWidgets": [],
              "addedWidgets": {},
              "metadata": {},
              "type": "html",
              "arguments": {}
            }
          },
          "data": {
            "text/html": [
              "<style scoped>\n  .ansiout {\n    display: block;\n    unicode-bidi: embed;\n    white-space: pre-wrap;\n    word-wrap: break-word;\n    word-break: break-all;\n    font-family: \"Source Code Pro\", \"Menlo\", monospace;;\n    font-size: 13px;\n    color: #555;\n    margin-left: 4px;\n    line-height: 19px;\n  }\n</style>\n<div class=\"ansiout\"></div>"
            ]
          }
        }
      ],
      "execution_count": null
    },
    {
      "cell_type": "markdown",
      "source": [
        "#### Train/Test Split for Small Dataset"
      ],
      "metadata": {
        "application/vnd.databricks.v1+cell": {
          "title": "",
          "showTitle": false,
          "inputWidgets": {},
          "nuid": "50cb9e4b-952a-4b4b-9586-09e417bfe488"
        },
        "id": "myhiziwPmFN6"
      }
    },
    {
      "cell_type": "code",
      "source": [
        "def get_split_small(df):\n",
        "    # Splitting the data into training and testing, with 80% of the dates in the training set and the remaining 20% in the testing set\n",
        "    df = df.drop(*drop)\n",
        "    joined_data_sorted = df.withColumn(\"rank_p\", percent_rank().over(Window.partitionBy().orderBy(\"FL_DATE\")))\n",
        "    train_df = joined_data_sorted.where(\"rank_p <= .8\").drop(\"rank_p\", \"FL_DATE\")\n",
        "    test_df = joined_data_sorted.where(\"rank_p > .8\").drop(\"rank_p\", \"FL_DATE\")\n",
        "    return train_df, test_df"
      ],
      "metadata": {
        "application/vnd.databricks.v1+cell": {
          "title": "",
          "showTitle": false,
          "inputWidgets": {},
          "nuid": "0cf0d92f-5caf-4bca-a8ed-09317da5e9b9"
        },
        "id": "CgghpSOnmFN6",
        "outputId": "ddb2c120-2334-4a99-cfa9-f1577cfd54fe"
      },
      "outputs": [
        {
          "output_type": "display_data",
          "metadata": {
            "application/vnd.databricks.v1+output": {
              "datasetInfos": [],
              "data": "<div class=\"ansiout\"></div>",
              "removedWidgets": [],
              "addedWidgets": {},
              "metadata": {},
              "type": "html",
              "arguments": {}
            }
          },
          "data": {
            "text/html": [
              "<style scoped>\n  .ansiout {\n    display: block;\n    unicode-bidi: embed;\n    white-space: pre-wrap;\n    word-wrap: break-word;\n    word-break: break-all;\n    font-family: \"Source Code Pro\", \"Menlo\", monospace;;\n    font-size: 13px;\n    color: #555;\n    margin-left: 4px;\n    line-height: 19px;\n  }\n</style>\n<div class=\"ansiout\"></div>"
            ]
          }
        }
      ],
      "execution_count": null
    },
    {
      "cell_type": "markdown",
      "source": [
        "#### Train/Test Split for Large Dataset"
      ],
      "metadata": {
        "application/vnd.databricks.v1+cell": {
          "title": "",
          "showTitle": false,
          "inputWidgets": {},
          "nuid": "2b499586-c624-4f08-b223-049697183c4f"
        },
        "id": "uXUPPOd2mFN6"
      }
    },
    {
      "cell_type": "code",
      "source": [
        "def get_split_large(df):\n",
        "    df = df.drop(*drop)\n",
        "    train_df = df.where(col('YEAR') != '2018').drop(\"FL_DATE\")\n",
        "    test_df = df.where(col('YEAR') == '2018').drop(\"FL_DATE\")\n",
        "    return train_df, test_df"
      ],
      "metadata": {
        "application/vnd.databricks.v1+cell": {
          "title": "",
          "showTitle": false,
          "inputWidgets": {},
          "nuid": "6dbcdd1c-16fc-4354-8546-a119beebd1ed"
        },
        "id": "yADAROl2mFN6",
        "outputId": "5dbb9582-6428-414e-b1c1-97f06ee706ac"
      },
      "outputs": [
        {
          "output_type": "display_data",
          "metadata": {
            "application/vnd.databricks.v1+output": {
              "datasetInfos": [],
              "data": "<div class=\"ansiout\"></div>",
              "removedWidgets": [],
              "addedWidgets": {},
              "metadata": {},
              "type": "html",
              "arguments": {}
            }
          },
          "data": {
            "text/html": [
              "<style scoped>\n  .ansiout {\n    display: block;\n    unicode-bidi: embed;\n    white-space: pre-wrap;\n    word-wrap: break-word;\n    word-break: break-all;\n    font-family: \"Source Code Pro\", \"Menlo\", monospace;;\n    font-size: 13px;\n    color: #555;\n    margin-left: 4px;\n    line-height: 19px;\n  }\n</style>\n<div class=\"ansiout\"></div>"
            ]
          }
        }
      ],
      "execution_count": null
    },
    {
      "cell_type": "markdown",
      "source": [
        "#### Balance Ratio for Logistic Regression"
      ],
      "metadata": {
        "application/vnd.databricks.v1+cell": {
          "title": "",
          "showTitle": false,
          "inputWidgets": {},
          "nuid": "9c1423e5-df45-4993-843b-b87a376c31dd"
        },
        "id": "hqVUcgcrmFN6"
      }
    },
    {
      "cell_type": "markdown",
      "source": [
        "- Creates a new columns called `class_weights` with class percentages that gets passed into the logistic regression as a parameter (`weightCol`)"
      ],
      "metadata": {
        "application/vnd.databricks.v1+cell": {
          "title": "",
          "showTitle": false,
          "inputWidgets": {},
          "nuid": "53bd95c2-5d2a-49f7-ad5e-ba3ec1b262ed"
        },
        "id": "K_undpC0mFN7"
      }
    },
    {
      "cell_type": "code",
      "source": [
        "def balance_ratio(train_df):\n",
        "    balance_ratio = train_df.select('DEP_DEL15').filter(col('DEP_DEL15') == 0).count() / train_df.count()\n",
        "    train_df = train_df.withColumn('class_weights', when(train_df.DEP_DEL15 == 1, balance_ratio).otherwise(1 - balance_ratio))\n",
        "    return train_df"
      ],
      "metadata": {
        "application/vnd.databricks.v1+cell": {
          "title": "",
          "showTitle": false,
          "inputWidgets": {},
          "nuid": "95300da6-c85f-4829-8eb5-6c5033967b16"
        },
        "id": "wflWChnmmFN7",
        "outputId": "72122162-4925-44c0-93d2-96a31d712173"
      },
      "outputs": [
        {
          "output_type": "display_data",
          "metadata": {
            "application/vnd.databricks.v1+output": {
              "datasetInfos": [],
              "data": "<div class=\"ansiout\"></div>",
              "removedWidgets": [],
              "addedWidgets": {},
              "metadata": {},
              "type": "html",
              "arguments": {}
            }
          },
          "data": {
            "text/html": [
              "<style scoped>\n  .ansiout {\n    display: block;\n    unicode-bidi: embed;\n    white-space: pre-wrap;\n    word-wrap: break-word;\n    word-break: break-all;\n    font-family: \"Source Code Pro\", \"Menlo\", monospace;;\n    font-size: 13px;\n    color: #555;\n    margin-left: 4px;\n    line-height: 19px;\n  }\n</style>\n<div class=\"ansiout\"></div>"
            ]
          }
        }
      ],
      "execution_count": null
    },
    {
      "cell_type": "markdown",
      "source": [
        "#### Model Evaluation"
      ],
      "metadata": {
        "application/vnd.databricks.v1+cell": {
          "title": "",
          "showTitle": false,
          "inputWidgets": {},
          "nuid": "6a09540f-24c2-46fa-923c-5acfe2c65709"
        },
        "id": "EnYoLc71mFN7"
      }
    },
    {
      "cell_type": "code",
      "source": [
        "# Evaluate the model on validation set\n",
        "def model_evaluation(results):\n",
        "    # Input: prediction results\n",
        "    \n",
        "    predictionAndLabels = results.select(['prediction', 'label']\\\n",
        "                                      ).withColumn('label',col('label').cast(DoubleType())).rdd\n",
        "\n",
        "    metrics = MulticlassMetrics(predictionAndLabels)\n",
        "    conf_matrix = metrics.confusionMatrix().toArray()\n",
        "    \n",
        "    accuracy = (conf_matrix[0][0] + conf_matrix[1][1]) / conf_matrix.sum()\n",
        "    precision = (conf_matrix[1][1]) / (conf_matrix[0][1] + conf_matrix[1][1])\n",
        "    recall = (conf_matrix[1][1]) / (conf_matrix[1][0] + conf_matrix[1][1])\n",
        "    f1 = (2 * precision * recall)/(precision + recall)\n",
        "    f05 = 1.25 * ((precision * recall) / ((0.25 * precision) + recall))\n",
        "    f2 = 5 * ((precision * recall) / ((4 * precision) + recall))\n",
        "        \n",
        "    print(f'Accuracy = {accuracy:.4f}')\n",
        "    print(f'Precision = {precision:.4f}')\n",
        "    print(f'Recall = {recall:.4f}')\n",
        "    print(f'F1-Score = {f1:.4f}')\n",
        "    print(f'F05-Score = {f05:.4f}')\n",
        "    print(f'F2-Score = {f2:.4f}')\n",
        "    print(f'TP = {conf_matrix[1][1]:.0f}')\n",
        "    print(f'FN = {conf_matrix[1][0]:.0f}')\n",
        "    print(f'TN = {conf_matrix[0][0]:.0f}')\n",
        "    print(f'FP = {conf_matrix[0][1]:.0f}')\n",
        "    print(f\"Total Records: {conf_matrix[0][0] + conf_matrix[1][1] + conf_matrix[0][1] + conf_matrix[1][0]:.0f}\")"
      ],
      "metadata": {
        "application/vnd.databricks.v1+cell": {
          "title": "",
          "showTitle": false,
          "inputWidgets": {},
          "nuid": "f631c836-a474-4705-a148-ca705790b9a9"
        },
        "id": "9aSpKwa5mFN7",
        "outputId": "3475ffbc-6ce2-4e7a-b1e9-932e8997daf1"
      },
      "outputs": [
        {
          "output_type": "display_data",
          "metadata": {
            "application/vnd.databricks.v1+output": {
              "datasetInfos": [],
              "data": "<div class=\"ansiout\"></div>",
              "removedWidgets": [],
              "addedWidgets": {},
              "metadata": {},
              "type": "html",
              "arguments": {}
            }
          },
          "data": {
            "text/html": [
              "<style scoped>\n  .ansiout {\n    display: block;\n    unicode-bidi: embed;\n    white-space: pre-wrap;\n    word-wrap: break-word;\n    word-break: break-all;\n    font-family: \"Source Code Pro\", \"Menlo\", monospace;;\n    font-size: 13px;\n    color: #555;\n    margin-left: 4px;\n    line-height: 19px;\n  }\n</style>\n<div class=\"ansiout\"></div>"
            ]
          }
        }
      ],
      "execution_count": null
    },
    {
      "cell_type": "markdown",
      "source": [
        "#### Pipleline Function"
      ],
      "metadata": {
        "application/vnd.databricks.v1+cell": {
          "title": "",
          "showTitle": false,
          "inputWidgets": {},
          "nuid": "89c028f9-58f5-456e-ac6c-43c6f221793b"
        },
        "id": "GkUq0IQwmFN8"
      }
    },
    {
      "cell_type": "code",
      "source": [
        "# This pipeline is only used for data preprocessing and the passed model is ignored\n",
        "def get_pipeline(model, ohe_cols, num_cols, wx_cat, null_col, minmax_std='minmax', pca_k=None):\n",
        "    \n",
        "    stages = []\n",
        "    \n",
        "    # one-hot-encoding\n",
        "    stringIndexer = StringIndexer(inputCols=ohe_cols, outputCols=[x + \"_Index\" for x in ohe_cols], handleInvalid = 'keep')    \n",
        "    encoder = OneHotEncoder(inputCols=stringIndexer.getOutputCols(), outputCols=[x + \"_OHE\" for x in need_ohe]) \n",
        "    stages += [stringIndexer, encoder]  \n",
        "    \n",
        "    # label indexing\n",
        "    labelToIndex = StringIndexer(inputCol=\"DEP_DEL15\", outputCol=\"label\")\n",
        "    stages += [labelToIndex]\n",
        "    \n",
        "    # Imputation with mean\n",
        "    imputer = Imputer(strategy='mean', inputCols=null_col, outputCols=[x + \"_imp\" for x in null_col])\n",
        "    stages += [imputer]\n",
        "    \n",
        "    # Normalization/Standardization   \n",
        "    if minmax_std == 'minmax':\n",
        "        scaler_cols = num_cols + [c + \"_imp\" for c in null_col]\n",
        "        assembler_1 = VectorAssembler(inputCols=scaler_cols, outputCol='features_a', handleInvalid = 'keep')\n",
        "        stages += [assembler_1]\n",
        "        scaler = MinMaxScaler(inputCol='features_a', outputCol='features_scaled', min=0, max=1) \n",
        "        stages += [scaler]\n",
        "    elif minmax_std == 'std':\n",
        "        scaler_cols = num_cols + [c + \"_imp\" for c in null_col]\n",
        "        assembler_1 = VectorAssembler(inputCols=scaler_cols, outputCol='features_a', handleInvalid = 'keep')\n",
        "        stages += [assembler_1]\n",
        "        scaler = StandardScaler(inputCol=\"features_a\", outputCol=\"features_scaled\", withStd=True, withMean=False)\n",
        "        stages += [scaler]\n",
        "    elif minmax_std == None:\n",
        "        pass\n",
        "    else:\n",
        "        print('Invalid entry in minmax_std parameter')\n",
        "\n",
        "    # collecting inputs and assemble to one final vector for model\n",
        "    if minmax_std == None:\n",
        "        assembler_input = [c + \"_Index\" for c in ohe_cols] + num_cols + [c + \"_imp\" for c in null_col] + wx_cat\n",
        "        assembler_2 = VectorAssembler(inputCols=assembler_input, outputCol=\"features\", handleInvalid = 'keep')\n",
        "        stages += [assembler_2]\n",
        "    elif minmax_std == 'minmax' or minmax_std == 'std':\n",
        "        assembler_input = [c + \"_OHE\" for c in ohe_cols] + ['features_scaled'] + wx_cat\n",
        "        assembler_2 = VectorAssembler(inputCols=assembler_input, outputCol=\"features\", handleInvalid = 'keep')\n",
        "        stages += [assembler_2]\n",
        "    \n",
        "    # add pca component\n",
        "    if pca_k == None:\n",
        "        pass\n",
        "    else:\n",
        "        pca = PCA(k = pca_k, inputCol=\"features\", outputCol=\"features_pca\")\n",
        "        stages += [pca]\n",
        "    \n",
        "    #Not using the passed model as we are going to use our own algorithm from scratch\n",
        "    #stages += [model]\n",
        "    \n",
        "    return Pipeline(stages=stages)"
      ],
      "metadata": {
        "application/vnd.databricks.v1+cell": {
          "title": "",
          "showTitle": false,
          "inputWidgets": {},
          "nuid": "3b38d9cc-5ce8-4ed4-8883-d602f6840828"
        },
        "id": "_OgaMYLlmFN8",
        "outputId": "53bed979-1988-4a65-e835-87d9f616fba2"
      },
      "outputs": [
        {
          "output_type": "display_data",
          "metadata": {
            "application/vnd.databricks.v1+output": {
              "datasetInfos": [],
              "data": "<div class=\"ansiout\"></div>",
              "removedWidgets": [],
              "addedWidgets": {},
              "metadata": {},
              "type": "html",
              "arguments": {}
            }
          },
          "data": {
            "text/html": [
              "<style scoped>\n  .ansiout {\n    display: block;\n    unicode-bidi: embed;\n    white-space: pre-wrap;\n    word-wrap: break-word;\n    word-break: break-all;\n    font-family: \"Source Code Pro\", \"Menlo\", monospace;;\n    font-size: 13px;\n    color: #555;\n    margin-left: 4px;\n    line-height: 19px;\n  }\n</style>\n<div class=\"ansiout\"></div>"
            ]
          }
        }
      ],
      "execution_count": null
    },
    {
      "cell_type": "code",
      "source": [
        "# This model is not used\n",
        "model = LogisticRegression(featuresCol=\"features\", labelCol=\"label\", regParam=0.0, maxIter=50)\n"
      ],
      "metadata": {
        "application/vnd.databricks.v1+cell": {
          "title": "",
          "showTitle": false,
          "inputWidgets": {},
          "nuid": "fb400ffc-9a48-435d-9767-0d8efe1146c9"
        },
        "id": "vP9cGZBfmFN8",
        "outputId": "49f99702-ecd7-4252-f18f-fec4382a5aea"
      },
      "outputs": [
        {
          "output_type": "display_data",
          "metadata": {
            "application/vnd.databricks.v1+output": {
              "datasetInfos": [],
              "data": "<div class=\"ansiout\"></div>",
              "removedWidgets": [],
              "addedWidgets": {},
              "metadata": {},
              "type": "html",
              "arguments": {}
            }
          },
          "data": {
            "text/html": [
              "<style scoped>\n  .ansiout {\n    display: block;\n    unicode-bidi: embed;\n    white-space: pre-wrap;\n    word-wrap: break-word;\n    word-break: break-all;\n    font-family: \"Source Code Pro\", \"Menlo\", monospace;;\n    font-size: 13px;\n    color: #555;\n    margin-left: 4px;\n    line-height: 19px;\n  }\n</style>\n<div class=\"ansiout\"></div>"
            ]
          }
        }
      ],
      "execution_count": null
    },
    {
      "cell_type": "markdown",
      "source": [
        "#### Set up the pipeline"
      ],
      "metadata": {
        "application/vnd.databricks.v1+cell": {
          "title": "",
          "showTitle": false,
          "inputWidgets": {},
          "nuid": "66eec5bc-5569-47e3-be3a-b956aaec62d1"
        },
        "id": "DbJ3rasLmFN8"
      }
    },
    {
      "cell_type": "markdown",
      "source": [
        "**minmax_std parameter:**\n",
        "- False = returns pipeline without scaling of continuous features\n",
        "- 'minmax' = scales continuous features with `MinMaxScaler` (min=0, max=1)\n",
        "- 'std' = scales continuous features with `StandardScaler` (withStd=True, withMean=False)"
      ],
      "metadata": {
        "application/vnd.databricks.v1+cell": {
          "title": "",
          "showTitle": false,
          "inputWidgets": {},
          "nuid": "3621d31f-fdf1-43aa-8dac-02451bf0d02f"
        },
        "id": "pO98degHmFN8"
      }
    },
    {
      "cell_type": "code",
      "source": [
        "#need_ohe = ['YEAR', 'QUARTER', 'MONTH', 'DAY_OF_MONTH', 'DAY_OF_WEEK', 'OP_UNIQUE_CARRIER', 'ORIGIN', 'ORIGIN_STATE_FIPS', 'DEST', 'DEST_STATE_FIPS', 'DEP_TIME_BLK', 'ARR_TIME_BLK', 'DISTANCE_GROUP', 'BAD_TRAVEL_DAY', 'DEP_TIME_SEGMENT']\n",
        "# need_ohe = ['QUARTER', 'MONTH', 'DAY_OF_MONTH', 'DAY_OF_WEEK', 'OP_UNIQUE_CARRIER', 'ORIGIN', 'ORIGIN_STATE_FIPS', 'DEST', 'DEST_STATE_FIPS', 'DEP_TIME_BLK', 'ARR_TIME_BLK', 'DISTANCE_GROUP']\n",
        "\n",
        "#features_numerical = ['ELEVATION_ORG', 'ELEVATION_DEST', 'SNW_DEST', 'SNW_ORG', 'CIG_ORG', 'WND_ORG', 'GUST_ORG',  'VIS_DEST', 'CIG_DEST', 'WND_DEST', 'GUST_DEST', 'p_rank']\n",
        "# features_numerical = ['ELEVATION_ORG', 'ELEVATION_DEST', 'SNW_DEST', 'SNW_ORG', 'CIG_ORG', 'WND_ORG', 'GUST_ORG',  'VIS_DEST', 'CIG_DEST', 'WND_DEST', 'GUST_DEST']"
      ],
      "metadata": {
        "application/vnd.databricks.v1+cell": {
          "title": "",
          "showTitle": false,
          "inputWidgets": {},
          "nuid": "d5c75f71-c583-4468-846c-d3079a1de6e0"
        },
        "id": "4MowMRFBmFN8",
        "outputId": "60a37088-7aa5-47b5-d9ae-2dc882adbdc0"
      },
      "outputs": [
        {
          "output_type": "display_data",
          "metadata": {
            "application/vnd.databricks.v1+output": {
              "datasetInfos": [],
              "data": "<div class=\"ansiout\"></div>",
              "removedWidgets": [],
              "addedWidgets": {},
              "metadata": {},
              "type": "html",
              "arguments": {}
            }
          },
          "data": {
            "text/html": [
              "<style scoped>\n  .ansiout {\n    display: block;\n    unicode-bidi: embed;\n    white-space: pre-wrap;\n    word-wrap: break-word;\n    word-break: break-all;\n    font-family: \"Source Code Pro\", \"Menlo\", monospace;;\n    font-size: 13px;\n    color: #555;\n    margin-left: 4px;\n    line-height: 19px;\n  }\n</style>\n<div class=\"ansiout\"></div>"
            ]
          }
        }
      ],
      "execution_count": null
    },
    {
      "cell_type": "code",
      "source": [
        "pipeline = get_pipeline(model, need_ohe, features_numerical, wx_categorical, null_cols, minmax_std='minmax', pca_k=None)"
      ],
      "metadata": {
        "application/vnd.databricks.v1+cell": {
          "title": "",
          "showTitle": false,
          "inputWidgets": {},
          "nuid": "1fdc8cb2-5a86-4c28-9acf-0c636bf406b1"
        },
        "id": "UFpkqUm5mFN9",
        "outputId": "252c7992-2984-41d4-dc45-01d24e68eaeb"
      },
      "outputs": [
        {
          "output_type": "display_data",
          "metadata": {
            "application/vnd.databricks.v1+output": {
              "datasetInfos": [],
              "data": "<div class=\"ansiout\"></div>",
              "removedWidgets": [],
              "addedWidgets": {},
              "metadata": {},
              "type": "html",
              "arguments": {}
            }
          },
          "data": {
            "text/html": [
              "<style scoped>\n  .ansiout {\n    display: block;\n    unicode-bidi: embed;\n    white-space: pre-wrap;\n    word-wrap: break-word;\n    word-break: break-all;\n    font-family: \"Source Code Pro\", \"Menlo\", monospace;;\n    font-size: 13px;\n    color: #555;\n    margin-left: 4px;\n    line-height: 19px;\n  }\n</style>\n<div class=\"ansiout\"></div>"
            ]
          }
        }
      ],
      "execution_count": null
    },
    {
      "cell_type": "code",
      "source": [
        "pipeline.getStages()"
      ],
      "metadata": {
        "application/vnd.databricks.v1+cell": {
          "title": "",
          "showTitle": false,
          "inputWidgets": {},
          "nuid": "7223f0ed-2f4e-49be-84fc-79c84c80b8e8"
        },
        "id": "1D6scs28mFN9",
        "outputId": "13238549-8682-4bb8-c52e-7c3e02e63f29"
      },
      "outputs": [
        {
          "output_type": "display_data",
          "metadata": {
            "application/vnd.databricks.v1+output": {
              "datasetInfos": [],
              "data": "<div class=\"ansiout\">Out[17]: [StringIndexer_ffae98679e6d,\n OneHotEncoder_b38e62ebe5f3,\n StringIndexer_3241056b23e2,\n Imputer_81339dcf99fe,\n VectorAssembler_9b0b62bfe460,\n MinMaxScaler_ba2c7f66e715,\n VectorAssembler_c3b561549795]</div>",
              "removedWidgets": [],
              "addedWidgets": {},
              "metadata": {},
              "type": "html",
              "arguments": {}
            }
          },
          "data": {
            "text/html": [
              "<style scoped>\n  .ansiout {\n    display: block;\n    unicode-bidi: embed;\n    white-space: pre-wrap;\n    word-wrap: break-word;\n    word-break: break-all;\n    font-family: \"Source Code Pro\", \"Menlo\", monospace;;\n    font-size: 13px;\n    color: #555;\n    margin-left: 4px;\n    line-height: 19px;\n  }\n</style>\n<div class=\"ansiout\">Out[17]: [StringIndexer_ffae98679e6d,\n OneHotEncoder_b38e62ebe5f3,\n StringIndexer_3241056b23e2,\n Imputer_81339dcf99fe,\n VectorAssembler_9b0b62bfe460,\n MinMaxScaler_ba2c7f66e715,\n VectorAssembler_c3b561549795]</div>"
            ]
          }
        }
      ],
      "execution_count": null
    },
    {
      "cell_type": "markdown",
      "source": [
        "#### Get Train and Test Set"
      ],
      "metadata": {
        "application/vnd.databricks.v1+cell": {
          "title": "",
          "showTitle": false,
          "inputWidgets": {},
          "nuid": "5bba55b7-a603-46e4-8fbe-9198506e2966"
        },
        "id": "fnOmaiecmFN9"
      }
    },
    {
      "cell_type": "code",
      "source": [
        "# train/test split on small dataset\n",
        "train_df, test_df = get_split_small(joined_data_6M)\n",
        "\n",
        "# train/test split on large (2015-2018) dataset\n",
        "# train_df, test_df = get_split_large(joined_data_traintest)\n",
        "\n",
        "# # get holdout (2019) dataset\n",
        "# holdout = get_holdout(joined_data_holdout)"
      ],
      "metadata": {
        "application/vnd.databricks.v1+cell": {
          "title": "",
          "showTitle": false,
          "inputWidgets": {},
          "nuid": "d5438c28-b086-4e42-933b-e1410cd888b7"
        },
        "id": "Vcx3LZBBmFN9",
        "outputId": "7acb00e8-4254-42f5-8754-04b25ae88698"
      },
      "outputs": [
        {
          "output_type": "display_data",
          "metadata": {
            "application/vnd.databricks.v1+output": {
              "datasetInfos": [],
              "data": "<div class=\"ansiout\"></div>",
              "removedWidgets": [],
              "addedWidgets": {},
              "metadata": {},
              "type": "html",
              "arguments": {}
            }
          },
          "data": {
            "text/html": [
              "<style scoped>\n  .ansiout {\n    display: block;\n    unicode-bidi: embed;\n    white-space: pre-wrap;\n    word-wrap: break-word;\n    word-break: break-all;\n    font-family: \"Source Code Pro\", \"Menlo\", monospace;;\n    font-size: 13px;\n    color: #555;\n    margin-left: 4px;\n    line-height: 19px;\n  }\n</style>\n<div class=\"ansiout\"></div>"
            ]
          }
        }
      ],
      "execution_count": null
    },
    {
      "cell_type": "markdown",
      "source": [
        "- Downsample majority class in training set. The second parameter is the class ratio (e.g. 2 would result in a 2:1 majority class ration)"
      ],
      "metadata": {
        "application/vnd.databricks.v1+cell": {
          "title": "",
          "showTitle": false,
          "inputWidgets": {},
          "nuid": "71f47c95-0650-49ab-9fce-d4472d0bad58"
        },
        "id": "snCnAIs3mFN-"
      }
    },
    {
      "cell_type": "code",
      "source": [
        " train_df = resample(train_df, 1.6, 'DEP_DEL15', 1)"
      ],
      "metadata": {
        "application/vnd.databricks.v1+cell": {
          "title": "",
          "showTitle": false,
          "inputWidgets": {},
          "nuid": "b14cdd4f-8ed3-4547-b822-98e633a4eaf3"
        },
        "id": "lDLKKvgqmFN-",
        "outputId": "4b163969-adbd-4294-cfd6-c58d93ac872e"
      },
      "outputs": [
        {
          "output_type": "display_data",
          "metadata": {
            "application/vnd.databricks.v1+output": {
              "datasetInfos": [],
              "data": "<div class=\"ansiout\"></div>",
              "removedWidgets": [],
              "addedWidgets": {},
              "metadata": {},
              "type": "html",
              "arguments": {}
            }
          },
          "data": {
            "text/html": [
              "<style scoped>\n  .ansiout {\n    display: block;\n    unicode-bidi: embed;\n    white-space: pre-wrap;\n    word-wrap: break-word;\n    word-break: break-all;\n    font-family: \"Source Code Pro\", \"Menlo\", monospace;;\n    font-size: 13px;\n    color: #555;\n    margin-left: 4px;\n    line-height: 19px;\n  }\n</style>\n<div class=\"ansiout\"></div>"
            ]
          }
        }
      ],
      "execution_count": null
    },
    {
      "cell_type": "markdown",
      "source": [
        "#### Fit the dataset in the pipeline to generate the required features"
      ],
      "metadata": {
        "application/vnd.databricks.v1+cell": {
          "title": "",
          "showTitle": false,
          "inputWidgets": {},
          "nuid": "e6a0dd20-e234-4b53-bab3-6fe115abcbea"
        },
        "id": "WMk4T-XxmFN-"
      }
    },
    {
      "cell_type": "code",
      "source": [
        "pipelineModel = pipeline.fit(train_df)"
      ],
      "metadata": {
        "application/vnd.databricks.v1+cell": {
          "title": "",
          "showTitle": false,
          "inputWidgets": {},
          "nuid": "e0365e86-7ddf-4de7-b861-9c3546106fc7"
        },
        "id": "_cXMxPObmFN-",
        "outputId": "335e4527-b45e-487a-bb1c-e4cca98d2504"
      },
      "outputs": [
        {
          "output_type": "display_data",
          "metadata": {
            "application/vnd.databricks.v1+output": {
              "datasetInfos": [],
              "data": "<div class=\"ansiout\"></div>",
              "removedWidgets": [],
              "addedWidgets": {},
              "metadata": {},
              "type": "html",
              "arguments": {}
            }
          },
          "data": {
            "text/html": [
              "<style scoped>\n  .ansiout {\n    display: block;\n    unicode-bidi: embed;\n    white-space: pre-wrap;\n    word-wrap: break-word;\n    word-break: break-all;\n    font-family: \"Source Code Pro\", \"Menlo\", monospace;;\n    font-size: 13px;\n    color: #555;\n    margin-left: 4px;\n    line-height: 19px;\n  }\n</style>\n<div class=\"ansiout\"></div>"
            ]
          }
        }
      ],
      "execution_count": null
    },
    {
      "cell_type": "code",
      "source": [
        "train_df = pipelineModel.transform(train_df)"
      ],
      "metadata": {
        "application/vnd.databricks.v1+cell": {
          "title": "",
          "showTitle": false,
          "inputWidgets": {},
          "nuid": "79b36269-aa7b-4138-80af-232cf33b4975"
        },
        "id": "s0Pdo9vSmFN-",
        "outputId": "b5882f89-36f7-4dcb-b30f-8c25d47d2128"
      },
      "outputs": [
        {
          "output_type": "display_data",
          "metadata": {
            "application/vnd.databricks.v1+output": {
              "datasetInfos": [],
              "data": "<div class=\"ansiout\"></div>",
              "removedWidgets": [],
              "addedWidgets": {},
              "metadata": {},
              "type": "html",
              "arguments": {}
            }
          },
          "data": {
            "text/html": [
              "<style scoped>\n  .ansiout {\n    display: block;\n    unicode-bidi: embed;\n    white-space: pre-wrap;\n    word-wrap: break-word;\n    word-break: break-all;\n    font-family: \"Source Code Pro\", \"Menlo\", monospace;;\n    font-size: 13px;\n    color: #555;\n    margin-left: 4px;\n    line-height: 19px;\n  }\n</style>\n<div class=\"ansiout\"></div>"
            ]
          }
        }
      ],
      "execution_count": null
    },
    {
      "cell_type": "code",
      "source": [
        "display(train_df.where(train_df['DAY_OF_MONTH']=='2').limit(2))"
      ],
      "metadata": {
        "application/vnd.databricks.v1+cell": {
          "title": "",
          "showTitle": false,
          "inputWidgets": {},
          "nuid": "7008ebef-b8e7-441d-8eb1-d02c503eb3ac"
        },
        "id": "ENphgDi7mFN_",
        "outputId": "7042ae90-b3d1-4c90-d54f-75c8ffedbbe9"
      },
      "outputs": [
        {
          "output_type": "display_data",
          "metadata": {
            "application/vnd.databricks.v1+output": {
              "overflow": false,
              "datasetInfos": [],
              "data": [
                [
                  "2015",
                  "1",
                  "1",
                  "2",
                  "5",
                  "DL",
                  "ORD",
                  "17",
                  "ATL",
                  "13",
                  "0.0",
                  "0600-0659",
                  "0900-0959",
                  "3",
                  "0",
                  "2",
                  0.03558293972916778,
                  201.8,
                  1023,
                  "10.0",
                  "-7.20000",
                  "-9.40000",
                  72178,
                  "6.0",
                  "0.0",
                  0,
                  0,
                  "0.0",
                  "0.0",
                  0,
                  0,
                  0,
                  0,
                  0,
                  0,
                  0,
                  0,
                  0,
                  0,
                  0,
                  0,
                  0,
                  0,
                  0,
                  307.8,
                  1024,
                  "10.0",
                  "6.70000",
                  "5.00000",
                  7998,
                  "0.0",
                  "0.0",
                  0,
                  0,
                  "0.0",
                  "0.0",
                  0,
                  0,
                  0,
                  0,
                  0,
                  0,
                  0,
                  0,
                  0,
                  0,
                  0,
                  0,
                  0,
                  0,
                  0,
                  0,
                  0,
                  2,
                  16,
                  1,
                  0,
                  1,
                  1,
                  28,
                  12,
                  16,
                  14,
                  0,
                  0,
                  1,
                  {
                    "vectorType": "sparse",
                    "length": 1,
                    "indices": [
                      0
                    ],
                    "values": [
                      1
                    ]
                  },
                  {
                    "vectorType": "sparse",
                    "length": 2,
                    "indices": [
                      0
                    ],
                    "values": [
                      1
                    ]
                  },
                  {
                    "vectorType": "sparse",
                    "length": 5,
                    "indices": [
                      2
                    ],
                    "values": [
                      1
                    ]
                  },
                  {
                    "vectorType": "sparse",
                    "length": 31,
                    "indices": [
                      16
                    ],
                    "values": [
                      1
                    ]
                  },
                  {
                    "vectorType": "sparse",
                    "length": 7,
                    "indices": [
                      1
                    ],
                    "values": [
                      1
                    ]
                  },
                  {
                    "vectorType": "sparse",
                    "length": 13,
                    "indices": [
                      0
                    ],
                    "values": [
                      1
                    ]
                  },
                  {
                    "vectorType": "sparse",
                    "length": 2,
                    "indices": [
                      1
                    ],
                    "values": [
                      1
                    ]
                  },
                  {
                    "vectorType": "sparse",
                    "length": 2,
                    "indices": [
                      1
                    ],
                    "values": [
                      1
                    ]
                  },
                  {
                    "vectorType": "sparse",
                    "length": 194,
                    "indices": [
                      28
                    ],
                    "values": [
                      1
                    ]
                  },
                  {
                    "vectorType": "sparse",
                    "length": 51,
                    "indices": [
                      12
                    ],
                    "values": [
                      1
                    ]
                  },
                  {
                    "vectorType": "sparse",
                    "length": 19,
                    "indices": [
                      16
                    ],
                    "values": [
                      1
                    ]
                  },
                  {
                    "vectorType": "sparse",
                    "length": 19,
                    "indices": [
                      14
                    ],
                    "values": [
                      1
                    ]
                  },
                  {
                    "vectorType": "sparse",
                    "length": 10,
                    "indices": [
                      0
                    ],
                    "values": [
                      1
                    ]
                  },
                  {
                    "vectorType": "sparse",
                    "length": 1,
                    "indices": [
                      0
                    ],
                    "values": [
                      1
                    ]
                  },
                  {
                    "vectorType": "sparse",
                    "length": 4,
                    "indices": [
                      1
                    ],
                    "values": [
                      1
                    ]
                  },
                  0,
                  1023,
                  "10.0",
                  "-7.20000",
                  "0.0",
                  "-9.40000",
                  1024,
                  "6.70000",
                  "5.00000",
                  "0.0",
                  {
                    "vectorType": "dense",
                    "length": 21,
                    "values": [
                      201.8,
                      307.8,
                      0,
                      0,
                      72178,
                      6,
                      0,
                      10,
                      7998,
                      0,
                      0,
                      0.03558293972916778,
                      1023,
                      10,
                      -7.2,
                      0,
                      -9.4,
                      1024,
                      6.7,
                      5,
                      0
                    ]
                  },
                  {
                    "vectorType": "sparse",
                    "length": 21,
                    "indices": [
                      1,
                      4,
                      5,
                      7,
                      8,
                      12,
                      13,
                      14,
                      16,
                      17,
                      18,
                      19
                    ],
                    "values": [
                      0.13069534172050326,
                      1,
                      0.2006688963210702,
                      0.125,
                      0.11080938790213084,
                      0.6296296296296295,
                      1,
                      0.2782931354359926,
                      0.37627811860940685,
                      0.5694444444444444,
                      0.5461309523809524,
                      0.6377295492487479
                    ]
                  },
                  {
                    "vectorType": "sparse",
                    "length": 416,
                    "indices": [
                      0,
                      1,
                      5,
                      24,
                      40,
                      46,
                      60,
                      62,
                      91,
                      269,
                      324,
                      341,
                      346,
                      356,
                      358,
                      362,
                      365,
                      366,
                      368,
                      369,
                      373,
                      374,
                      375,
                      377,
                      378,
                      379,
                      380
                    ],
                    "values": [
                      1,
                      1,
                      1,
                      1,
                      1,
                      1,
                      1,
                      1,
                      1,
                      1,
                      1,
                      1,
                      1,
                      1,
                      1,
                      0.13069534172050326,
                      1,
                      0.2006688963210702,
                      0.125,
                      0.11080938790213084,
                      0.6296296296296295,
                      1,
                      0.2782931354359926,
                      0.37627811860940685,
                      0.5694444444444444,
                      0.5461309523809524,
                      0.6377295492487479
                    ]
                  }
                ],
                [
                  "2015",
                  "1",
                  "1",
                  "2",
                  "5",
                  "DL",
                  "ATL",
                  "13",
                  "MSP",
                  "27",
                  "0.0",
                  "0800-0859",
                  "1000-1059",
                  "4",
                  "0",
                  "2",
                  0.037677726640013585,
                  307.8,
                  1025,
                  "9.0",
                  "6.70000",
                  "5.00000",
                  6499,
                  "0.0",
                  "0.0",
                  0,
                  0,
                  "0.0",
                  "0.0",
                  0,
                  0,
                  0,
                  0,
                  0,
                  0,
                  0,
                  0,
                  0,
                  0,
                  0,
                  0,
                  0,
                  0,
                  0,
                  265.8,
                  1024,
                  "10.0",
                  "-13.30000",
                  "-18.30000",
                  72178,
                  "4.1",
                  "0.0",
                  0,
                  0,
                  "0.0",
                  "0.0",
                  0,
                  0,
                  0,
                  0,
                  0,
                  0,
                  0,
                  0,
                  0,
                  0,
                  0,
                  0,
                  0,
                  0,
                  0,
                  0,
                  0,
                  2,
                  16,
                  1,
                  0,
                  0,
                  0,
                  5,
                  18,
                  7,
                  5,
                  3,
                  0,
                  1,
                  {
                    "vectorType": "sparse",
                    "length": 1,
                    "indices": [
                      0
                    ],
                    "values": [
                      1
                    ]
                  },
                  {
                    "vectorType": "sparse",
                    "length": 2,
                    "indices": [
                      0
                    ],
                    "values": [
                      1
                    ]
                  },
                  {
                    "vectorType": "sparse",
                    "length": 5,
                    "indices": [
                      2
                    ],
                    "values": [
                      1
                    ]
                  },
                  {
                    "vectorType": "sparse",
                    "length": 31,
                    "indices": [
                      16
                    ],
                    "values": [
                      1
                    ]
                  },
                  {
                    "vectorType": "sparse",
                    "length": 7,
                    "indices": [
                      1
                    ],
                    "values": [
                      1
                    ]
                  },
                  {
                    "vectorType": "sparse",
                    "length": 13,
                    "indices": [
                      0
                    ],
                    "values": [
                      1
                    ]
                  },
                  {
                    "vectorType": "sparse",
                    "length": 2,
                    "indices": [
                      0
                    ],
                    "values": [
                      1
                    ]
                  },
                  {
                    "vectorType": "sparse",
                    "length": 2,
                    "indices": [
                      0
                    ],
                    "values": [
                      1
                    ]
                  },
                  {
                    "vectorType": "sparse",
                    "length": 194,
                    "indices": [
                      5
                    ],
                    "values": [
                      1
                    ]
                  },
                  {
                    "vectorType": "sparse",
                    "length": 51,
                    "indices": [
                      18
                    ],
                    "values": [
                      1
                    ]
                  },
                  {
                    "vectorType": "sparse",
                    "length": 19,
                    "indices": [
                      7
                    ],
                    "values": [
                      1
                    ]
                  },
                  {
                    "vectorType": "sparse",
                    "length": 19,
                    "indices": [
                      5
                    ],
                    "values": [
                      1
                    ]
                  },
                  {
                    "vectorType": "sparse",
                    "length": 10,
                    "indices": [
                      3
                    ],
                    "values": [
                      1
                    ]
                  },
                  {
                    "vectorType": "sparse",
                    "length": 1,
                    "indices": [
                      0
                    ],
                    "values": [
                      1
                    ]
                  },
                  {
                    "vectorType": "sparse",
                    "length": 4,
                    "indices": [
                      1
                    ],
                    "values": [
                      1
                    ]
                  },
                  0,
                  1025,
                  "9.0",
                  "6.70000",
                  "0.0",
                  "5.00000",
                  1024,
                  "-13.30000",
                  "-18.30000",
                  "0.0",
                  {
                    "vectorType": "dense",
                    "length": 21,
                    "values": [
                      307.8,
                      265.8,
                      0,
                      0,
                      6499,
                      0,
                      0,
                      10,
                      72178,
                      4.1,
                      0,
                      0.037677726640013585,
                      1025,
                      9,
                      6.7,
                      0,
                      5,
                      1024,
                      -13.3,
                      -18.3,
                      0
                    ]
                  },
                  {
                    "vectorType": "dense",
                    "length": 21,
                    "values": [
                      1,
                      0.11284427065623939,
                      0,
                      0,
                      0.0888041065482797,
                      0,
                      0,
                      0.125,
                      1,
                      0.10761154855643043,
                      0,
                      1,
                      0.6666666666666666,
                      0.9,
                      0.536178107606679,
                      0,
                      0.6707566462167688,
                      0.5694444444444444,
                      0.24851190476190474,
                      0.24874791318864778,
                      0
                    ]
                  },
                  {
                    "vectorType": "sparse",
                    "length": 416,
                    "indices": [
                      0,
                      1,
                      5,
                      24,
                      40,
                      46,
                      59,
                      61,
                      68,
                      275,
                      315,
                      332,
                      349,
                      356,
                      358,
                      361,
                      362,
                      365,
                      368,
                      369,
                      370,
                      372,
                      373,
                      374,
                      375,
                      377,
                      378,
                      379,
                      380
                    ],
                    "values": [
                      1,
                      1,
                      1,
                      1,
                      1,
                      1,
                      1,
                      1,
                      1,
                      1,
                      1,
                      1,
                      1,
                      1,
                      1,
                      1,
                      0.11284427065623939,
                      0.0888041065482797,
                      0.125,
                      1,
                      0.10761154855643043,
                      1,
                      0.6666666666666666,
                      0.9,
                      0.536178107606679,
                      0.6707566462167688,
                      0.5694444444444444,
                      0.24851190476190474,
                      0.24874791318864778
                    ]
                  }
                ]
              ],
              "plotOptions": {
                "displayType": "table",
                "customPlotOptions": {},
                "pivotColumns": null,
                "pivotAggregation": null,
                "xColumns": null,
                "yColumns": null
              },
              "columnCustomDisplayInfos": {},
              "aggType": "",
              "isJsonSchema": true,
              "removedWidgets": [],
              "aggSchema": [],
              "schema": [
                {
                  "name": "YEAR",
                  "type": "\"string\"",
                  "metadata": "{}"
                },
                {
                  "name": "QUARTER",
                  "type": "\"string\"",
                  "metadata": "{}"
                },
                {
                  "name": "MONTH",
                  "type": "\"string\"",
                  "metadata": "{}"
                },
                {
                  "name": "DAY_OF_MONTH",
                  "type": "\"string\"",
                  "metadata": "{}"
                },
                {
                  "name": "DAY_OF_WEEK",
                  "type": "\"string\"",
                  "metadata": "{}"
                },
                {
                  "name": "OP_UNIQUE_CARRIER",
                  "type": "\"string\"",
                  "metadata": "{}"
                },
                {
                  "name": "ORIGIN",
                  "type": "\"string\"",
                  "metadata": "{}"
                },
                {
                  "name": "ORIGIN_STATE_FIPS",
                  "type": "\"string\"",
                  "metadata": "{}"
                },
                {
                  "name": "DEST",
                  "type": "\"string\"",
                  "metadata": "{}"
                },
                {
                  "name": "DEST_STATE_FIPS",
                  "type": "\"string\"",
                  "metadata": "{}"
                },
                {
                  "name": "DEP_DEL15",
                  "type": "\"string\"",
                  "metadata": "{}"
                },
                {
                  "name": "DEP_TIME_BLK",
                  "type": "\"string\"",
                  "metadata": "{}"
                },
                {
                  "name": "ARR_TIME_BLK",
                  "type": "\"string\"",
                  "metadata": "{}"
                },
                {
                  "name": "DISTANCE_GROUP",
                  "type": "\"string\"",
                  "metadata": "{}"
                },
                {
                  "name": "BAD_TRAVEL_DAY",
                  "type": "\"string\"",
                  "metadata": "{}"
                },
                {
                  "name": "DEP_TIME_SEGMENT",
                  "type": "\"string\"",
                  "metadata": "{}"
                },
                {
                  "name": "p_rank",
                  "type": "\"double\"",
                  "metadata": "{}"
                },
                {
                  "name": "ELEVATION_ORG",
                  "type": "\"double\"",
                  "metadata": "{}"
                },
                {
                  "name": "SLP_ORG",
                  "type": "\"double\"",
                  "metadata": "{}"
                },
                {
                  "name": "VIS_ORG",
                  "type": "\"decimal(4,1)\"",
                  "metadata": "{}"
                },
                {
                  "name": "TMP_ORG",
                  "type": "\"decimal(8,5)\"",
                  "metadata": "{}"
                },
                {
                  "name": "DEW_ORG",
                  "type": "\"decimal(8,5)\"",
                  "metadata": "{}"
                },
                {
                  "name": "CIG_ORG",
                  "type": "\"integer\"",
                  "metadata": "{}"
                },
                {
                  "name": "WND_ORG",
                  "type": "\"decimal(4,1)\"",
                  "metadata": "{}"
                },
                {
                  "name": "GUST_ORG",
                  "type": "\"decimal(11,1)\"",
                  "metadata": "{}"
                },
                {
                  "name": "TCB_ORG",
                  "type": "\"integer\"",
                  "metadata": "{}"
                },
                {
                  "name": "OBSC_ORG",
                  "type": "\"integer\"",
                  "metadata": "{}"
                },
                {
                  "name": "PREC_ORG",
                  "type": "\"decimal(4,1)\"",
                  "metadata": "{}"
                },
                {
                  "name": "SNW_ORG",
                  "type": "\"decimal(11,1)\"",
                  "metadata": "{}"
                },
                {
                  "name": "FZFG_ORG",
                  "type": "\"integer\"",
                  "metadata": "{}"
                },
                {
                  "name": "FZDZ_ORG",
                  "type": "\"integer\"",
                  "metadata": "{}"
                },
                {
                  "name": "FZRA_ORG",
                  "type": "\"integer\"",
                  "metadata": "{}"
                },
                {
                  "name": "TSRA_ORG",
                  "type": "\"integer\"",
                  "metadata": "{}"
                },
                {
                  "name": "HSN_ORG",
                  "type": "\"integer\"",
                  "metadata": "{}"
                },
                {
                  "name": "LSN_ORG",
                  "type": "\"integer\"",
                  "metadata": "{}"
                },
                {
                  "name": "BSN_ORG",
                  "type": "\"integer\"",
                  "metadata": "{}"
                },
                {
                  "name": "VV_ORG",
                  "type": "\"integer\"",
                  "metadata": "{}"
                },
                {
                  "name": "TS_ORG",
                  "type": "\"integer\"",
                  "metadata": "{}"
                },
                {
                  "name": "HAIL_ORG",
                  "type": "\"integer\"",
                  "metadata": "{}"
                },
                {
                  "name": "FOG_ORG",
                  "type": "\"integer\"",
                  "metadata": "{}"
                },
                {
                  "name": "VA_ORG",
                  "type": "\"integer\"",
                  "metadata": "{}"
                },
                {
                  "name": "BR_ORG",
                  "type": "\"integer\"",
                  "metadata": "{}"
                },
                {
                  "name": "SQ_ORG",
                  "type": "\"integer\"",
                  "metadata": "{}"
                },
                {
                  "name": "FC_ORG",
                  "type": "\"integer\"",
                  "metadata": "{}"
                },
                {
                  "name": "ELEVATION_DEST",
                  "type": "\"double\"",
                  "metadata": "{}"
                },
                {
                  "name": "SLP_DEST",
                  "type": "\"double\"",
                  "metadata": "{}"
                },
                {
                  "name": "VIS_DEST",
                  "type": "\"decimal(4,1)\"",
                  "metadata": "{}"
                },
                {
                  "name": "TMP_DEST",
                  "type": "\"decimal(8,5)\"",
                  "metadata": "{}"
                },
                {
                  "name": "DEW_DEST",
                  "type": "\"decimal(8,5)\"",
                  "metadata": "{}"
                },
                {
                  "name": "CIG_DEST",
                  "type": "\"integer\"",
                  "metadata": "{}"
                },
                {
                  "name": "WND_DEST",
                  "type": "\"decimal(4,1)\"",
                  "metadata": "{}"
                },
                {
                  "name": "GUST_DEST",
                  "type": "\"decimal(11,1)\"",
                  "metadata": "{}"
                },
                {
                  "name": "TCB_DEST",
                  "type": "\"integer\"",
                  "metadata": "{}"
                },
                {
                  "name": "OBSC_DEST",
                  "type": "\"integer\"",
                  "metadata": "{}"
                },
                {
                  "name": "PREC_DEST",
                  "type": "\"decimal(4,1)\"",
                  "metadata": "{}"
                },
                {
                  "name": "SNW_DEST",
                  "type": "\"decimal(11,1)\"",
                  "metadata": "{}"
                },
                {
                  "name": "FZFG_DEST",
                  "type": "\"integer\"",
                  "metadata": "{}"
                },
                {
                  "name": "FZDZ_DEST",
                  "type": "\"integer\"",
                  "metadata": "{}"
                },
                {
                  "name": "FZRA_DEST",
                  "type": "\"integer\"",
                  "metadata": "{}"
                },
                {
                  "name": "TSRA_DEST",
                  "type": "\"integer\"",
                  "metadata": "{}"
                },
                {
                  "name": "HSN_DEST",
                  "type": "\"integer\"",
                  "metadata": "{}"
                },
                {
                  "name": "LSN_DEST",
                  "type": "\"integer\"",
                  "metadata": "{}"
                },
                {
                  "name": "BSN_DEST",
                  "type": "\"integer\"",
                  "metadata": "{}"
                },
                {
                  "name": "VV_DEST",
                  "type": "\"integer\"",
                  "metadata": "{}"
                },
                {
                  "name": "TS_DEST",
                  "type": "\"integer\"",
                  "metadata": "{}"
                },
                {
                  "name": "HAIL_DEST",
                  "type": "\"integer\"",
                  "metadata": "{}"
                },
                {
                  "name": "FOG_DEST",
                  "type": "\"integer\"",
                  "metadata": "{}"
                },
                {
                  "name": "VA_DEST",
                  "type": "\"integer\"",
                  "metadata": "{}"
                },
                {
                  "name": "BR_DEST",
                  "type": "\"integer\"",
                  "metadata": "{}"
                },
                {
                  "name": "SQ_DEST",
                  "type": "\"integer\"",
                  "metadata": "{}"
                },
                {
                  "name": "FC_DEST",
                  "type": "\"integer\"",
                  "metadata": "{}"
                },
                {
                  "name": "YEAR_Index",
                  "type": "\"double\"",
                  "metadata": "{\"ml_attr\":{\"vals\":[\"2015\",\"__unknown\"],\"type\":\"nominal\",\"name\":\"YEAR_Index\"}}"
                },
                {
                  "name": "QUARTER_Index",
                  "type": "\"double\"",
                  "metadata": "{\"ml_attr\":{\"vals\":[\"1\",\"2\",\"__unknown\"],\"type\":\"nominal\",\"name\":\"QUARTER_Index\"}}"
                },
                {
                  "name": "MONTH_Index",
                  "type": "\"double\"",
                  "metadata": "{\"ml_attr\":{\"vals\":[\"3\",\"4\",\"1\",\"5\",\"2\",\"__unknown\"],\"type\":\"nominal\",\"name\":\"MONTH_Index\"}}"
                },
                {
                  "name": "DAY_OF_MONTH_Index",
                  "type": "\"double\"",
                  "metadata": "{\"ml_attr\":{\"vals\":[\"26\",\"13\",\"3\",\"19\",\"12\",\"6\",\"20\",\"8\",\"5\",\"27\",\"4\",\"22\",\"9\",\"10\",\"16\",\"23\",\"2\",\"18\",\"17\",\"15\",\"25\",\"11\",\"24\",\"28\",\"7\",\"21\",\"14\",\"1\",\"30\",\"29\",\"31\",\"__unknown\"],\"type\":\"nominal\",\"name\":\"DAY_OF_MONTH_Index\"}}"
                },
                {
                  "name": "DAY_OF_WEEK_Index",
                  "type": "\"double\"",
                  "metadata": "{\"ml_attr\":{\"vals\":[\"4\",\"5\",\"1\",\"3\",\"2\",\"7\",\"6\",\"__unknown\"],\"type\":\"nominal\",\"name\":\"DAY_OF_WEEK_Index\"}}"
                },
                {
                  "name": "OP_UNIQUE_CARRIER_Index",
                  "type": "\"double\"",
                  "metadata": "{\"ml_attr\":{\"vals\":[\"DL\",\"EV\",\"UA\",\"MQ\",\"AA\",\"OO\",\"WN\",\"NK\",\"US\",\"F9\",\"B6\",\"AS\",\"VX\",\"__unknown\"],\"type\":\"nominal\",\"name\":\"OP_UNIQUE_CARRIER_Index\"}}"
                },
                {
                  "name": "ORIGIN_Index",
                  "type": "\"double\"",
                  "metadata": "{\"ml_attr\":{\"vals\":[\"ATL\",\"ORD\",\"__unknown\"],\"type\":\"nominal\",\"name\":\"ORIGIN_Index\"}}"
                },
                {
                  "name": "ORIGIN_STATE_FIPS_Index",
                  "type": "\"double\"",
                  "metadata": "{\"ml_attr\":{\"vals\":[\"13\",\"17\",\"__unknown\"],\"type\":\"nominal\",\"name\":\"ORIGIN_STATE_FIPS_Index\"}}"
                },
                {
                  "name": "DEST_Index",
                  "type": "\"double\"",
                  "metadata": "{\"ml_attr\":{\"vals\":[\"LGA\",\"DFW\",\"LAX\",\"MCO\",\"DCA\",\"MSP\",\"DEN\",\"BOS\",\"PHL\",\"CLT\",\"FLL\",\"SFO\",\"TPA\",\"MIA\",\"DTW\",\"EWR\",\"MKE\",\"PHX\",\"LAS\",\"IAH\",\"BWI\",\"CLE\",\"MSY\",\"IND\",\"CMH\",\"ORD\",\"RSW\",\"BNA\",\"ATL\",\"RDU\",\"CVG\",\"STL\",\"SEA\",\"MCI\",\"MEM\",\"RIC\",\"JAX\",\"AUS\",\"SLC\",\"PIT\",\"IAD\",\"PBI\",\"DSM\",\"SAN\",\"MDW\",\"XNA\",\"SAT\",\"HOU\",\"CID\",\"GRR\",\"SDF\",\"BHM\",\"LEX\",\"HPN\",\"MSN\",\"LIT\",\"DAY\",\"TUL\",\"BDL\",\"SAV\",\"TYS\",\"OKC\",\"SGF\",\"OMA\",\"CHS\",\"JFK\",\"GRB\",\"CAK\",\"CAE\",\"FWA\",\"ICT\",\"ORF\",\"HSV\",\"BUF\",\"GSP\",\"GSO\",\"SNA\",\"CHA\",\"PIA\",\"FNT\",\"BTR\",\"JAN\",\"DAL\",\"PDX\",\"MLI\",\"MDT\",\"SBN\",\"SJU\",\"FSD\",\"MOB\",\"PNS\",\"AVL\",\"SYR\",\"SRQ\",\"AGS\",\"EVV\",\"ROC\",\"FAR\",\"MGM\",\"GNV\",\"ROA\",\"TLH\",\"VPS\",\"BMI\",\"ATW\",\"ECP\",\"SHV\",\"TVC\",\"TRI\",\"CMI\",\"CRW\",\"RST\",\"CHO\",\"ALB\",\"FAY\",\"MYR\",\"GPT\",\"ABE\",\"LNK\",\"CWA\",\"ILM\",\"DAB\",\"EYW\",\"TUS\",\"AZO\",\"PHF\",\"COS\",\"PVD\",\"MBS\",\"AEX\",\"DHN\",\"MLB\",\"ASE\",\"MLU\",\"LFT\",\"LSE\",\"CSG\",\"ELP\",\"OAJ\",\"ABQ\",\"SPI\",\"SMF\",\"DLH\",\"ABY\",\"DBQ\",\"LAN\",\"GTR\",\"TOL\",\"VLD\",\"AVP\",\"BQK\",\"HNL\",\"SCE\",\"FSM\",\"COU\",\"SJC\",\"STT\",\"MHK\",\"MHT\",\"MKG\",\"BTV\",\"PSP\",\"SUX\",\"PAH\",\"ERI\",\"ALO\",\"EAU\",\"ELM\",\"GRK\",\"CMX\",\"EWN\",\"PWM\",\"ANC\",\"BOI\",\"EGE\",\"BIS\",\"TTN\",\"JAC\",\"OAK\",\"RNO\",\"MTJ\",\"MQT\",\"BZN\",\"HDN\",\"ACY\",\"STC\",\"OGG\",\"RAP\",\"STX\",\"FCA\",\"GUC\",\"LBE\",\"MSO\",\"ONT\",\"__unknown\"],\"type\":\"nominal\",\"name\":\"DEST_Index\"}}"
                },
                {
                  "name": "DEST_STATE_FIPS_Index",
                  "type": "\"double\"",
                  "metadata": "{\"ml_attr\":{\"vals\":[\"12\",\"48\",\"36\",\"6\",\"51\",\"37\",\"26\",\"42\",\"39\",\"17\",\"55\",\"47\",\"13\",\"29\",\"22\",\"8\",\"18\",\"21\",\"27\",\"1\",\"45\",\"25\",\"19\",\"4\",\"34\",\"5\",\"32\",\"24\",\"40\",\"53\",\"28\",\"31\",\"49\",\"20\",\"9\",\"41\",\"38\",\"46\",\"72\",\"54\",\"44\",\"35\",\"15\",\"78\",\"33\",\"50\",\"23\",\"2\",\"16\",\"56\",\"30\",\"__unknown\"],\"type\":\"nominal\",\"name\":\"DEST_STATE_FIPS_Index\"}}"
                },
                {
                  "name": "DEP_TIME_BLK_Index",
                  "type": "\"double\"",
                  "metadata": "{\"ml_attr\":{\"vals\":[\"2000-2059\",\"1900-1959\",\"0900-0959\",\"1300-1359\",\"1600-1659\",\"1500-1559\",\"1000-1059\",\"0800-0859\",\"1700-1759\",\"1200-1259\",\"2100-2159\",\"1800-1859\",\"1400-1459\",\"1100-1159\",\"0700-0759\",\"2200-2259\",\"0600-0659\",\"0001-0559\",\"2300-2359\",\"__unknown\"],\"type\":\"nominal\",\"name\":\"DEP_TIME_BLK_Index\"}}"
                },
                {
                  "name": "ARR_TIME_BLK_Index",
                  "type": "\"double\"",
                  "metadata": "{\"ml_attr\":{\"vals\":[\"2100-2159\",\"1600-1659\",\"2200-2259\",\"1100-1159\",\"1700-1759\",\"1000-1059\",\"2000-2059\",\"1200-1259\",\"2300-2359\",\"1800-1859\",\"1300-1359\",\"1500-1559\",\"1900-1959\",\"1400-1459\",\"0900-0959\",\"0800-0859\",\"0001-0559\",\"0700-0759\",\"0600-0659\",\"__unknown\"],\"type\":\"nominal\",\"name\":\"ARR_TIME_BLK_Index\"}}"
                },
                {
                  "name": "DISTANCE_GROUP_Index",
                  "type": "\"double\"",
                  "metadata": "{\"ml_attr\":{\"vals\":[\"3\",\"2\",\"1\",\"4\",\"7\",\"5\",\"8\",\"6\",\"9\",\"11\",\"__unknown\"],\"type\":\"nominal\",\"name\":\"DISTANCE_GROUP_Index\"}}"
                },
                {
                  "name": "BAD_TRAVEL_DAY_Index",
                  "type": "\"double\"",
                  "metadata": "{\"ml_attr\":{\"vals\":[\"0\",\"__unknown\"],\"type\":\"nominal\",\"name\":\"BAD_TRAVEL_DAY_Index\"}}"
                },
                {
                  "name": "DEP_TIME_SEGMENT_Index",
                  "type": "\"double\"",
                  "metadata": "{\"ml_attr\":{\"vals\":[\"3\",\"2\",\"4\",\"1\",\"__unknown\"],\"type\":\"nominal\",\"name\":\"DEP_TIME_SEGMENT_Index\"}}"
                },
                {
                  "name": "YEAR_OHE",
                  "type": "{\"type\":\"udt\",\"class\":\"org.apache.spark.ml.linalg.VectorUDT\",\"pyClass\":\"pyspark.ml.linalg.VectorUDT\",\"sqlType\":{\"type\":\"struct\",\"fields\":[{\"name\":\"type\",\"type\":\"byte\",\"nullable\":false,\"metadata\":{}},{\"name\":\"size\",\"type\":\"integer\",\"nullable\":true,\"metadata\":{}},{\"name\":\"indices\",\"type\":{\"type\":\"array\",\"elementType\":\"integer\",\"containsNull\":false},\"nullable\":true,\"metadata\":{}},{\"name\":\"values\",\"type\":{\"type\":\"array\",\"elementType\":\"double\",\"containsNull\":false},\"nullable\":true,\"metadata\":{}}]}}",
                  "metadata": "{\"ml_attr\":{\"attrs\":{\"binary\":[{\"idx\":0,\"name\":\"2015\"}]},\"num_attrs\":1}}"
                },
                {
                  "name": "QUARTER_OHE",
                  "type": "{\"type\":\"udt\",\"class\":\"org.apache.spark.ml.linalg.VectorUDT\",\"pyClass\":\"pyspark.ml.linalg.VectorUDT\",\"sqlType\":{\"type\":\"struct\",\"fields\":[{\"name\":\"type\",\"type\":\"byte\",\"nullable\":false,\"metadata\":{}},{\"name\":\"size\",\"type\":\"integer\",\"nullable\":true,\"metadata\":{}},{\"name\":\"indices\",\"type\":{\"type\":\"array\",\"elementType\":\"integer\",\"containsNull\":false},\"nullable\":true,\"metadata\":{}},{\"name\":\"values\",\"type\":{\"type\":\"array\",\"elementType\":\"double\",\"containsNull\":false},\"nullable\":true,\"metadata\":{}}]}}",
                  "metadata": "{\"ml_attr\":{\"attrs\":{\"binary\":[{\"idx\":0,\"name\":\"1\"},{\"idx\":1,\"name\":\"2\"}]},\"num_attrs\":2}}"
                },
                {
                  "name": "MONTH_OHE",
                  "type": "{\"type\":\"udt\",\"class\":\"org.apache.spark.ml.linalg.VectorUDT\",\"pyClass\":\"pyspark.ml.linalg.VectorUDT\",\"sqlType\":{\"type\":\"struct\",\"fields\":[{\"name\":\"type\",\"type\":\"byte\",\"nullable\":false,\"metadata\":{}},{\"name\":\"size\",\"type\":\"integer\",\"nullable\":true,\"metadata\":{}},{\"name\":\"indices\",\"type\":{\"type\":\"array\",\"elementType\":\"integer\",\"containsNull\":false},\"nullable\":true,\"metadata\":{}},{\"name\":\"values\",\"type\":{\"type\":\"array\",\"elementType\":\"double\",\"containsNull\":false},\"nullable\":true,\"metadata\":{}}]}}",
                  "metadata": "{\"ml_attr\":{\"attrs\":{\"binary\":[{\"idx\":0,\"name\":\"3\"},{\"idx\":1,\"name\":\"4\"},{\"idx\":2,\"name\":\"1\"},{\"idx\":3,\"name\":\"5\"},{\"idx\":4,\"name\":\"2\"}]},\"num_attrs\":5}}"
                },
                {
                  "name": "DAY_OF_MONTH_OHE",
                  "type": "{\"type\":\"udt\",\"class\":\"org.apache.spark.ml.linalg.VectorUDT\",\"pyClass\":\"pyspark.ml.linalg.VectorUDT\",\"sqlType\":{\"type\":\"struct\",\"fields\":[{\"name\":\"type\",\"type\":\"byte\",\"nullable\":false,\"metadata\":{}},{\"name\":\"size\",\"type\":\"integer\",\"nullable\":true,\"metadata\":{}},{\"name\":\"indices\",\"type\":{\"type\":\"array\",\"elementType\":\"integer\",\"containsNull\":false},\"nullable\":true,\"metadata\":{}},{\"name\":\"values\",\"type\":{\"type\":\"array\",\"elementType\":\"double\",\"containsNull\":false},\"nullable\":true,\"metadata\":{}}]}}",
                  "metadata": "{\"ml_attr\":{\"attrs\":{\"binary\":[{\"idx\":0,\"name\":\"26\"},{\"idx\":1,\"name\":\"13\"},{\"idx\":2,\"name\":\"3\"},{\"idx\":3,\"name\":\"19\"},{\"idx\":4,\"name\":\"12\"},{\"idx\":5,\"name\":\"6\"},{\"idx\":6,\"name\":\"20\"},{\"idx\":7,\"name\":\"8\"},{\"idx\":8,\"name\":\"5\"},{\"idx\":9,\"name\":\"27\"},{\"idx\":10,\"name\":\"4\"},{\"idx\":11,\"name\":\"22\"},{\"idx\":12,\"name\":\"9\"},{\"idx\":13,\"name\":\"10\"},{\"idx\":14,\"name\":\"16\"},{\"idx\":15,\"name\":\"23\"},{\"idx\":16,\"name\":\"2\"},{\"idx\":17,\"name\":\"18\"},{\"idx\":18,\"name\":\"17\"},{\"idx\":19,\"name\":\"15\"},{\"idx\":20,\"name\":\"25\"},{\"idx\":21,\"name\":\"11\"},{\"idx\":22,\"name\":\"24\"},{\"idx\":23,\"name\":\"28\"},{\"idx\":24,\"name\":\"7\"},{\"idx\":25,\"name\":\"21\"},{\"idx\":26,\"name\":\"14\"},{\"idx\":27,\"name\":\"1\"},{\"idx\":28,\"name\":\"30\"},{\"idx\":29,\"name\":\"29\"},{\"idx\":30,\"name\":\"31\"}]},\"num_attrs\":31}}"
                },
                {
                  "name": "DAY_OF_WEEK_OHE",
                  "type": "{\"type\":\"udt\",\"class\":\"org.apache.spark.ml.linalg.VectorUDT\",\"pyClass\":\"pyspark.ml.linalg.VectorUDT\",\"sqlType\":{\"type\":\"struct\",\"fields\":[{\"name\":\"type\",\"type\":\"byte\",\"nullable\":false,\"metadata\":{}},{\"name\":\"size\",\"type\":\"integer\",\"nullable\":true,\"metadata\":{}},{\"name\":\"indices\",\"type\":{\"type\":\"array\",\"elementType\":\"integer\",\"containsNull\":false},\"nullable\":true,\"metadata\":{}},{\"name\":\"values\",\"type\":{\"type\":\"array\",\"elementType\":\"double\",\"containsNull\":false},\"nullable\":true,\"metadata\":{}}]}}",
                  "metadata": "{\"ml_attr\":{\"attrs\":{\"binary\":[{\"idx\":0,\"name\":\"4\"},{\"idx\":1,\"name\":\"5\"},{\"idx\":2,\"name\":\"1\"},{\"idx\":3,\"name\":\"3\"},{\"idx\":4,\"name\":\"2\"},{\"idx\":5,\"name\":\"7\"},{\"idx\":6,\"name\":\"6\"}]},\"num_attrs\":7}}"
                },
                {
                  "name": "OP_UNIQUE_CARRIER_OHE",
                  "type": "{\"type\":\"udt\",\"class\":\"org.apache.spark.ml.linalg.VectorUDT\",\"pyClass\":\"pyspark.ml.linalg.VectorUDT\",\"sqlType\":{\"type\":\"struct\",\"fields\":[{\"name\":\"type\",\"type\":\"byte\",\"nullable\":false,\"metadata\":{}},{\"name\":\"size\",\"type\":\"integer\",\"nullable\":true,\"metadata\":{}},{\"name\":\"indices\",\"type\":{\"type\":\"array\",\"elementType\":\"integer\",\"containsNull\":false},\"nullable\":true,\"metadata\":{}},{\"name\":\"values\",\"type\":{\"type\":\"array\",\"elementType\":\"double\",\"containsNull\":false},\"nullable\":true,\"metadata\":{}}]}}",
                  "metadata": "{\"ml_attr\":{\"attrs\":{\"binary\":[{\"idx\":0,\"name\":\"DL\"},{\"idx\":1,\"name\":\"EV\"},{\"idx\":2,\"name\":\"UA\"},{\"idx\":3,\"name\":\"MQ\"},{\"idx\":4,\"name\":\"AA\"},{\"idx\":5,\"name\":\"OO\"},{\"idx\":6,\"name\":\"WN\"},{\"idx\":7,\"name\":\"NK\"},{\"idx\":8,\"name\":\"US\"},{\"idx\":9,\"name\":\"F9\"},{\"idx\":10,\"name\":\"B6\"},{\"idx\":11,\"name\":\"AS\"},{\"idx\":12,\"name\":\"VX\"}]},\"num_attrs\":13}}"
                },
                {
                  "name": "ORIGIN_OHE",
                  "type": "{\"type\":\"udt\",\"class\":\"org.apache.spark.ml.linalg.VectorUDT\",\"pyClass\":\"pyspark.ml.linalg.VectorUDT\",\"sqlType\":{\"type\":\"struct\",\"fields\":[{\"name\":\"type\",\"type\":\"byte\",\"nullable\":false,\"metadata\":{}},{\"name\":\"size\",\"type\":\"integer\",\"nullable\":true,\"metadata\":{}},{\"name\":\"indices\",\"type\":{\"type\":\"array\",\"elementType\":\"integer\",\"containsNull\":false},\"nullable\":true,\"metadata\":{}},{\"name\":\"values\",\"type\":{\"type\":\"array\",\"elementType\":\"double\",\"containsNull\":false},\"nullable\":true,\"metadata\":{}}]}}",
                  "metadata": "{\"ml_attr\":{\"attrs\":{\"binary\":[{\"idx\":0,\"name\":\"ATL\"},{\"idx\":1,\"name\":\"ORD\"}]},\"num_attrs\":2}}"
                },
                {
                  "name": "ORIGIN_STATE_FIPS_OHE",
                  "type": "{\"type\":\"udt\",\"class\":\"org.apache.spark.ml.linalg.VectorUDT\",\"pyClass\":\"pyspark.ml.linalg.VectorUDT\",\"sqlType\":{\"type\":\"struct\",\"fields\":[{\"name\":\"type\",\"type\":\"byte\",\"nullable\":false,\"metadata\":{}},{\"name\":\"size\",\"type\":\"integer\",\"nullable\":true,\"metadata\":{}},{\"name\":\"indices\",\"type\":{\"type\":\"array\",\"elementType\":\"integer\",\"containsNull\":false},\"nullable\":true,\"metadata\":{}},{\"name\":\"values\",\"type\":{\"type\":\"array\",\"elementType\":\"double\",\"containsNull\":false},\"nullable\":true,\"metadata\":{}}]}}",
                  "metadata": "{\"ml_attr\":{\"attrs\":{\"binary\":[{\"idx\":0,\"name\":\"13\"},{\"idx\":1,\"name\":\"17\"}]},\"num_attrs\":2}}"
                },
                {
                  "name": "DEST_OHE",
                  "type": "{\"type\":\"udt\",\"class\":\"org.apache.spark.ml.linalg.VectorUDT\",\"pyClass\":\"pyspark.ml.linalg.VectorUDT\",\"sqlType\":{\"type\":\"struct\",\"fields\":[{\"name\":\"type\",\"type\":\"byte\",\"nullable\":false,\"metadata\":{}},{\"name\":\"size\",\"type\":\"integer\",\"nullable\":true,\"metadata\":{}},{\"name\":\"indices\",\"type\":{\"type\":\"array\",\"elementType\":\"integer\",\"containsNull\":false},\"nullable\":true,\"metadata\":{}},{\"name\":\"values\",\"type\":{\"type\":\"array\",\"elementType\":\"double\",\"containsNull\":false},\"nullable\":true,\"metadata\":{}}]}}",
                  "metadata": "{\"ml_attr\":{\"attrs\":{\"binary\":[{\"idx\":0,\"name\":\"LGA\"},{\"idx\":1,\"name\":\"DFW\"},{\"idx\":2,\"name\":\"LAX\"},{\"idx\":3,\"name\":\"MCO\"},{\"idx\":4,\"name\":\"DCA\"},{\"idx\":5,\"name\":\"MSP\"},{\"idx\":6,\"name\":\"DEN\"},{\"idx\":7,\"name\":\"BOS\"},{\"idx\":8,\"name\":\"PHL\"},{\"idx\":9,\"name\":\"CLT\"},{\"idx\":10,\"name\":\"FLL\"},{\"idx\":11,\"name\":\"SFO\"},{\"idx\":12,\"name\":\"TPA\"},{\"idx\":13,\"name\":\"MIA\"},{\"idx\":14,\"name\":\"DTW\"},{\"idx\":15,\"name\":\"EWR\"},{\"idx\":16,\"name\":\"MKE\"},{\"idx\":17,\"name\":\"PHX\"},{\"idx\":18,\"name\":\"LAS\"},{\"idx\":19,\"name\":\"IAH\"},{\"idx\":20,\"name\":\"BWI\"},{\"idx\":21,\"name\":\"CLE\"},{\"idx\":22,\"name\":\"MSY\"},{\"idx\":23,\"name\":\"IND\"},{\"idx\":24,\"name\":\"CMH\"},{\"idx\":25,\"name\":\"ORD\"},{\"idx\":26,\"name\":\"RSW\"},{\"idx\":27,\"name\":\"BNA\"},{\"idx\":28,\"name\":\"ATL\"},{\"idx\":29,\"name\":\"RDU\"},{\"idx\":30,\"name\":\"CVG\"},{\"idx\":31,\"name\":\"STL\"},{\"idx\":32,\"name\":\"SEA\"},{\"idx\":33,\"name\":\"MCI\"},{\"idx\":34,\"name\":\"MEM\"},{\"idx\":35,\"name\":\"RIC\"},{\"idx\":36,\"name\":\"JAX\"},{\"idx\":37,\"name\":\"AUS\"},{\"idx\":38,\"name\":\"SLC\"},{\"idx\":39,\"name\":\"PIT\"},{\"idx\":40,\"name\":\"IAD\"},{\"idx\":41,\"name\":\"PBI\"},{\"idx\":42,\"name\":\"DSM\"},{\"idx\":43,\"name\":\"SAN\"},{\"idx\":44,\"name\":\"MDW\"},{\"idx\":45,\"name\":\"XNA\"},{\"idx\":46,\"name\":\"SAT\"},{\"idx\":47,\"name\":\"HOU\"},{\"idx\":48,\"name\":\"CID\"},{\"idx\":49,\"name\":\"GRR\"},{\"idx\":50,\"name\":\"SDF\"},{\"idx\":51,\"name\":\"BHM\"},{\"idx\":52,\"name\":\"LEX\"},{\"idx\":53,\"name\":\"HPN\"},{\"idx\":54,\"name\":\"MSN\"},{\"idx\":55,\"name\":\"LIT\"},{\"idx\":56,\"name\":\"DAY\"},{\"idx\":57,\"name\":\"TUL\"},{\"idx\":58,\"name\":\"BDL\"},{\"idx\":59,\"name\":\"SAV\"},{\"idx\":60,\"name\":\"TYS\"},{\"idx\":61,\"name\":\"OKC\"},{\"idx\":62,\"name\":\"SGF\"},{\"idx\":63,\"name\":\"OMA\"},{\"idx\":64,\"name\":\"CHS\"},{\"idx\":65,\"name\":\"JFK\"},{\"idx\":66,\"name\":\"GRB\"},{\"idx\":67,\"name\":\"CAK\"},{\"idx\":68,\"name\":\"CAE\"},{\"idx\":69,\"name\":\"FWA\"},{\"idx\":70,\"name\":\"ICT\"},{\"idx\":71,\"name\":\"ORF\"},{\"idx\":72,\"name\":\"HSV\"},{\"idx\":73,\"name\":\"BUF\"},{\"idx\":74,\"name\":\"GSP\"},{\"idx\":75,\"name\":\"GSO\"},{\"idx\":76,\"name\":\"SNA\"},{\"idx\":77,\"name\":\"CHA\"},{\"idx\":78,\"name\":\"PIA\"},{\"idx\":79,\"name\":\"FNT\"},{\"idx\":80,\"name\":\"BTR\"},{\"idx\":81,\"name\":\"JAN\"},{\"idx\":82,\"name\":\"DAL\"},{\"idx\":83,\"name\":\"PDX\"},{\"idx\":84,\"name\":\"MLI\"},{\"idx\":85,\"name\":\"MDT\"},{\"idx\":86,\"name\":\"SBN\"},{\"idx\":87,\"name\":\"SJU\"},{\"idx\":88,\"name\":\"FSD\"},{\"idx\":89,\"name\":\"MOB\"},{\"idx\":90,\"name\":\"PNS\"},{\"idx\":91,\"name\":\"AVL\"},{\"idx\":92,\"name\":\"SYR\"},{\"idx\":93,\"name\":\"SRQ\"},{\"idx\":94,\"name\":\"AGS\"},{\"idx\":95,\"name\":\"EVV\"},{\"idx\":96,\"name\":\"ROC\"},{\"idx\":97,\"name\":\"FAR\"},{\"idx\":98,\"name\":\"MGM\"},{\"idx\":99,\"name\":\"GNV\"},{\"idx\":100,\"name\":\"ROA\"},{\"idx\":101,\"name\":\"TLH\"},{\"idx\":102,\"name\":\"VPS\"},{\"idx\":103,\"name\":\"BMI\"},{\"idx\":104,\"name\":\"ATW\"},{\"idx\":105,\"name\":\"ECP\"},{\"idx\":106,\"name\":\"SHV\"},{\"idx\":107,\"name\":\"TVC\"},{\"idx\":108,\"name\":\"TRI\"},{\"idx\":109,\"name\":\"CMI\"},{\"idx\":110,\"name\":\"CRW\"},{\"idx\":111,\"name\":\"RST\"},{\"idx\":112,\"name\":\"CHO\"},{\"idx\":113,\"name\":\"ALB\"},{\"idx\":114,\"name\":\"FAY\"},{\"idx\":115,\"name\":\"MYR\"},{\"idx\":116,\"name\":\"GPT\"},{\"idx\":117,\"name\":\"ABE\"},{\"idx\":118,\"name\":\"LNK\"},{\"idx\":119,\"name\":\"CWA\"},{\"idx\":120,\"name\":\"ILM\"},{\"idx\":121,\"name\":\"DAB\"},{\"idx\":122,\"name\":\"EYW\"},{\"idx\":123,\"name\":\"TUS\"},{\"idx\":124,\"name\":\"AZO\"},{\"idx\":125,\"name\":\"PHF\"},{\"idx\":126,\"name\":\"COS\"},{\"idx\":127,\"name\":\"PVD\"},{\"idx\":128,\"name\":\"MBS\"},{\"idx\":129,\"name\":\"AEX\"},{\"idx\":130,\"name\":\"DHN\"},{\"idx\":131,\"name\":\"MLB\"},{\"idx\":132,\"name\":\"ASE\"},{\"idx\":133,\"name\":\"MLU\"},{\"idx\":134,\"name\":\"LFT\"},{\"idx\":135,\"name\":\"LSE\"},{\"idx\":136,\"name\":\"CSG\"},{\"idx\":137,\"name\":\"ELP\"},{\"idx\":138,\"name\":\"OAJ\"},{\"idx\":139,\"name\":\"ABQ\"},{\"idx\":140,\"name\":\"SPI\"},{\"idx\":141,\"name\":\"SMF\"},{\"idx\":142,\"name\":\"DLH\"},{\"idx\":143,\"name\":\"ABY\"},{\"idx\":144,\"name\":\"DBQ\"},{\"idx\":145,\"name\":\"LAN\"},{\"idx\":146,\"name\":\"GTR\"},{\"idx\":147,\"name\":\"TOL\"},{\"idx\":148,\"name\":\"VLD\"},{\"idx\":149,\"name\":\"AVP\"},{\"idx\":150,\"name\":\"BQK\"},{\"idx\":151,\"name\":\"HNL\"},{\"idx\":152,\"name\":\"SCE\"},{\"idx\":153,\"name\":\"FSM\"},{\"idx\":154,\"name\":\"COU\"},{\"idx\":155,\"name\":\"SJC\"},{\"idx\":156,\"name\":\"STT\"},{\"idx\":157,\"name\":\"MHK\"},{\"idx\":158,\"name\":\"MHT\"},{\"idx\":159,\"name\":\"MKG\"},{\"idx\":160,\"name\":\"BTV\"},{\"idx\":161,\"name\":\"PSP\"},{\"idx\":162,\"name\":\"SUX\"},{\"idx\":163,\"name\":\"PAH\"},{\"idx\":164,\"name\":\"ERI\"},{\"idx\":165,\"name\":\"ALO\"},{\"idx\":166,\"name\":\"EAU\"},{\"idx\":167,\"name\":\"ELM\"},{\"idx\":168,\"name\":\"GRK\"},{\"idx\":169,\"name\":\"CMX\"},{\"idx\":170,\"name\":\"EWN\"},{\"idx\":171,\"name\":\"PWM\"},{\"idx\":172,\"name\":\"ANC\"},{\"idx\":173,\"name\":\"BOI\"},{\"idx\":174,\"name\":\"EGE\"},{\"idx\":175,\"name\":\"BIS\"},{\"idx\":176,\"name\":\"TTN\"},{\"idx\":177,\"name\":\"JAC\"},{\"idx\":178,\"name\":\"OAK\"},{\"idx\":179,\"name\":\"RNO\"},{\"idx\":180,\"name\":\"MTJ\"},{\"idx\":181,\"name\":\"MQT\"},{\"idx\":182,\"name\":\"BZN\"},{\"idx\":183,\"name\":\"HDN\"},{\"idx\":184,\"name\":\"ACY\"},{\"idx\":185,\"name\":\"STC\"},{\"idx\":186,\"name\":\"OGG\"},{\"idx\":187,\"name\":\"RAP\"},{\"idx\":188,\"name\":\"STX\"},{\"idx\":189,\"name\":\"FCA\"},{\"idx\":190,\"name\":\"GUC\"},{\"idx\":191,\"name\":\"LBE\"},{\"idx\":192,\"name\":\"MSO\"},{\"idx\":193,\"name\":\"ONT\"}]},\"num_attrs\":194}}"
                },
                {
                  "name": "DEST_STATE_FIPS_OHE",
                  "type": "{\"type\":\"udt\",\"class\":\"org.apache.spark.ml.linalg.VectorUDT\",\"pyClass\":\"pyspark.ml.linalg.VectorUDT\",\"sqlType\":{\"type\":\"struct\",\"fields\":[{\"name\":\"type\",\"type\":\"byte\",\"nullable\":false,\"metadata\":{}},{\"name\":\"size\",\"type\":\"integer\",\"nullable\":true,\"metadata\":{}},{\"name\":\"indices\",\"type\":{\"type\":\"array\",\"elementType\":\"integer\",\"containsNull\":false},\"nullable\":true,\"metadata\":{}},{\"name\":\"values\",\"type\":{\"type\":\"array\",\"elementType\":\"double\",\"containsNull\":false},\"nullable\":true,\"metadata\":{}}]}}",
                  "metadata": "{\"ml_attr\":{\"attrs\":{\"binary\":[{\"idx\":0,\"name\":\"12\"},{\"idx\":1,\"name\":\"48\"},{\"idx\":2,\"name\":\"36\"},{\"idx\":3,\"name\":\"6\"},{\"idx\":4,\"name\":\"51\"},{\"idx\":5,\"name\":\"37\"},{\"idx\":6,\"name\":\"26\"},{\"idx\":7,\"name\":\"42\"},{\"idx\":8,\"name\":\"39\"},{\"idx\":9,\"name\":\"17\"},{\"idx\":10,\"name\":\"55\"},{\"idx\":11,\"name\":\"47\"},{\"idx\":12,\"name\":\"13\"},{\"idx\":13,\"name\":\"29\"},{\"idx\":14,\"name\":\"22\"},{\"idx\":15,\"name\":\"8\"},{\"idx\":16,\"name\":\"18\"},{\"idx\":17,\"name\":\"21\"},{\"idx\":18,\"name\":\"27\"},{\"idx\":19,\"name\":\"1\"},{\"idx\":20,\"name\":\"45\"},{\"idx\":21,\"name\":\"25\"},{\"idx\":22,\"name\":\"19\"},{\"idx\":23,\"name\":\"4\"},{\"idx\":24,\"name\":\"34\"},{\"idx\":25,\"name\":\"5\"},{\"idx\":26,\"name\":\"32\"},{\"idx\":27,\"name\":\"24\"},{\"idx\":28,\"name\":\"40\"},{\"idx\":29,\"name\":\"53\"},{\"idx\":30,\"name\":\"28\"},{\"idx\":31,\"name\":\"31\"},{\"idx\":32,\"name\":\"49\"},{\"idx\":33,\"name\":\"20\"},{\"idx\":34,\"name\":\"9\"},{\"idx\":35,\"name\":\"41\"},{\"idx\":36,\"name\":\"38\"},{\"idx\":37,\"name\":\"46\"},{\"idx\":38,\"name\":\"72\"},{\"idx\":39,\"name\":\"54\"},{\"idx\":40,\"name\":\"44\"},{\"idx\":41,\"name\":\"35\"},{\"idx\":42,\"name\":\"15\"},{\"idx\":43,\"name\":\"78\"},{\"idx\":44,\"name\":\"33\"},{\"idx\":45,\"name\":\"50\"},{\"idx\":46,\"name\":\"23\"},{\"idx\":47,\"name\":\"2\"},{\"idx\":48,\"name\":\"16\"},{\"idx\":49,\"name\":\"56\"},{\"idx\":50,\"name\":\"30\"}]},\"num_attrs\":51}}"
                },
                {
                  "name": "DEP_TIME_BLK_OHE",
                  "type": "{\"type\":\"udt\",\"class\":\"org.apache.spark.ml.linalg.VectorUDT\",\"pyClass\":\"pyspark.ml.linalg.VectorUDT\",\"sqlType\":{\"type\":\"struct\",\"fields\":[{\"name\":\"type\",\"type\":\"byte\",\"nullable\":false,\"metadata\":{}},{\"name\":\"size\",\"type\":\"integer\",\"nullable\":true,\"metadata\":{}},{\"name\":\"indices\",\"type\":{\"type\":\"array\",\"elementType\":\"integer\",\"containsNull\":false},\"nullable\":true,\"metadata\":{}},{\"name\":\"values\",\"type\":{\"type\":\"array\",\"elementType\":\"double\",\"containsNull\":false},\"nullable\":true,\"metadata\":{}}]}}",
                  "metadata": "{\"ml_attr\":{\"attrs\":{\"binary\":[{\"idx\":0,\"name\":\"2000-2059\"},{\"idx\":1,\"name\":\"1900-1959\"},{\"idx\":2,\"name\":\"0900-0959\"},{\"idx\":3,\"name\":\"1300-1359\"},{\"idx\":4,\"name\":\"1600-1659\"},{\"idx\":5,\"name\":\"1500-1559\"},{\"idx\":6,\"name\":\"1000-1059\"},{\"idx\":7,\"name\":\"0800-0859\"},{\"idx\":8,\"name\":\"1700-1759\"},{\"idx\":9,\"name\":\"1200-1259\"},{\"idx\":10,\"name\":\"2100-2159\"},{\"idx\":11,\"name\":\"1800-1859\"},{\"idx\":12,\"name\":\"1400-1459\"},{\"idx\":13,\"name\":\"1100-1159\"},{\"idx\":14,\"name\":\"0700-0759\"},{\"idx\":15,\"name\":\"2200-2259\"},{\"idx\":16,\"name\":\"0600-0659\"},{\"idx\":17,\"name\":\"0001-0559\"},{\"idx\":18,\"name\":\"2300-2359\"}]},\"num_attrs\":19}}"
                },
                {
                  "name": "ARR_TIME_BLK_OHE",
                  "type": "{\"type\":\"udt\",\"class\":\"org.apache.spark.ml.linalg.VectorUDT\",\"pyClass\":\"pyspark.ml.linalg.VectorUDT\",\"sqlType\":{\"type\":\"struct\",\"fields\":[{\"name\":\"type\",\"type\":\"byte\",\"nullable\":false,\"metadata\":{}},{\"name\":\"size\",\"type\":\"integer\",\"nullable\":true,\"metadata\":{}},{\"name\":\"indices\",\"type\":{\"type\":\"array\",\"elementType\":\"integer\",\"containsNull\":false},\"nullable\":true,\"metadata\":{}},{\"name\":\"values\",\"type\":{\"type\":\"array\",\"elementType\":\"double\",\"containsNull\":false},\"nullable\":true,\"metadata\":{}}]}}",
                  "metadata": "{\"ml_attr\":{\"attrs\":{\"binary\":[{\"idx\":0,\"name\":\"2100-2159\"},{\"idx\":1,\"name\":\"1600-1659\"},{\"idx\":2,\"name\":\"2200-2259\"},{\"idx\":3,\"name\":\"1100-1159\"},{\"idx\":4,\"name\":\"1700-1759\"},{\"idx\":5,\"name\":\"1000-1059\"},{\"idx\":6,\"name\":\"2000-2059\"},{\"idx\":7,\"name\":\"1200-1259\"},{\"idx\":8,\"name\":\"2300-2359\"},{\"idx\":9,\"name\":\"1800-1859\"},{\"idx\":10,\"name\":\"1300-1359\"},{\"idx\":11,\"name\":\"1500-1559\"},{\"idx\":12,\"name\":\"1900-1959\"},{\"idx\":13,\"name\":\"1400-1459\"},{\"idx\":14,\"name\":\"0900-0959\"},{\"idx\":15,\"name\":\"0800-0859\"},{\"idx\":16,\"name\":\"0001-0559\"},{\"idx\":17,\"name\":\"0700-0759\"},{\"idx\":18,\"name\":\"0600-0659\"}]},\"num_attrs\":19}}"
                },
                {
                  "name": "DISTANCE_GROUP_OHE",
                  "type": "{\"type\":\"udt\",\"class\":\"org.apache.spark.ml.linalg.VectorUDT\",\"pyClass\":\"pyspark.ml.linalg.VectorUDT\",\"sqlType\":{\"type\":\"struct\",\"fields\":[{\"name\":\"type\",\"type\":\"byte\",\"nullable\":false,\"metadata\":{}},{\"name\":\"size\",\"type\":\"integer\",\"nullable\":true,\"metadata\":{}},{\"name\":\"indices\",\"type\":{\"type\":\"array\",\"elementType\":\"integer\",\"containsNull\":false},\"nullable\":true,\"metadata\":{}},{\"name\":\"values\",\"type\":{\"type\":\"array\",\"elementType\":\"double\",\"containsNull\":false},\"nullable\":true,\"metadata\":{}}]}}",
                  "metadata": "{\"ml_attr\":{\"attrs\":{\"binary\":[{\"idx\":0,\"name\":\"3\"},{\"idx\":1,\"name\":\"2\"},{\"idx\":2,\"name\":\"1\"},{\"idx\":3,\"name\":\"4\"},{\"idx\":4,\"name\":\"7\"},{\"idx\":5,\"name\":\"5\"},{\"idx\":6,\"name\":\"8\"},{\"idx\":7,\"name\":\"6\"},{\"idx\":8,\"name\":\"9\"},{\"idx\":9,\"name\":\"11\"}]},\"num_attrs\":10}}"
                },
                {
                  "name": "BAD_TRAVEL_DAY_OHE",
                  "type": "{\"type\":\"udt\",\"class\":\"org.apache.spark.ml.linalg.VectorUDT\",\"pyClass\":\"pyspark.ml.linalg.VectorUDT\",\"sqlType\":{\"type\":\"struct\",\"fields\":[{\"name\":\"type\",\"type\":\"byte\",\"nullable\":false,\"metadata\":{}},{\"name\":\"size\",\"type\":\"integer\",\"nullable\":true,\"metadata\":{}},{\"name\":\"indices\",\"type\":{\"type\":\"array\",\"elementType\":\"integer\",\"containsNull\":false},\"nullable\":true,\"metadata\":{}},{\"name\":\"values\",\"type\":{\"type\":\"array\",\"elementType\":\"double\",\"containsNull\":false},\"nullable\":true,\"metadata\":{}}]}}",
                  "metadata": "{\"ml_attr\":{\"attrs\":{\"binary\":[{\"idx\":0,\"name\":\"0\"}]},\"num_attrs\":1}}"
                },
                {
                  "name": "DEP_TIME_SEGMENT_OHE",
                  "type": "{\"type\":\"udt\",\"class\":\"org.apache.spark.ml.linalg.VectorUDT\",\"pyClass\":\"pyspark.ml.linalg.VectorUDT\",\"sqlType\":{\"type\":\"struct\",\"fields\":[{\"name\":\"type\",\"type\":\"byte\",\"nullable\":false,\"metadata\":{}},{\"name\":\"size\",\"type\":\"integer\",\"nullable\":true,\"metadata\":{}},{\"name\":\"indices\",\"type\":{\"type\":\"array\",\"elementType\":\"integer\",\"containsNull\":false},\"nullable\":true,\"metadata\":{}},{\"name\":\"values\",\"type\":{\"type\":\"array\",\"elementType\":\"double\",\"containsNull\":false},\"nullable\":true,\"metadata\":{}}]}}",
                  "metadata": "{\"ml_attr\":{\"attrs\":{\"binary\":[{\"idx\":0,\"name\":\"3\"},{\"idx\":1,\"name\":\"2\"},{\"idx\":2,\"name\":\"4\"},{\"idx\":3,\"name\":\"1\"}]},\"num_attrs\":4}}"
                },
                {
                  "name": "label",
                  "type": "\"double\"",
                  "metadata": "{\"ml_attr\":{\"vals\":[\"0.0\",\"1.0\"],\"type\":\"nominal\",\"name\":\"label\"}}"
                },
                {
                  "name": "SLP_ORG_imp",
                  "type": "\"double\"",
                  "metadata": "{}"
                },
                {
                  "name": "VIS_ORG_imp",
                  "type": "\"decimal(4,1)\"",
                  "metadata": "{}"
                },
                {
                  "name": "TMP_ORG_imp",
                  "type": "\"decimal(8,5)\"",
                  "metadata": "{}"
                },
                {
                  "name": "PREC_ORG_imp",
                  "type": "\"decimal(4,1)\"",
                  "metadata": "{}"
                },
                {
                  "name": "DEW_ORG_imp",
                  "type": "\"decimal(8,5)\"",
                  "metadata": "{}"
                },
                {
                  "name": "SLP_DEST_imp",
                  "type": "\"double\"",
                  "metadata": "{}"
                },
                {
                  "name": "TMP_DEST_imp",
                  "type": "\"decimal(8,5)\"",
                  "metadata": "{}"
                },
                {
                  "name": "DEW_DEST_imp",
                  "type": "\"decimal(8,5)\"",
                  "metadata": "{}"
                },
                {
                  "name": "PREC_DEST_imp",
                  "type": "\"decimal(4,1)\"",
                  "metadata": "{}"
                },
                {
                  "name": "features_a",
                  "type": "{\"type\":\"udt\",\"class\":\"org.apache.spark.ml.linalg.VectorUDT\",\"pyClass\":\"pyspark.ml.linalg.VectorUDT\",\"sqlType\":{\"type\":\"struct\",\"fields\":[{\"name\":\"type\",\"type\":\"byte\",\"nullable\":false,\"metadata\":{}},{\"name\":\"size\",\"type\":\"integer\",\"nullable\":true,\"metadata\":{}},{\"name\":\"indices\",\"type\":{\"type\":\"array\",\"elementType\":\"integer\",\"containsNull\":false},\"nullable\":true,\"metadata\":{}},{\"name\":\"values\",\"type\":{\"type\":\"array\",\"elementType\":\"double\",\"containsNull\":false},\"nullable\":true,\"metadata\":{}}]}}",
                  "metadata": "{\"ml_attr\":{\"attrs\":{\"numeric\":[{\"idx\":0,\"name\":\"ELEVATION_ORG\"},{\"idx\":1,\"name\":\"ELEVATION_DEST\"},{\"idx\":2,\"name\":\"SNW_DEST\"},{\"idx\":3,\"name\":\"SNW_ORG\"},{\"idx\":4,\"name\":\"CIG_ORG\"},{\"idx\":5,\"name\":\"WND_ORG\"},{\"idx\":6,\"name\":\"GUST_ORG\"},{\"idx\":7,\"name\":\"VIS_DEST\"},{\"idx\":8,\"name\":\"CIG_DEST\"},{\"idx\":9,\"name\":\"WND_DEST\"},{\"idx\":10,\"name\":\"GUST_DEST\"},{\"idx\":11,\"name\":\"p_rank\"},{\"idx\":12,\"name\":\"SLP_ORG_imp\"},{\"idx\":13,\"name\":\"VIS_ORG_imp\"},{\"idx\":14,\"name\":\"TMP_ORG_imp\"},{\"idx\":15,\"name\":\"PREC_ORG_imp\"},{\"idx\":16,\"name\":\"DEW_ORG_imp\"},{\"idx\":17,\"name\":\"SLP_DEST_imp\"},{\"idx\":18,\"name\":\"TMP_DEST_imp\"},{\"idx\":19,\"name\":\"DEW_DEST_imp\"},{\"idx\":20,\"name\":\"PREC_DEST_imp\"}]},\"num_attrs\":21}}"
                },
                {
                  "name": "features_scaled",
                  "type": "{\"type\":\"udt\",\"class\":\"org.apache.spark.ml.linalg.VectorUDT\",\"pyClass\":\"pyspark.ml.linalg.VectorUDT\",\"sqlType\":{\"type\":\"struct\",\"fields\":[{\"name\":\"type\",\"type\":\"byte\",\"nullable\":false,\"metadata\":{}},{\"name\":\"size\",\"type\":\"integer\",\"nullable\":true,\"metadata\":{}},{\"name\":\"indices\",\"type\":{\"type\":\"array\",\"elementType\":\"integer\",\"containsNull\":false},\"nullable\":true,\"metadata\":{}},{\"name\":\"values\",\"type\":{\"type\":\"array\",\"elementType\":\"double\",\"containsNull\":false},\"nullable\":true,\"metadata\":{}}]}}",
                  "metadata": "{\"ml_attr\":{\"num_attrs\":21}}"
                },
                {
                  "name": "features",
                  "type": "{\"type\":\"udt\",\"class\":\"org.apache.spark.ml.linalg.VectorUDT\",\"pyClass\":\"pyspark.ml.linalg.VectorUDT\",\"sqlType\":{\"type\":\"struct\",\"fields\":[{\"name\":\"type\",\"type\":\"byte\",\"nullable\":false,\"metadata\":{}},{\"name\":\"size\",\"type\":\"integer\",\"nullable\":true,\"metadata\":{}},{\"name\":\"indices\",\"type\":{\"type\":\"array\",\"elementType\":\"integer\",\"containsNull\":false},\"nullable\":true,\"metadata\":{}},{\"name\":\"values\",\"type\":{\"type\":\"array\",\"elementType\":\"double\",\"containsNull\":false},\"nullable\":true,\"metadata\":{}}]}}",
                  "metadata": "{\"ml_attr\":{\"attrs\":{\"numeric\":[{\"idx\":361,\"name\":\"features_scaled_0\"},{\"idx\":362,\"name\":\"features_scaled_1\"},{\"idx\":363,\"name\":\"features_scaled_2\"},{\"idx\":364,\"name\":\"features_scaled_3\"},{\"idx\":365,\"name\":\"features_scaled_4\"},{\"idx\":366,\"name\":\"features_scaled_5\"},{\"idx\":367,\"name\":\"features_scaled_6\"},{\"idx\":368,\"name\":\"features_scaled_7\"},{\"idx\":369,\"name\":\"features_scaled_8\"},{\"idx\":370,\"name\":\"features_scaled_9\"},{\"idx\":371,\"name\":\"features_scaled_10\"},{\"idx\":372,\"name\":\"features_scaled_11\"},{\"idx\":373,\"name\":\"features_scaled_12\"},{\"idx\":374,\"name\":\"features_scaled_13\"},{\"idx\":375,\"name\":\"features_scaled_14\"},{\"idx\":376,\"name\":\"features_scaled_15\"},{\"idx\":377,\"name\":\"features_scaled_16\"},{\"idx\":378,\"name\":\"features_scaled_17\"},{\"idx\":379,\"name\":\"features_scaled_18\"},{\"idx\":380,\"name\":\"features_scaled_19\"},{\"idx\":381,\"name\":\"features_scaled_20\"},{\"idx\":382,\"name\":\"TCB_ORG\"},{\"idx\":383,\"name\":\"OBSC_ORG\"},{\"idx\":384,\"name\":\"FZFG_ORG\"},{\"idx\":385,\"name\":\"FZDZ_ORG\"},{\"idx\":386,\"name\":\"FZRA_ORG\"},{\"idx\":387,\"name\":\"TSRA_ORG\"},{\"idx\":388,\"name\":\"HSN_ORG\"},{\"idx\":389,\"name\":\"LSN_ORG\"},{\"idx\":390,\"name\":\"BSN_ORG\"},{\"idx\":391,\"name\":\"VV_ORG\"},{\"idx\":392,\"name\":\"TS_ORG\"},{\"idx\":393,\"name\":\"HAIL_ORG\"},{\"idx\":394,\"name\":\"FOG_ORG\"},{\"idx\":395,\"name\":\"VA_ORG\"},{\"idx\":396,\"name\":\"BR_ORG\"},{\"idx\":397,\"name\":\"SQ_ORG\"},{\"idx\":398,\"name\":\"FC_ORG\"},{\"idx\":399,\"name\":\"TCB_DEST\"},{\"idx\":400,\"name\":\"OBSC_DEST\"},{\"idx\":401,\"name\":\"FZFG_DEST\"},{\"idx\":402,\"name\":\"FZDZ_DEST\"},{\"idx\":403,\"name\":\"FZRA_DEST\"},{\"idx\":404,\"name\":\"TSRA_DEST\"},{\"idx\":405,\"name\":\"HSN_DEST\"},{\"idx\":406,\"name\":\"LSN_DEST\"},{\"idx\":407,\"name\":\"BSN_DEST\"},{\"idx\":408,\"name\":\"VV_DEST\"},{\"idx\":409,\"name\":\"TS_DEST\"},{\"idx\":410,\"name\":\"HAIL_DEST\"},{\"idx\":411,\"name\":\"FOG_DEST\"},{\"idx\":412,\"name\":\"VA_DEST\"},{\"idx\":413,\"name\":\"BR_DEST\"},{\"idx\":414,\"name\":\"SQ_DEST\"},{\"idx\":415,\"name\":\"FC_DEST\"}],\"binary\":[{\"idx\":0,\"name\":\"YEAR_OHE_2015\"},{\"idx\":1,\"name\":\"QUARTER_OHE_1\"},{\"idx\":2,\"name\":\"QUARTER_OHE_2\"},{\"idx\":3,\"name\":\"MONTH_OHE_3\"},{\"idx\":4,\"name\":\"MONTH_OHE_4\"},{\"idx\":5,\"name\":\"MONTH_OHE_1\"},{\"idx\":6,\"name\":\"MONTH_OHE_5\"},{\"idx\":7,\"name\":\"MONTH_OHE_2\"},{\"idx\":8,\"name\":\"DAY_OF_MONTH_OHE_26\"},{\"idx\":9,\"name\":\"DAY_OF_MONTH_OHE_13\"},{\"idx\":10,\"name\":\"DAY_OF_MONTH_OHE_3\"},{\"idx\":11,\"name\":\"DAY_OF_MONTH_OHE_19\"},{\"idx\":12,\"name\":\"DAY_OF_MONTH_OHE_12\"},{\"idx\":13,\"name\":\"DAY_OF_MONTH_OHE_6\"},{\"idx\":14,\"name\":\"DAY_OF_MONTH_OHE_20\"},{\"idx\":15,\"name\":\"DAY_OF_MONTH_OHE_8\"},{\"idx\":16,\"name\":\"DAY_OF_MONTH_OHE_5\"},{\"idx\":17,\"name\":\"DAY_OF_MONTH_OHE_27\"},{\"idx\":18,\"name\":\"DAY_OF_MONTH_OHE_4\"},{\"idx\":19,\"name\":\"DAY_OF_MONTH_OHE_22\"},{\"idx\":20,\"name\":\"DAY_OF_MONTH_OHE_9\"},{\"idx\":21,\"name\":\"DAY_OF_MONTH_OHE_10\"},{\"idx\":22,\"name\":\"DAY_OF_MONTH_OHE_16\"},{\"idx\":23,\"name\":\"DAY_OF_MONTH_OHE_23\"},{\"idx\":24,\"name\":\"DAY_OF_MONTH_OHE_2\"},{\"idx\":25,\"name\":\"DAY_OF_MONTH_OHE_18\"},{\"idx\":26,\"name\":\"DAY_OF_MONTH_OHE_17\"},{\"idx\":27,\"name\":\"DAY_OF_MONTH_OHE_15\"},{\"idx\":28,\"name\":\"DAY_OF_MONTH_OHE_25\"},{\"idx\":29,\"name\":\"DAY_OF_MONTH_OHE_11\"},{\"idx\":30,\"name\":\"DAY_OF_MONTH_OHE_24\"},{\"idx\":31,\"name\":\"DAY_OF_MONTH_OHE_28\"},{\"idx\":32,\"name\":\"DAY_OF_MONTH_OHE_7\"},{\"idx\":33,\"name\":\"DAY_OF_MONTH_OHE_21\"},{\"idx\":34,\"name\":\"DAY_OF_MONTH_OHE_14\"},{\"idx\":35,\"name\":\"DAY_OF_MONTH_OHE_1\"},{\"idx\":36,\"name\":\"DAY_OF_MONTH_OHE_30\"},{\"idx\":37,\"name\":\"DAY_OF_MONTH_OHE_29\"},{\"idx\":38,\"name\":\"DAY_OF_MONTH_OHE_31\"},{\"idx\":39,\"name\":\"DAY_OF_WEEK_OHE_4\"},{\"idx\":40,\"name\":\"DAY_OF_WEEK_OHE_5\"},{\"idx\":41,\"name\":\"DAY_OF_WEEK_OHE_1\"},{\"idx\":42,\"name\":\"DAY_OF_WEEK_OHE_3\"},{\"idx\":43,\"name\":\"DAY_OF_WEEK_OHE_2\"},{\"idx\":44,\"name\":\"DAY_OF_WEEK_OHE_7\"},{\"idx\":45,\"name\":\"DAY_OF_WEEK_OHE_6\"},{\"idx\":46,\"name\":\"OP_UNIQUE_CARRIER_OHE_DL\"},{\"idx\":47,\"name\":\"OP_UNIQUE_CARRIER_OHE_EV\"},{\"idx\":48,\"name\":\"OP_UNIQUE_CARRIER_OHE_UA\"},{\"idx\":49,\"name\":\"OP_UNIQUE_CARRIER_OHE_MQ\"},{\"idx\":50,\"name\":\"OP_UNIQUE_CARRIER_OHE_AA\"},{\"idx\":51,\"name\":\"OP_UNIQUE_CARRIER_OHE_OO\"},{\"idx\":52,\"name\":\"OP_UNIQUE_CARRIER_OHE_WN\"},{\"idx\":53,\"name\":\"OP_UNIQUE_CARRIER_OHE_NK\"},{\"idx\":54,\"name\":\"OP_UNIQUE_CARRIER_OHE_US\"},{\"idx\":55,\"name\":\"OP_UNIQUE_CARRIER_OHE_F9\"},{\"idx\":56,\"name\":\"OP_UNIQUE_CARRIER_OHE_B6\"},{\"idx\":57,\"name\":\"OP_UNIQUE_CARRIER_OHE_AS\"},{\"idx\":58,\"name\":\"OP_UNIQUE_CARRIER_OHE_VX\"},{\"idx\":59,\"name\":\"ORIGIN_OHE_ATL\"},{\"idx\":60,\"name\":\"ORIGIN_OHE_ORD\"},{\"idx\":61,\"name\":\"ORIGIN_STATE_FIPS_OHE_13\"},{\"idx\":62,\"name\":\"ORIGIN_STATE_FIPS_OHE_17\"},{\"idx\":63,\"name\":\"DEST_OHE_LGA\"},{\"idx\":64,\"name\":\"DEST_OHE_DFW\"},{\"idx\":65,\"name\":\"DEST_OHE_LAX\"},{\"idx\":66,\"name\":\"DEST_OHE_MCO\"},{\"idx\":67,\"name\":\"DEST_OHE_DCA\"},{\"idx\":68,\"name\":\"DEST_OHE_MSP\"},{\"idx\":69,\"name\":\"DEST_OHE_DEN\"},{\"idx\":70,\"name\":\"DEST_OHE_BOS\"},{\"idx\":71,\"name\":\"DEST_OHE_PHL\"},{\"idx\":72,\"name\":\"DEST_OHE_CLT\"},{\"idx\":73,\"name\":\"DEST_OHE_FLL\"},{\"idx\":74,\"name\":\"DEST_OHE_SFO\"},{\"idx\":75,\"name\":\"DEST_OHE_TPA\"},{\"idx\":76,\"name\":\"DEST_OHE_MIA\"},{\"idx\":77,\"name\":\"DEST_OHE_DTW\"},{\"idx\":78,\"name\":\"DEST_OHE_EWR\"},{\"idx\":79,\"name\":\"DEST_OHE_MKE\"},{\"idx\":80,\"name\":\"DEST_OHE_PHX\"},{\"idx\":81,\"name\":\"DEST_OHE_LAS\"},{\"idx\":82,\"name\":\"DEST_OHE_IAH\"},{\"idx\":83,\"name\":\"DEST_OHE_BWI\"},{\"idx\":84,\"name\":\"DEST_OHE_CLE\"},{\"idx\":85,\"name\":\"DEST_OHE_MSY\"},{\"idx\":86,\"name\":\"DEST_OHE_IND\"},{\"idx\":87,\"name\":\"DEST_OHE_CMH\"},{\"idx\":88,\"name\":\"DEST_OHE_ORD\"},{\"idx\":89,\"name\":\"DEST_OHE_RSW\"},{\"idx\":90,\"name\":\"DEST_OHE_BNA\"},{\"idx\":91,\"name\":\"DEST_OHE_ATL\"},{\"idx\":92,\"name\":\"DEST_OHE_RDU\"},{\"idx\":93,\"name\":\"DEST_OHE_CVG\"},{\"idx\":94,\"name\":\"DEST_OHE_STL\"},{\"idx\":95,\"name\":\"DEST_OHE_SEA\"},{\"idx\":96,\"name\":\"DEST_OHE_MCI\"},{\"idx\":97,\"name\":\"DEST_OHE_MEM\"},{\"idx\":98,\"name\":\"DEST_OHE_RIC\"},{\"idx\":99,\"name\":\"DEST_OHE_JAX\"},{\"idx\":100,\"name\":\"DEST_OHE_AUS\"},{\"idx\":101,\"name\":\"DEST_OHE_SLC\"},{\"idx\":102,\"name\":\"DEST_OHE_PIT\"},{\"idx\":103,\"name\":\"DEST_OHE_IAD\"},{\"idx\":104,\"name\":\"DEST_OHE_PBI\"},{\"idx\":105,\"name\":\"DEST_OHE_DSM\"},{\"idx\":106,\"name\":\"DEST_OHE_SAN\"},{\"idx\":107,\"name\":\"DEST_OHE_MDW\"},{\"idx\":108,\"name\":\"DEST_OHE_XNA\"},{\"idx\":109,\"name\":\"DEST_OHE_SAT\"},{\"idx\":110,\"name\":\"DEST_OHE_HOU\"},{\"idx\":111,\"name\":\"DEST_OHE_CID\"},{\"idx\":112,\"name\":\"DEST_OHE_GRR\"},{\"idx\":113,\"name\":\"DEST_OHE_SDF\"},{\"idx\":114,\"name\":\"DEST_OHE_BHM\"},{\"idx\":115,\"name\":\"DEST_OHE_LEX\"},{\"idx\":116,\"name\":\"DEST_OHE_HPN\"},{\"idx\":117,\"name\":\"DEST_OHE_MSN\"},{\"idx\":118,\"name\":\"DEST_OHE_LIT\"},{\"idx\":119,\"name\":\"DEST_OHE_DAY\"},{\"idx\":120,\"name\":\"DEST_OHE_TUL\"},{\"idx\":121,\"name\":\"DEST_OHE_BDL\"},{\"idx\":122,\"name\":\"DEST_OHE_SAV\"},{\"idx\":123,\"name\":\"DEST_OHE_TYS\"},{\"idx\":124,\"name\":\"DEST_OHE_OKC\"},{\"idx\":125,\"name\":\"DEST_OHE_SGF\"},{\"idx\":126,\"name\":\"DEST_OHE_OMA\"},{\"idx\":127,\"name\":\"DEST_OHE_CHS\"},{\"idx\":128,\"name\":\"DEST_OHE_JFK\"},{\"idx\":129,\"name\":\"DEST_OHE_GRB\"},{\"idx\":130,\"name\":\"DEST_OHE_CAK\"},{\"idx\":131,\"name\":\"DEST_OHE_CAE\"},{\"idx\":132,\"name\":\"DEST_OHE_FWA\"},{\"idx\":133,\"name\":\"DEST_OHE_ICT\"},{\"idx\":134,\"name\":\"DEST_OHE_ORF\"},{\"idx\":135,\"name\":\"DEST_OHE_HSV\"},{\"idx\":136,\"name\":\"DEST_OHE_BUF\"},{\"idx\":137,\"name\":\"DEST_OHE_GSP\"},{\"idx\":138,\"name\":\"DEST_OHE_GSO\"},{\"idx\":139,\"name\":\"DEST_OHE_SNA\"},{\"idx\":140,\"name\":\"DEST_OHE_CHA\"},{\"idx\":141,\"name\":\"DEST_OHE_PIA\"},{\"idx\":142,\"name\":\"DEST_OHE_FNT\"},{\"idx\":143,\"name\":\"DEST_OHE_BTR\"},{\"idx\":144,\"name\":\"DEST_OHE_JAN\"},{\"idx\":145,\"name\":\"DEST_OHE_DAL\"},{\"idx\":146,\"name\":\"DEST_OHE_PDX\"},{\"idx\":147,\"name\":\"DEST_OHE_MLI\"},{\"idx\":148,\"name\":\"DEST_OHE_MDT\"},{\"idx\":149,\"name\":\"DEST_OHE_SBN\"},{\"idx\":150,\"name\":\"DEST_OHE_SJU\"},{\"idx\":151,\"name\":\"DEST_OHE_FSD\"},{\"idx\":152,\"name\":\"DEST_OHE_MOB\"},{\"idx\":153,\"name\":\"DEST_OHE_PNS\"},{\"idx\":154,\"name\":\"DEST_OHE_AVL\"},{\"idx\":155,\"name\":\"DEST_OHE_SYR\"},{\"idx\":156,\"name\":\"DEST_OHE_SRQ\"},{\"idx\":157,\"name\":\"DEST_OHE_AGS\"},{\"idx\":158,\"name\":\"DEST_OHE_EVV\"},{\"idx\":159,\"name\":\"DEST_OHE_ROC\"},{\"idx\":160,\"name\":\"DEST_OHE_FAR\"},{\"idx\":161,\"name\":\"DEST_OHE_MGM\"},{\"idx\":162,\"name\":\"DEST_OHE_GNV\"},{\"idx\":163,\"name\":\"DEST_OHE_ROA\"},{\"idx\":164,\"name\":\"DEST_OHE_TLH\"},{\"idx\":165,\"name\":\"DEST_OHE_VPS\"},{\"idx\":166,\"name\":\"DEST_OHE_BMI\"},{\"idx\":167,\"name\":\"DEST_OHE_ATW\"},{\"idx\":168,\"name\":\"DEST_OHE_ECP\"},{\"idx\":169,\"name\":\"DEST_OHE_SHV\"},{\"idx\":170,\"name\":\"DEST_OHE_TVC\"},{\"idx\":171,\"name\":\"DEST_OHE_TRI\"},{\"idx\":172,\"name\":\"DEST_OHE_CMI\"},{\"idx\":173,\"name\":\"DEST_OHE_CRW\"},{\"idx\":174,\"name\":\"DEST_OHE_RST\"},{\"idx\":175,\"name\":\"DEST_OHE_CHO\"},{\"idx\":176,\"name\":\"DEST_OHE_ALB\"},{\"idx\":177,\"name\":\"DEST_OHE_FAY\"},{\"idx\":178,\"name\":\"DEST_OHE_MYR\"},{\"idx\":179,\"name\":\"DEST_OHE_GPT\"},{\"idx\":180,\"name\":\"DEST_OHE_ABE\"},{\"idx\":181,\"name\":\"DEST_OHE_LNK\"},{\"idx\":182,\"name\":\"DEST_OHE_CWA\"},{\"idx\":183,\"name\":\"DEST_OHE_ILM\"},{\"idx\":184,\"name\":\"DEST_OHE_DAB\"},{\"idx\":185,\"name\":\"DEST_OHE_EYW\"},{\"idx\":186,\"name\":\"DEST_OHE_TUS\"},{\"idx\":187,\"name\":\"DEST_OHE_AZO\"},{\"idx\":188,\"name\":\"DEST_OHE_PHF\"},{\"idx\":189,\"name\":\"DEST_OHE_COS\"},{\"idx\":190,\"name\":\"DEST_OHE_PVD\"},{\"idx\":191,\"name\":\"DEST_OHE_MBS\"},{\"idx\":192,\"name\":\"DEST_OHE_AEX\"},{\"idx\":193,\"name\":\"DEST_OHE_DHN\"},{\"idx\":194,\"name\":\"DEST_OHE_MLB\"},{\"idx\":195,\"name\":\"DEST_OHE_ASE\"},{\"idx\":196,\"name\":\"DEST_OHE_MLU\"},{\"idx\":197,\"name\":\"DEST_OHE_LFT\"},{\"idx\":198,\"name\":\"DEST_OHE_LSE\"},{\"idx\":199,\"name\":\"DEST_OHE_CSG\"},{\"idx\":200,\"name\":\"DEST_OHE_ELP\"},{\"idx\":201,\"name\":\"DEST_OHE_OAJ\"},{\"idx\":202,\"name\":\"DEST_OHE_ABQ\"},{\"idx\":203,\"name\":\"DEST_OHE_SPI\"},{\"idx\":204,\"name\":\"DEST_OHE_SMF\"},{\"idx\":205,\"name\":\"DEST_OHE_DLH\"},{\"idx\":206,\"name\":\"DEST_OHE_ABY\"},{\"idx\":207,\"name\":\"DEST_OHE_DBQ\"},{\"idx\":208,\"name\":\"DEST_OHE_LAN\"},{\"idx\":209,\"name\":\"DEST_OHE_GTR\"},{\"idx\":210,\"name\":\"DEST_OHE_TOL\"},{\"idx\":211,\"name\":\"DEST_OHE_VLD\"},{\"idx\":212,\"name\":\"DEST_OHE_AVP\"},{\"idx\":213,\"name\":\"DEST_OHE_BQK\"},{\"idx\":214,\"name\":\"DEST_OHE_HNL\"},{\"idx\":215,\"name\":\"DEST_OHE_SCE\"},{\"idx\":216,\"name\":\"DEST_OHE_FSM\"},{\"idx\":217,\"name\":\"DEST_OHE_COU\"},{\"idx\":218,\"name\":\"DEST_OHE_SJC\"},{\"idx\":219,\"name\":\"DEST_OHE_STT\"},{\"idx\":220,\"name\":\"DEST_OHE_MHK\"},{\"idx\":221,\"name\":\"DEST_OHE_MHT\"},{\"idx\":222,\"name\":\"DEST_OHE_MKG\"},{\"idx\":223,\"name\":\"DEST_OHE_BTV\"},{\"idx\":224,\"name\":\"DEST_OHE_PSP\"},{\"idx\":225,\"name\":\"DEST_OHE_SUX\"},{\"idx\":226,\"name\":\"DEST_OHE_PAH\"},{\"idx\":227,\"name\":\"DEST_OHE_ERI\"},{\"idx\":228,\"name\":\"DEST_OHE_ALO\"},{\"idx\":229,\"name\":\"DEST_OHE_EAU\"},{\"idx\":230,\"name\":\"DEST_OHE_ELM\"},{\"idx\":231,\"name\":\"DEST_OHE_GRK\"},{\"idx\":232,\"name\":\"DEST_OHE_CMX\"},{\"idx\":233,\"name\":\"DEST_OHE_EWN\"},{\"idx\":234,\"name\":\"DEST_OHE_PWM\"},{\"idx\":235,\"name\":\"DEST_OHE_ANC\"},{\"idx\":236,\"name\":\"DEST_OHE_BOI\"},{\"idx\":237,\"name\":\"DEST_OHE_EGE\"},{\"idx\":238,\"name\":\"DEST_OHE_BIS\"},{\"idx\":239,\"name\":\"DEST_OHE_TTN\"},{\"idx\":240,\"name\":\"DEST_OHE_JAC\"},{\"idx\":241,\"name\":\"DEST_OHE_OAK\"},{\"idx\":242,\"name\":\"DEST_OHE_RNO\"},{\"idx\":243,\"name\":\"DEST_OHE_MTJ\"},{\"idx\":244,\"name\":\"DEST_OHE_MQT\"},{\"idx\":245,\"name\":\"DEST_OHE_BZN\"},{\"idx\":246,\"name\":\"DEST_OHE_HDN\"},{\"idx\":247,\"name\":\"DEST_OHE_ACY\"},{\"idx\":248,\"name\":\"DEST_OHE_STC\"},{\"idx\":249,\"name\":\"DEST_OHE_OGG\"},{\"idx\":250,\"name\":\"DEST_OHE_RAP\"},{\"idx\":251,\"name\":\"DEST_OHE_STX\"},{\"idx\":252,\"name\":\"DEST_OHE_FCA\"},{\"idx\":253,\"name\":\"DEST_OHE_GUC\"},{\"idx\":254,\"name\":\"DEST_OHE_LBE\"},{\"idx\":255,\"name\":\"DEST_OHE_MSO\"},{\"idx\":256,\"name\":\"DEST_OHE_ONT\"},{\"idx\":257,\"name\":\"DEST_STATE_FIPS_OHE_12\"},{\"idx\":258,\"name\":\"DEST_STATE_FIPS_OHE_48\"},{\"idx\":259,\"name\":\"DEST_STATE_FIPS_OHE_36\"},{\"idx\":260,\"name\":\"DEST_STATE_FIPS_OHE_6\"},{\"idx\":261,\"name\":\"DEST_STATE_FIPS_OHE_51\"},{\"idx\":262,\"name\":\"DEST_STATE_FIPS_OHE_37\"},{\"idx\":263,\"name\":\"DEST_STATE_FIPS_OHE_26\"},{\"idx\":264,\"name\":\"DEST_STATE_FIPS_OHE_42\"},{\"idx\":265,\"name\":\"DEST_STATE_FIPS_OHE_39\"},{\"idx\":266,\"name\":\"DEST_STATE_FIPS_OHE_17\"},{\"idx\":267,\"name\":\"DEST_STATE_FIPS_OHE_55\"},{\"idx\":268,\"name\":\"DEST_STATE_FIPS_OHE_47\"},{\"idx\":269,\"name\":\"DEST_STATE_FIPS_OHE_13\"},{\"idx\":270,\"name\":\"DEST_STATE_FIPS_OHE_29\"},{\"idx\":271,\"name\":\"DEST_STATE_FIPS_OHE_22\"},{\"idx\":272,\"name\":\"DEST_STATE_FIPS_OHE_8\"},{\"idx\":273,\"name\":\"DEST_STATE_FIPS_OHE_18\"},{\"idx\":274,\"name\":\"DEST_STATE_FIPS_OHE_21\"},{\"idx\":275,\"name\":\"DEST_STATE_FIPS_OHE_27\"},{\"idx\":276,\"name\":\"DEST_STATE_FIPS_OHE_1\"},{\"idx\":277,\"name\":\"DEST_STATE_FIPS_OHE_45\"},{\"idx\":278,\"name\":\"DEST_STATE_FIPS_OHE_25\"},{\"idx\":279,\"name\":\"DEST_STATE_FIPS_OHE_19\"},{\"idx\":280,\"name\":\"DEST_STATE_FIPS_OHE_4\"},{\"idx\":281,\"name\":\"DEST_STATE_FIPS_OHE_34\"},{\"idx\":282,\"name\":\"DEST_STATE_FIPS_OHE_5\"},{\"idx\":283,\"name\":\"DEST_STATE_FIPS_OHE_32\"},{\"idx\":284,\"name\":\"DEST_STATE_FIPS_OHE_24\"},{\"idx\":285,\"name\":\"DEST_STATE_FIPS_OHE_40\"},{\"idx\":286,\"name\":\"DEST_STATE_FIPS_OHE_53\"},{\"idx\":287,\"name\":\"DEST_STATE_FIPS_OHE_28\"},{\"idx\":288,\"name\":\"DEST_STATE_FIPS_OHE_31\"},{\"idx\":289,\"name\":\"DEST_STATE_FIPS_OHE_49\"},{\"idx\":290,\"name\":\"DEST_STATE_FIPS_OHE_20\"},{\"idx\":291,\"name\":\"DEST_STATE_FIPS_OHE_9\"},{\"idx\":292,\"name\":\"DEST_STATE_FIPS_OHE_41\"},{\"idx\":293,\"name\":\"DEST_STATE_FIPS_OHE_38\"},{\"idx\":294,\"name\":\"DEST_STATE_FIPS_OHE_46\"},{\"idx\":295,\"name\":\"DEST_STATE_FIPS_OHE_72\"},{\"idx\":296,\"name\":\"DEST_STATE_FIPS_OHE_54\"},{\"idx\":297,\"name\":\"DEST_STATE_FIPS_OHE_44\"},{\"idx\":298,\"name\":\"DEST_STATE_FIPS_OHE_35\"},{\"idx\":299,\"name\":\"DEST_STATE_FIPS_OHE_15\"},{\"idx\":300,\"name\":\"DEST_STATE_FIPS_OHE_78\"},{\"idx\":301,\"name\":\"DEST_STATE_FIPS_OHE_33\"},{\"idx\":302,\"name\":\"DEST_STATE_FIPS_OHE_50\"},{\"idx\":303,\"name\":\"DEST_STATE_FIPS_OHE_23\"},{\"idx\":304,\"name\":\"DEST_STATE_FIPS_OHE_2\"},{\"idx\":305,\"name\":\"DEST_STATE_FIPS_OHE_16\"},{\"idx\":306,\"name\":\"DEST_STATE_FIPS_OHE_56\"},{\"idx\":307,\"name\":\"DEST_STATE_FIPS_OHE_30\"},{\"idx\":308,\"name\":\"DEP_TIME_BLK_OHE_2000-2059\"},{\"idx\":309,\"name\":\"DEP_TIME_BLK_OHE_1900-1959\"},{\"idx\":310,\"name\":\"DEP_TIME_BLK_OHE_0900-0959\"},{\"idx\":311,\"name\":\"DEP_TIME_BLK_OHE_1300-1359\"},{\"idx\":312,\"name\":\"DEP_TIME_BLK_OHE_1600-1659\"},{\"idx\":313,\"name\":\"DEP_TIME_BLK_OHE_1500-1559\"},{\"idx\":314,\"name\":\"DEP_TIME_BLK_OHE_1000-1059\"},{\"idx\":315,\"name\":\"DEP_TIME_BLK_OHE_0800-0859\"},{\"idx\":316,\"name\":\"DEP_TIME_BLK_OHE_1700-1759\"},{\"idx\":317,\"name\":\"DEP_TIME_BLK_OHE_1200-1259\"},{\"idx\":318,\"name\":\"DEP_TIME_BLK_OHE_2100-2159\"},{\"idx\":319,\"name\":\"DEP_TIME_BLK_OHE_1800-1859\"},{\"idx\":320,\"name\":\"DEP_TIME_BLK_OHE_1400-1459\"},{\"idx\":321,\"name\":\"DEP_TIME_BLK_OHE_1100-1159\"},{\"idx\":322,\"name\":\"DEP_TIME_BLK_OHE_0700-0759\"},{\"idx\":323,\"name\":\"DEP_TIME_BLK_OHE_2200-2259\"},{\"idx\":324,\"name\":\"DEP_TIME_BLK_OHE_0600-0659\"},{\"idx\":325,\"name\":\"DEP_TIME_BLK_OHE_0001-0559\"},{\"idx\":326,\"name\":\"DEP_TIME_BLK_OHE_2300-2359\"},{\"idx\":327,\"name\":\"ARR_TIME_BLK_OHE_2100-2159\"},{\"idx\":328,\"name\":\"ARR_TIME_BLK_OHE_1600-1659\"},{\"idx\":329,\"name\":\"ARR_TIME_BLK_OHE_2200-2259\"},{\"idx\":330,\"name\":\"ARR_TIME_BLK_OHE_1100-1159\"},{\"idx\":331,\"name\":\"ARR_TIME_BLK_OHE_1700-1759\"},{\"idx\":332,\"name\":\"ARR_TIME_BLK_OHE_1000-1059\"},{\"idx\":333,\"name\":\"ARR_TIME_BLK_OHE_2000-2059\"},{\"idx\":334,\"name\":\"ARR_TIME_BLK_OHE_1200-1259\"},{\"idx\":335,\"name\":\"ARR_TIME_BLK_OHE_2300-2359\"},{\"idx\":336,\"name\":\"ARR_TIME_BLK_OHE_1800-1859\"},{\"idx\":337,\"name\":\"ARR_TIME_BLK_OHE_1300-1359\"},{\"idx\":338,\"name\":\"ARR_TIME_BLK_OHE_1500-1559\"},{\"idx\":339,\"name\":\"ARR_TIME_BLK_OHE_1900-1959\"},{\"idx\":340,\"name\":\"ARR_TIME_BLK_OHE_1400-1459\"},{\"idx\":341,\"name\":\"ARR_TIME_BLK_OHE_0900-0959\"},{\"idx\":342,\"name\":\"ARR_TIME_BLK_OHE_0800-0859\"},{\"idx\":343,\"name\":\"ARR_TIME_BLK_OHE_0001-0559\"},{\"idx\":344,\"name\":\"ARR_TIME_BLK_OHE_0700-0759\"},{\"idx\":345,\"name\":\"ARR_TIME_BLK_OHE_0600-0659\"},{\"idx\":346,\"name\":\"DISTANCE_GROUP_OHE_3\"},{\"idx\":347,\"name\":\"DISTANCE_GROUP_OHE_2\"},{\"idx\":348,\"name\":\"DISTANCE_GROUP_OHE_1\"},{\"idx\":349,\"name\":\"DISTANCE_GROUP_OHE_4\"},{\"idx\":350,\"name\":\"DISTANCE_GROUP_OHE_7\"},{\"idx\":351,\"name\":\"DISTANCE_GROUP_OHE_5\"},{\"idx\":352,\"name\":\"DISTANCE_GROUP_OHE_8\"},{\"idx\":353,\"name\":\"DISTANCE_GROUP_OHE_6\"},{\"idx\":354,\"name\":\"DISTANCE_GROUP_OHE_9\"},{\"idx\":355,\"name\":\"DISTANCE_GROUP_OHE_11\"},{\"idx\":356,\"name\":\"BAD_TRAVEL_DAY_OHE_0\"},{\"idx\":357,\"name\":\"DEP_TIME_SEGMENT_OHE_3\"},{\"idx\":358,\"name\":\"DEP_TIME_SEGMENT_OHE_2\"},{\"idx\":359,\"name\":\"DEP_TIME_SEGMENT_OHE_4\"},{\"idx\":360,\"name\":\"DEP_TIME_SEGMENT_OHE_1\"}]},\"num_attrs\":416}}"
                }
              ],
              "aggError": "",
              "aggData": [],
              "addedWidgets": {},
              "metadata": {},
              "dbfsResultPath": null,
              "type": "table",
              "aggOverflow": false,
              "aggSeriesLimitReached": false,
              "arguments": {}
            }
          },
          "data": {
            "text/html": [
              "<style scoped>\n  .table-result-container {\n    max-height: 300px;\n    overflow: auto;\n  }\n  table, th, td {\n    border: 1px solid black;\n    border-collapse: collapse;\n  }\n  th, td {\n    padding: 5px;\n  }\n  th {\n    text-align: left;\n  }\n</style><div class='table-result-container'><table class='table-result'><thead style='background-color: white'><tr><th>YEAR</th><th>QUARTER</th><th>MONTH</th><th>DAY_OF_MONTH</th><th>DAY_OF_WEEK</th><th>OP_UNIQUE_CARRIER</th><th>ORIGIN</th><th>ORIGIN_STATE_FIPS</th><th>DEST</th><th>DEST_STATE_FIPS</th><th>DEP_DEL15</th><th>DEP_TIME_BLK</th><th>ARR_TIME_BLK</th><th>DISTANCE_GROUP</th><th>BAD_TRAVEL_DAY</th><th>DEP_TIME_SEGMENT</th><th>p_rank</th><th>ELEVATION_ORG</th><th>SLP_ORG</th><th>VIS_ORG</th><th>TMP_ORG</th><th>DEW_ORG</th><th>CIG_ORG</th><th>WND_ORG</th><th>GUST_ORG</th><th>TCB_ORG</th><th>OBSC_ORG</th><th>PREC_ORG</th><th>SNW_ORG</th><th>FZFG_ORG</th><th>FZDZ_ORG</th><th>FZRA_ORG</th><th>TSRA_ORG</th><th>HSN_ORG</th><th>LSN_ORG</th><th>BSN_ORG</th><th>VV_ORG</th><th>TS_ORG</th><th>HAIL_ORG</th><th>FOG_ORG</th><th>VA_ORG</th><th>BR_ORG</th><th>SQ_ORG</th><th>FC_ORG</th><th>ELEVATION_DEST</th><th>SLP_DEST</th><th>VIS_DEST</th><th>TMP_DEST</th><th>DEW_DEST</th><th>CIG_DEST</th><th>WND_DEST</th><th>GUST_DEST</th><th>TCB_DEST</th><th>OBSC_DEST</th><th>PREC_DEST</th><th>SNW_DEST</th><th>FZFG_DEST</th><th>FZDZ_DEST</th><th>FZRA_DEST</th><th>TSRA_DEST</th><th>HSN_DEST</th><th>LSN_DEST</th><th>BSN_DEST</th><th>VV_DEST</th><th>TS_DEST</th><th>HAIL_DEST</th><th>FOG_DEST</th><th>VA_DEST</th><th>BR_DEST</th><th>SQ_DEST</th><th>FC_DEST</th><th>YEAR_Index</th><th>QUARTER_Index</th><th>MONTH_Index</th><th>DAY_OF_MONTH_Index</th><th>DAY_OF_WEEK_Index</th><th>OP_UNIQUE_CARRIER_Index</th><th>ORIGIN_Index</th><th>ORIGIN_STATE_FIPS_Index</th><th>DEST_Index</th><th>DEST_STATE_FIPS_Index</th><th>DEP_TIME_BLK_Index</th><th>ARR_TIME_BLK_Index</th><th>DISTANCE_GROUP_Index</th><th>BAD_TRAVEL_DAY_Index</th><th>DEP_TIME_SEGMENT_Index</th><th>YEAR_OHE</th><th>QUARTER_OHE</th><th>MONTH_OHE</th><th>DAY_OF_MONTH_OHE</th><th>DAY_OF_WEEK_OHE</th><th>OP_UNIQUE_CARRIER_OHE</th><th>ORIGIN_OHE</th><th>ORIGIN_STATE_FIPS_OHE</th><th>DEST_OHE</th><th>DEST_STATE_FIPS_OHE</th><th>DEP_TIME_BLK_OHE</th><th>ARR_TIME_BLK_OHE</th><th>DISTANCE_GROUP_OHE</th><th>BAD_TRAVEL_DAY_OHE</th><th>DEP_TIME_SEGMENT_OHE</th><th>label</th><th>SLP_ORG_imp</th><th>VIS_ORG_imp</th><th>TMP_ORG_imp</th><th>PREC_ORG_imp</th><th>DEW_ORG_imp</th><th>SLP_DEST_imp</th><th>TMP_DEST_imp</th><th>DEW_DEST_imp</th><th>PREC_DEST_imp</th><th>features_a</th><th>features_scaled</th><th>features</th></tr></thead><tbody><tr><td>2015</td><td>1</td><td>1</td><td>2</td><td>5</td><td>DL</td><td>ORD</td><td>17</td><td>ATL</td><td>13</td><td>0.0</td><td>0600-0659</td><td>0900-0959</td><td>3</td><td>0</td><td>2</td><td>0.03558293972916778</td><td>201.8</td><td>1023.0</td><td>10.0</td><td>-7.20000</td><td>-9.40000</td><td>72178</td><td>6.0</td><td>0.0</td><td>0</td><td>0</td><td>0.0</td><td>0.0</td><td>0</td><td>0</td><td>0</td><td>0</td><td>0</td><td>0</td><td>0</td><td>0</td><td>0</td><td>0</td><td>0</td><td>0</td><td>0</td><td>0</td><td>0</td><td>307.8</td><td>1024.0</td><td>10.0</td><td>6.70000</td><td>5.00000</td><td>7998</td><td>0.0</td><td>0.0</td><td>0</td><td>0</td><td>0.0</td><td>0.0</td><td>0</td><td>0</td><td>0</td><td>0</td><td>0</td><td>0</td><td>0</td><td>0</td><td>0</td><td>0</td><td>0</td><td>0</td><td>0</td><td>0</td><td>0</td><td>0.0</td><td>0.0</td><td>2.0</td><td>16.0</td><td>1.0</td><td>0.0</td><td>1.0</td><td>1.0</td><td>28.0</td><td>12.0</td><td>16.0</td><td>14.0</td><td>0.0</td><td>0.0</td><td>1.0</td><td>Map(vectorType -> sparse, length -> 1, indices -> List(0), values -> List(1.0))</td><td>Map(vectorType -> sparse, length -> 2, indices -> List(0), values -> List(1.0))</td><td>Map(vectorType -> sparse, length -> 5, indices -> List(2), values -> List(1.0))</td><td>Map(vectorType -> sparse, length -> 31, indices -> List(16), values -> List(1.0))</td><td>Map(vectorType -> sparse, length -> 7, indices -> List(1), values -> List(1.0))</td><td>Map(vectorType -> sparse, length -> 13, indices -> List(0), values -> List(1.0))</td><td>Map(vectorType -> sparse, length -> 2, indices -> List(1), values -> List(1.0))</td><td>Map(vectorType -> sparse, length -> 2, indices -> List(1), values -> List(1.0))</td><td>Map(vectorType -> sparse, length -> 194, indices -> List(28), values -> List(1.0))</td><td>Map(vectorType -> sparse, length -> 51, indices -> List(12), values -> List(1.0))</td><td>Map(vectorType -> sparse, length -> 19, indices -> List(16), values -> List(1.0))</td><td>Map(vectorType -> sparse, length -> 19, indices -> List(14), values -> List(1.0))</td><td>Map(vectorType -> sparse, length -> 10, indices -> List(0), values -> List(1.0))</td><td>Map(vectorType -> sparse, length -> 1, indices -> List(0), values -> List(1.0))</td><td>Map(vectorType -> sparse, length -> 4, indices -> List(1), values -> List(1.0))</td><td>0.0</td><td>1023.0</td><td>10.0</td><td>-7.20000</td><td>0.0</td><td>-9.40000</td><td>1024.0</td><td>6.70000</td><td>5.00000</td><td>0.0</td><td>Map(vectorType -> dense, length -> 21, values -> List(201.8, 307.8, 0.0, 0.0, 72178.0, 6.0, 0.0, 10.0, 7998.0, 0.0, 0.0, 0.03558293972916778, 1023.0, 10.0, -7.2, 0.0, -9.4, 1024.0, 6.7, 5.0, 0.0))</td><td>Map(vectorType -> sparse, length -> 21, indices -> List(1, 4, 5, 7, 8, 12, 13, 14, 16, 17, 18, 19), values -> List(0.13069534172050326, 1.0, 0.2006688963210702, 0.125, 0.11080938790213084, 0.6296296296296295, 1.0, 0.2782931354359926, 0.37627811860940685, 0.5694444444444444, 0.5461309523809524, 0.6377295492487479))</td><td>Map(vectorType -> sparse, length -> 416, indices -> List(0, 1, 5, 24, 40, 46, 60, 62, 91, 269, 324, 341, 346, 356, 358, 362, 365, 366, 368, 369, 373, 374, 375, 377, 378, 379, 380), values -> List(1.0, 1.0, 1.0, 1.0, 1.0, 1.0, 1.0, 1.0, 1.0, 1.0, 1.0, 1.0, 1.0, 1.0, 1.0, 0.13069534172050326, 1.0, 0.2006688963210702, 0.125, 0.11080938790213084, 0.6296296296296295, 1.0, 0.2782931354359926, 0.37627811860940685, 0.5694444444444444, 0.5461309523809524, 0.6377295492487479))</td></tr><tr><td>2015</td><td>1</td><td>1</td><td>2</td><td>5</td><td>DL</td><td>ATL</td><td>13</td><td>MSP</td><td>27</td><td>0.0</td><td>0800-0859</td><td>1000-1059</td><td>4</td><td>0</td><td>2</td><td>0.037677726640013585</td><td>307.8</td><td>1025.0</td><td>9.0</td><td>6.70000</td><td>5.00000</td><td>6499</td><td>0.0</td><td>0.0</td><td>0</td><td>0</td><td>0.0</td><td>0.0</td><td>0</td><td>0</td><td>0</td><td>0</td><td>0</td><td>0</td><td>0</td><td>0</td><td>0</td><td>0</td><td>0</td><td>0</td><td>0</td><td>0</td><td>0</td><td>265.8</td><td>1024.0</td><td>10.0</td><td>-13.30000</td><td>-18.30000</td><td>72178</td><td>4.1</td><td>0.0</td><td>0</td><td>0</td><td>0.0</td><td>0.0</td><td>0</td><td>0</td><td>0</td><td>0</td><td>0</td><td>0</td><td>0</td><td>0</td><td>0</td><td>0</td><td>0</td><td>0</td><td>0</td><td>0</td><td>0</td><td>0.0</td><td>0.0</td><td>2.0</td><td>16.0</td><td>1.0</td><td>0.0</td><td>0.0</td><td>0.0</td><td>5.0</td><td>18.0</td><td>7.0</td><td>5.0</td><td>3.0</td><td>0.0</td><td>1.0</td><td>Map(vectorType -> sparse, length -> 1, indices -> List(0), values -> List(1.0))</td><td>Map(vectorType -> sparse, length -> 2, indices -> List(0), values -> List(1.0))</td><td>Map(vectorType -> sparse, length -> 5, indices -> List(2), values -> List(1.0))</td><td>Map(vectorType -> sparse, length -> 31, indices -> List(16), values -> List(1.0))</td><td>Map(vectorType -> sparse, length -> 7, indices -> List(1), values -> List(1.0))</td><td>Map(vectorType -> sparse, length -> 13, indices -> List(0), values -> List(1.0))</td><td>Map(vectorType -> sparse, length -> 2, indices -> List(0), values -> List(1.0))</td><td>Map(vectorType -> sparse, length -> 2, indices -> List(0), values -> List(1.0))</td><td>Map(vectorType -> sparse, length -> 194, indices -> List(5), values -> List(1.0))</td><td>Map(vectorType -> sparse, length -> 51, indices -> List(18), values -> List(1.0))</td><td>Map(vectorType -> sparse, length -> 19, indices -> List(7), values -> List(1.0))</td><td>Map(vectorType -> sparse, length -> 19, indices -> List(5), values -> List(1.0))</td><td>Map(vectorType -> sparse, length -> 10, indices -> List(3), values -> List(1.0))</td><td>Map(vectorType -> sparse, length -> 1, indices -> List(0), values -> List(1.0))</td><td>Map(vectorType -> sparse, length -> 4, indices -> List(1), values -> List(1.0))</td><td>0.0</td><td>1025.0</td><td>9.0</td><td>6.70000</td><td>0.0</td><td>5.00000</td><td>1024.0</td><td>-13.30000</td><td>-18.30000</td><td>0.0</td><td>Map(vectorType -> dense, length -> 21, values -> List(307.8, 265.8, 0.0, 0.0, 6499.0, 0.0, 0.0, 10.0, 72178.0, 4.1, 0.0, 0.037677726640013585, 1025.0, 9.0, 6.7, 0.0, 5.0, 1024.0, -13.3, -18.3, 0.0))</td><td>Map(vectorType -> dense, length -> 21, values -> List(1.0, 0.11284427065623939, 0.0, 0.0, 0.0888041065482797, 0.0, 0.0, 0.125, 1.0, 0.10761154855643043, 0.0, 1.0, 0.6666666666666666, 0.9, 0.536178107606679, 0.0, 0.6707566462167688, 0.5694444444444444, 0.24851190476190474, 0.24874791318864778, 0.0))</td><td>Map(vectorType -> sparse, length -> 416, indices -> List(0, 1, 5, 24, 40, 46, 59, 61, 68, 275, 315, 332, 349, 356, 358, 361, 362, 365, 368, 369, 370, 372, 373, 374, 375, 377, 378, 379, 380), values -> List(1.0, 1.0, 1.0, 1.0, 1.0, 1.0, 1.0, 1.0, 1.0, 1.0, 1.0, 1.0, 1.0, 1.0, 1.0, 1.0, 0.11284427065623939, 0.0888041065482797, 0.125, 1.0, 0.10761154855643043, 1.0, 0.6666666666666666, 0.9, 0.536178107606679, 0.6707566462167688, 0.5694444444444444, 0.24851190476190474, 0.24874791318864778))</td></tr></tbody></table></div>"
            ]
          }
        }
      ],
      "execution_count": null
    },
    {
      "cell_type": "code",
      "source": [
        "# Select only the features and label\n",
        "vec_train_df = train_df.select('features','label')"
      ],
      "metadata": {
        "application/vnd.databricks.v1+cell": {
          "title": "",
          "showTitle": false,
          "inputWidgets": {},
          "nuid": "1f3c76c0-b3b4-4ffe-b182-1ec0051f2a58"
        },
        "id": "dkDZHXuFmFN_",
        "outputId": "e165a999-f3d9-4f25-abb7-9e070aa48721"
      },
      "outputs": [
        {
          "output_type": "display_data",
          "metadata": {
            "application/vnd.databricks.v1+output": {
              "datasetInfos": [],
              "data": "<div class=\"ansiout\"></div>",
              "removedWidgets": [],
              "addedWidgets": {},
              "metadata": {},
              "type": "html",
              "arguments": {}
            }
          },
          "data": {
            "text/html": [
              "<style scoped>\n  .ansiout {\n    display: block;\n    unicode-bidi: embed;\n    white-space: pre-wrap;\n    word-wrap: break-word;\n    word-break: break-all;\n    font-family: \"Source Code Pro\", \"Menlo\", monospace;;\n    font-size: 13px;\n    color: #555;\n    margin-left: 4px;\n    line-height: 19px;\n  }\n</style>\n<div class=\"ansiout\"></div>"
            ]
          }
        }
      ],
      "execution_count": null
    },
    {
      "cell_type": "code",
      "source": [
        "display(vec_train_df.limit(2))"
      ],
      "metadata": {
        "application/vnd.databricks.v1+cell": {
          "title": "",
          "showTitle": false,
          "inputWidgets": {},
          "nuid": "b4598c8e-5979-460b-b7d0-a797a3ebef6b"
        },
        "id": "ekEej0_9mFN_",
        "outputId": "a24d47af-1a46-4ec6-c534-8529fcc09c58"
      },
      "outputs": [
        {
          "output_type": "display_data",
          "metadata": {
            "application/vnd.databricks.v1+output": {
              "overflow": false,
              "datasetInfos": [],
              "data": [
                [
                  {
                    "vectorType": "sparse",
                    "length": 416,
                    "indices": [
                      0,
                      1,
                      5,
                      35,
                      39,
                      47,
                      60,
                      62,
                      149,
                      273,
                      314,
                      330,
                      348,
                      356,
                      358,
                      362,
                      365,
                      366,
                      367,
                      368,
                      369,
                      370,
                      373,
                      374,
                      375,
                      377,
                      378,
                      379,
                      380
                    ],
                    "values": [
                      1,
                      1,
                      1,
                      1,
                      1,
                      1,
                      1,
                      1,
                      1,
                      1,
                      1,
                      1,
                      1,
                      1,
                      1,
                      0.1000085005100306,
                      1,
                      0.3712374581939799,
                      0.44345898004434586,
                      0.125,
                      1,
                      0.4488188976377953,
                      0.537037037037037,
                      1,
                      0.2374768089053803,
                      0.27402862985685067,
                      0.4861111111111111,
                      0.32291666666666663,
                      0.313856427378965
                    ]
                  },
                  0
                ],
                [
                  {
                    "vectorType": "sparse",
                    "length": 416,
                    "indices": [
                      0,
                      1,
                      5,
                      35,
                      39,
                      52,
                      59,
                      61,
                      67,
                      261,
                      321,
                      334,
                      346,
                      356,
                      358,
                      361,
                      362,
                      365,
                      368,
                      369,
                      370,
                      372,
                      373,
                      374,
                      375,
                      377,
                      378,
                      379,
                      380
                    ],
                    "values": [
                      1,
                      1,
                      1,
                      1,
                      1,
                      1,
                      1,
                      1,
                      1,
                      1,
                      1,
                      1,
                      1,
                      1,
                      1,
                      1,
                      0.001147568854131248,
                      1,
                      0.125,
                      1,
                      0.2099737532808399,
                      1,
                      0.7037037037037037,
                      1,
                      0.463821892393321,
                      0.5235173824130879,
                      0.5694444444444444,
                      0.45535714285714285,
                      0.41569282136894825
                    ]
                  },
                  0
                ]
              ],
              "plotOptions": {
                "displayType": "table",
                "customPlotOptions": {},
                "pivotColumns": null,
                "pivotAggregation": null,
                "xColumns": null,
                "yColumns": null
              },
              "columnCustomDisplayInfos": {},
              "aggType": "",
              "isJsonSchema": true,
              "removedWidgets": [],
              "aggSchema": [],
              "schema": [
                {
                  "name": "features",
                  "type": "{\"type\":\"udt\",\"class\":\"org.apache.spark.ml.linalg.VectorUDT\",\"pyClass\":\"pyspark.ml.linalg.VectorUDT\",\"sqlType\":{\"type\":\"struct\",\"fields\":[{\"name\":\"type\",\"type\":\"byte\",\"nullable\":false,\"metadata\":{}},{\"name\":\"size\",\"type\":\"integer\",\"nullable\":true,\"metadata\":{}},{\"name\":\"indices\",\"type\":{\"type\":\"array\",\"elementType\":\"integer\",\"containsNull\":false},\"nullable\":true,\"metadata\":{}},{\"name\":\"values\",\"type\":{\"type\":\"array\",\"elementType\":\"double\",\"containsNull\":false},\"nullable\":true,\"metadata\":{}}]}}",
                  "metadata": "{\"ml_attr\":{\"attrs\":{\"numeric\":[{\"idx\":361,\"name\":\"features_scaled_0\"},{\"idx\":362,\"name\":\"features_scaled_1\"},{\"idx\":363,\"name\":\"features_scaled_2\"},{\"idx\":364,\"name\":\"features_scaled_3\"},{\"idx\":365,\"name\":\"features_scaled_4\"},{\"idx\":366,\"name\":\"features_scaled_5\"},{\"idx\":367,\"name\":\"features_scaled_6\"},{\"idx\":368,\"name\":\"features_scaled_7\"},{\"idx\":369,\"name\":\"features_scaled_8\"},{\"idx\":370,\"name\":\"features_scaled_9\"},{\"idx\":371,\"name\":\"features_scaled_10\"},{\"idx\":372,\"name\":\"features_scaled_11\"},{\"idx\":373,\"name\":\"features_scaled_12\"},{\"idx\":374,\"name\":\"features_scaled_13\"},{\"idx\":375,\"name\":\"features_scaled_14\"},{\"idx\":376,\"name\":\"features_scaled_15\"},{\"idx\":377,\"name\":\"features_scaled_16\"},{\"idx\":378,\"name\":\"features_scaled_17\"},{\"idx\":379,\"name\":\"features_scaled_18\"},{\"idx\":380,\"name\":\"features_scaled_19\"},{\"idx\":381,\"name\":\"features_scaled_20\"},{\"idx\":382,\"name\":\"TCB_ORG\"},{\"idx\":383,\"name\":\"OBSC_ORG\"},{\"idx\":384,\"name\":\"FZFG_ORG\"},{\"idx\":385,\"name\":\"FZDZ_ORG\"},{\"idx\":386,\"name\":\"FZRA_ORG\"},{\"idx\":387,\"name\":\"TSRA_ORG\"},{\"idx\":388,\"name\":\"HSN_ORG\"},{\"idx\":389,\"name\":\"LSN_ORG\"},{\"idx\":390,\"name\":\"BSN_ORG\"},{\"idx\":391,\"name\":\"VV_ORG\"},{\"idx\":392,\"name\":\"TS_ORG\"},{\"idx\":393,\"name\":\"HAIL_ORG\"},{\"idx\":394,\"name\":\"FOG_ORG\"},{\"idx\":395,\"name\":\"VA_ORG\"},{\"idx\":396,\"name\":\"BR_ORG\"},{\"idx\":397,\"name\":\"SQ_ORG\"},{\"idx\":398,\"name\":\"FC_ORG\"},{\"idx\":399,\"name\":\"TCB_DEST\"},{\"idx\":400,\"name\":\"OBSC_DEST\"},{\"idx\":401,\"name\":\"FZFG_DEST\"},{\"idx\":402,\"name\":\"FZDZ_DEST\"},{\"idx\":403,\"name\":\"FZRA_DEST\"},{\"idx\":404,\"name\":\"TSRA_DEST\"},{\"idx\":405,\"name\":\"HSN_DEST\"},{\"idx\":406,\"name\":\"LSN_DEST\"},{\"idx\":407,\"name\":\"BSN_DEST\"},{\"idx\":408,\"name\":\"VV_DEST\"},{\"idx\":409,\"name\":\"TS_DEST\"},{\"idx\":410,\"name\":\"HAIL_DEST\"},{\"idx\":411,\"name\":\"FOG_DEST\"},{\"idx\":412,\"name\":\"VA_DEST\"},{\"idx\":413,\"name\":\"BR_DEST\"},{\"idx\":414,\"name\":\"SQ_DEST\"},{\"idx\":415,\"name\":\"FC_DEST\"}],\"binary\":[{\"idx\":0,\"name\":\"YEAR_OHE_2015\"},{\"idx\":1,\"name\":\"QUARTER_OHE_1\"},{\"idx\":2,\"name\":\"QUARTER_OHE_2\"},{\"idx\":3,\"name\":\"MONTH_OHE_3\"},{\"idx\":4,\"name\":\"MONTH_OHE_4\"},{\"idx\":5,\"name\":\"MONTH_OHE_1\"},{\"idx\":6,\"name\":\"MONTH_OHE_5\"},{\"idx\":7,\"name\":\"MONTH_OHE_2\"},{\"idx\":8,\"name\":\"DAY_OF_MONTH_OHE_26\"},{\"idx\":9,\"name\":\"DAY_OF_MONTH_OHE_13\"},{\"idx\":10,\"name\":\"DAY_OF_MONTH_OHE_3\"},{\"idx\":11,\"name\":\"DAY_OF_MONTH_OHE_19\"},{\"idx\":12,\"name\":\"DAY_OF_MONTH_OHE_12\"},{\"idx\":13,\"name\":\"DAY_OF_MONTH_OHE_6\"},{\"idx\":14,\"name\":\"DAY_OF_MONTH_OHE_20\"},{\"idx\":15,\"name\":\"DAY_OF_MONTH_OHE_8\"},{\"idx\":16,\"name\":\"DAY_OF_MONTH_OHE_5\"},{\"idx\":17,\"name\":\"DAY_OF_MONTH_OHE_27\"},{\"idx\":18,\"name\":\"DAY_OF_MONTH_OHE_4\"},{\"idx\":19,\"name\":\"DAY_OF_MONTH_OHE_22\"},{\"idx\":20,\"name\":\"DAY_OF_MONTH_OHE_9\"},{\"idx\":21,\"name\":\"DAY_OF_MONTH_OHE_10\"},{\"idx\":22,\"name\":\"DAY_OF_MONTH_OHE_16\"},{\"idx\":23,\"name\":\"DAY_OF_MONTH_OHE_23\"},{\"idx\":24,\"name\":\"DAY_OF_MONTH_OHE_2\"},{\"idx\":25,\"name\":\"DAY_OF_MONTH_OHE_18\"},{\"idx\":26,\"name\":\"DAY_OF_MONTH_OHE_17\"},{\"idx\":27,\"name\":\"DAY_OF_MONTH_OHE_15\"},{\"idx\":28,\"name\":\"DAY_OF_MONTH_OHE_25\"},{\"idx\":29,\"name\":\"DAY_OF_MONTH_OHE_11\"},{\"idx\":30,\"name\":\"DAY_OF_MONTH_OHE_24\"},{\"idx\":31,\"name\":\"DAY_OF_MONTH_OHE_28\"},{\"idx\":32,\"name\":\"DAY_OF_MONTH_OHE_7\"},{\"idx\":33,\"name\":\"DAY_OF_MONTH_OHE_21\"},{\"idx\":34,\"name\":\"DAY_OF_MONTH_OHE_14\"},{\"idx\":35,\"name\":\"DAY_OF_MONTH_OHE_1\"},{\"idx\":36,\"name\":\"DAY_OF_MONTH_OHE_30\"},{\"idx\":37,\"name\":\"DAY_OF_MONTH_OHE_29\"},{\"idx\":38,\"name\":\"DAY_OF_MONTH_OHE_31\"},{\"idx\":39,\"name\":\"DAY_OF_WEEK_OHE_4\"},{\"idx\":40,\"name\":\"DAY_OF_WEEK_OHE_5\"},{\"idx\":41,\"name\":\"DAY_OF_WEEK_OHE_1\"},{\"idx\":42,\"name\":\"DAY_OF_WEEK_OHE_3\"},{\"idx\":43,\"name\":\"DAY_OF_WEEK_OHE_2\"},{\"idx\":44,\"name\":\"DAY_OF_WEEK_OHE_7\"},{\"idx\":45,\"name\":\"DAY_OF_WEEK_OHE_6\"},{\"idx\":46,\"name\":\"OP_UNIQUE_CARRIER_OHE_DL\"},{\"idx\":47,\"name\":\"OP_UNIQUE_CARRIER_OHE_EV\"},{\"idx\":48,\"name\":\"OP_UNIQUE_CARRIER_OHE_UA\"},{\"idx\":49,\"name\":\"OP_UNIQUE_CARRIER_OHE_MQ\"},{\"idx\":50,\"name\":\"OP_UNIQUE_CARRIER_OHE_AA\"},{\"idx\":51,\"name\":\"OP_UNIQUE_CARRIER_OHE_OO\"},{\"idx\":52,\"name\":\"OP_UNIQUE_CARRIER_OHE_WN\"},{\"idx\":53,\"name\":\"OP_UNIQUE_CARRIER_OHE_NK\"},{\"idx\":54,\"name\":\"OP_UNIQUE_CARRIER_OHE_US\"},{\"idx\":55,\"name\":\"OP_UNIQUE_CARRIER_OHE_F9\"},{\"idx\":56,\"name\":\"OP_UNIQUE_CARRIER_OHE_B6\"},{\"idx\":57,\"name\":\"OP_UNIQUE_CARRIER_OHE_AS\"},{\"idx\":58,\"name\":\"OP_UNIQUE_CARRIER_OHE_VX\"},{\"idx\":59,\"name\":\"ORIGIN_OHE_ATL\"},{\"idx\":60,\"name\":\"ORIGIN_OHE_ORD\"},{\"idx\":61,\"name\":\"ORIGIN_STATE_FIPS_OHE_13\"},{\"idx\":62,\"name\":\"ORIGIN_STATE_FIPS_OHE_17\"},{\"idx\":63,\"name\":\"DEST_OHE_LGA\"},{\"idx\":64,\"name\":\"DEST_OHE_DFW\"},{\"idx\":65,\"name\":\"DEST_OHE_LAX\"},{\"idx\":66,\"name\":\"DEST_OHE_MCO\"},{\"idx\":67,\"name\":\"DEST_OHE_DCA\"},{\"idx\":68,\"name\":\"DEST_OHE_MSP\"},{\"idx\":69,\"name\":\"DEST_OHE_DEN\"},{\"idx\":70,\"name\":\"DEST_OHE_BOS\"},{\"idx\":71,\"name\":\"DEST_OHE_PHL\"},{\"idx\":72,\"name\":\"DEST_OHE_CLT\"},{\"idx\":73,\"name\":\"DEST_OHE_FLL\"},{\"idx\":74,\"name\":\"DEST_OHE_SFO\"},{\"idx\":75,\"name\":\"DEST_OHE_TPA\"},{\"idx\":76,\"name\":\"DEST_OHE_MIA\"},{\"idx\":77,\"name\":\"DEST_OHE_DTW\"},{\"idx\":78,\"name\":\"DEST_OHE_EWR\"},{\"idx\":79,\"name\":\"DEST_OHE_MKE\"},{\"idx\":80,\"name\":\"DEST_OHE_PHX\"},{\"idx\":81,\"name\":\"DEST_OHE_LAS\"},{\"idx\":82,\"name\":\"DEST_OHE_IAH\"},{\"idx\":83,\"name\":\"DEST_OHE_BWI\"},{\"idx\":84,\"name\":\"DEST_OHE_CLE\"},{\"idx\":85,\"name\":\"DEST_OHE_MSY\"},{\"idx\":86,\"name\":\"DEST_OHE_IND\"},{\"idx\":87,\"name\":\"DEST_OHE_CMH\"},{\"idx\":88,\"name\":\"DEST_OHE_ORD\"},{\"idx\":89,\"name\":\"DEST_OHE_RSW\"},{\"idx\":90,\"name\":\"DEST_OHE_BNA\"},{\"idx\":91,\"name\":\"DEST_OHE_ATL\"},{\"idx\":92,\"name\":\"DEST_OHE_RDU\"},{\"idx\":93,\"name\":\"DEST_OHE_CVG\"},{\"idx\":94,\"name\":\"DEST_OHE_STL\"},{\"idx\":95,\"name\":\"DEST_OHE_SEA\"},{\"idx\":96,\"name\":\"DEST_OHE_MCI\"},{\"idx\":97,\"name\":\"DEST_OHE_MEM\"},{\"idx\":98,\"name\":\"DEST_OHE_RIC\"},{\"idx\":99,\"name\":\"DEST_OHE_JAX\"},{\"idx\":100,\"name\":\"DEST_OHE_AUS\"},{\"idx\":101,\"name\":\"DEST_OHE_SLC\"},{\"idx\":102,\"name\":\"DEST_OHE_PIT\"},{\"idx\":103,\"name\":\"DEST_OHE_IAD\"},{\"idx\":104,\"name\":\"DEST_OHE_PBI\"},{\"idx\":105,\"name\":\"DEST_OHE_DSM\"},{\"idx\":106,\"name\":\"DEST_OHE_SAN\"},{\"idx\":107,\"name\":\"DEST_OHE_MDW\"},{\"idx\":108,\"name\":\"DEST_OHE_XNA\"},{\"idx\":109,\"name\":\"DEST_OHE_SAT\"},{\"idx\":110,\"name\":\"DEST_OHE_HOU\"},{\"idx\":111,\"name\":\"DEST_OHE_CID\"},{\"idx\":112,\"name\":\"DEST_OHE_GRR\"},{\"idx\":113,\"name\":\"DEST_OHE_SDF\"},{\"idx\":114,\"name\":\"DEST_OHE_BHM\"},{\"idx\":115,\"name\":\"DEST_OHE_LEX\"},{\"idx\":116,\"name\":\"DEST_OHE_HPN\"},{\"idx\":117,\"name\":\"DEST_OHE_MSN\"},{\"idx\":118,\"name\":\"DEST_OHE_LIT\"},{\"idx\":119,\"name\":\"DEST_OHE_DAY\"},{\"idx\":120,\"name\":\"DEST_OHE_TUL\"},{\"idx\":121,\"name\":\"DEST_OHE_BDL\"},{\"idx\":122,\"name\":\"DEST_OHE_SAV\"},{\"idx\":123,\"name\":\"DEST_OHE_TYS\"},{\"idx\":124,\"name\":\"DEST_OHE_OKC\"},{\"idx\":125,\"name\":\"DEST_OHE_SGF\"},{\"idx\":126,\"name\":\"DEST_OHE_OMA\"},{\"idx\":127,\"name\":\"DEST_OHE_CHS\"},{\"idx\":128,\"name\":\"DEST_OHE_JFK\"},{\"idx\":129,\"name\":\"DEST_OHE_GRB\"},{\"idx\":130,\"name\":\"DEST_OHE_CAK\"},{\"idx\":131,\"name\":\"DEST_OHE_CAE\"},{\"idx\":132,\"name\":\"DEST_OHE_FWA\"},{\"idx\":133,\"name\":\"DEST_OHE_ICT\"},{\"idx\":134,\"name\":\"DEST_OHE_ORF\"},{\"idx\":135,\"name\":\"DEST_OHE_HSV\"},{\"idx\":136,\"name\":\"DEST_OHE_BUF\"},{\"idx\":137,\"name\":\"DEST_OHE_GSP\"},{\"idx\":138,\"name\":\"DEST_OHE_GSO\"},{\"idx\":139,\"name\":\"DEST_OHE_SNA\"},{\"idx\":140,\"name\":\"DEST_OHE_CHA\"},{\"idx\":141,\"name\":\"DEST_OHE_PIA\"},{\"idx\":142,\"name\":\"DEST_OHE_FNT\"},{\"idx\":143,\"name\":\"DEST_OHE_BTR\"},{\"idx\":144,\"name\":\"DEST_OHE_JAN\"},{\"idx\":145,\"name\":\"DEST_OHE_DAL\"},{\"idx\":146,\"name\":\"DEST_OHE_PDX\"},{\"idx\":147,\"name\":\"DEST_OHE_MLI\"},{\"idx\":148,\"name\":\"DEST_OHE_MDT\"},{\"idx\":149,\"name\":\"DEST_OHE_SBN\"},{\"idx\":150,\"name\":\"DEST_OHE_SJU\"},{\"idx\":151,\"name\":\"DEST_OHE_FSD\"},{\"idx\":152,\"name\":\"DEST_OHE_MOB\"},{\"idx\":153,\"name\":\"DEST_OHE_PNS\"},{\"idx\":154,\"name\":\"DEST_OHE_AVL\"},{\"idx\":155,\"name\":\"DEST_OHE_SYR\"},{\"idx\":156,\"name\":\"DEST_OHE_SRQ\"},{\"idx\":157,\"name\":\"DEST_OHE_AGS\"},{\"idx\":158,\"name\":\"DEST_OHE_EVV\"},{\"idx\":159,\"name\":\"DEST_OHE_ROC\"},{\"idx\":160,\"name\":\"DEST_OHE_FAR\"},{\"idx\":161,\"name\":\"DEST_OHE_MGM\"},{\"idx\":162,\"name\":\"DEST_OHE_GNV\"},{\"idx\":163,\"name\":\"DEST_OHE_ROA\"},{\"idx\":164,\"name\":\"DEST_OHE_TLH\"},{\"idx\":165,\"name\":\"DEST_OHE_VPS\"},{\"idx\":166,\"name\":\"DEST_OHE_BMI\"},{\"idx\":167,\"name\":\"DEST_OHE_ATW\"},{\"idx\":168,\"name\":\"DEST_OHE_ECP\"},{\"idx\":169,\"name\":\"DEST_OHE_SHV\"},{\"idx\":170,\"name\":\"DEST_OHE_TVC\"},{\"idx\":171,\"name\":\"DEST_OHE_TRI\"},{\"idx\":172,\"name\":\"DEST_OHE_CMI\"},{\"idx\":173,\"name\":\"DEST_OHE_CRW\"},{\"idx\":174,\"name\":\"DEST_OHE_RST\"},{\"idx\":175,\"name\":\"DEST_OHE_CHO\"},{\"idx\":176,\"name\":\"DEST_OHE_ALB\"},{\"idx\":177,\"name\":\"DEST_OHE_FAY\"},{\"idx\":178,\"name\":\"DEST_OHE_MYR\"},{\"idx\":179,\"name\":\"DEST_OHE_GPT\"},{\"idx\":180,\"name\":\"DEST_OHE_ABE\"},{\"idx\":181,\"name\":\"DEST_OHE_LNK\"},{\"idx\":182,\"name\":\"DEST_OHE_CWA\"},{\"idx\":183,\"name\":\"DEST_OHE_ILM\"},{\"idx\":184,\"name\":\"DEST_OHE_DAB\"},{\"idx\":185,\"name\":\"DEST_OHE_EYW\"},{\"idx\":186,\"name\":\"DEST_OHE_TUS\"},{\"idx\":187,\"name\":\"DEST_OHE_AZO\"},{\"idx\":188,\"name\":\"DEST_OHE_PHF\"},{\"idx\":189,\"name\":\"DEST_OHE_COS\"},{\"idx\":190,\"name\":\"DEST_OHE_PVD\"},{\"idx\":191,\"name\":\"DEST_OHE_MBS\"},{\"idx\":192,\"name\":\"DEST_OHE_AEX\"},{\"idx\":193,\"name\":\"DEST_OHE_DHN\"},{\"idx\":194,\"name\":\"DEST_OHE_MLB\"},{\"idx\":195,\"name\":\"DEST_OHE_ASE\"},{\"idx\":196,\"name\":\"DEST_OHE_MLU\"},{\"idx\":197,\"name\":\"DEST_OHE_LFT\"},{\"idx\":198,\"name\":\"DEST_OHE_LSE\"},{\"idx\":199,\"name\":\"DEST_OHE_CSG\"},{\"idx\":200,\"name\":\"DEST_OHE_ELP\"},{\"idx\":201,\"name\":\"DEST_OHE_OAJ\"},{\"idx\":202,\"name\":\"DEST_OHE_ABQ\"},{\"idx\":203,\"name\":\"DEST_OHE_SPI\"},{\"idx\":204,\"name\":\"DEST_OHE_SMF\"},{\"idx\":205,\"name\":\"DEST_OHE_DLH\"},{\"idx\":206,\"name\":\"DEST_OHE_ABY\"},{\"idx\":207,\"name\":\"DEST_OHE_DBQ\"},{\"idx\":208,\"name\":\"DEST_OHE_LAN\"},{\"idx\":209,\"name\":\"DEST_OHE_GTR\"},{\"idx\":210,\"name\":\"DEST_OHE_TOL\"},{\"idx\":211,\"name\":\"DEST_OHE_VLD\"},{\"idx\":212,\"name\":\"DEST_OHE_AVP\"},{\"idx\":213,\"name\":\"DEST_OHE_BQK\"},{\"idx\":214,\"name\":\"DEST_OHE_HNL\"},{\"idx\":215,\"name\":\"DEST_OHE_SCE\"},{\"idx\":216,\"name\":\"DEST_OHE_FSM\"},{\"idx\":217,\"name\":\"DEST_OHE_COU\"},{\"idx\":218,\"name\":\"DEST_OHE_SJC\"},{\"idx\":219,\"name\":\"DEST_OHE_STT\"},{\"idx\":220,\"name\":\"DEST_OHE_MHK\"},{\"idx\":221,\"name\":\"DEST_OHE_MHT\"},{\"idx\":222,\"name\":\"DEST_OHE_MKG\"},{\"idx\":223,\"name\":\"DEST_OHE_BTV\"},{\"idx\":224,\"name\":\"DEST_OHE_PSP\"},{\"idx\":225,\"name\":\"DEST_OHE_SUX\"},{\"idx\":226,\"name\":\"DEST_OHE_PAH\"},{\"idx\":227,\"name\":\"DEST_OHE_ERI\"},{\"idx\":228,\"name\":\"DEST_OHE_ALO\"},{\"idx\":229,\"name\":\"DEST_OHE_EAU\"},{\"idx\":230,\"name\":\"DEST_OHE_ELM\"},{\"idx\":231,\"name\":\"DEST_OHE_GRK\"},{\"idx\":232,\"name\":\"DEST_OHE_CMX\"},{\"idx\":233,\"name\":\"DEST_OHE_EWN\"},{\"idx\":234,\"name\":\"DEST_OHE_PWM\"},{\"idx\":235,\"name\":\"DEST_OHE_ANC\"},{\"idx\":236,\"name\":\"DEST_OHE_BOI\"},{\"idx\":237,\"name\":\"DEST_OHE_EGE\"},{\"idx\":238,\"name\":\"DEST_OHE_BIS\"},{\"idx\":239,\"name\":\"DEST_OHE_TTN\"},{\"idx\":240,\"name\":\"DEST_OHE_JAC\"},{\"idx\":241,\"name\":\"DEST_OHE_OAK\"},{\"idx\":242,\"name\":\"DEST_OHE_RNO\"},{\"idx\":243,\"name\":\"DEST_OHE_MTJ\"},{\"idx\":244,\"name\":\"DEST_OHE_MQT\"},{\"idx\":245,\"name\":\"DEST_OHE_BZN\"},{\"idx\":246,\"name\":\"DEST_OHE_HDN\"},{\"idx\":247,\"name\":\"DEST_OHE_ACY\"},{\"idx\":248,\"name\":\"DEST_OHE_STC\"},{\"idx\":249,\"name\":\"DEST_OHE_OGG\"},{\"idx\":250,\"name\":\"DEST_OHE_RAP\"},{\"idx\":251,\"name\":\"DEST_OHE_STX\"},{\"idx\":252,\"name\":\"DEST_OHE_FCA\"},{\"idx\":253,\"name\":\"DEST_OHE_GUC\"},{\"idx\":254,\"name\":\"DEST_OHE_LBE\"},{\"idx\":255,\"name\":\"DEST_OHE_MSO\"},{\"idx\":256,\"name\":\"DEST_OHE_ONT\"},{\"idx\":257,\"name\":\"DEST_STATE_FIPS_OHE_12\"},{\"idx\":258,\"name\":\"DEST_STATE_FIPS_OHE_48\"},{\"idx\":259,\"name\":\"DEST_STATE_FIPS_OHE_36\"},{\"idx\":260,\"name\":\"DEST_STATE_FIPS_OHE_6\"},{\"idx\":261,\"name\":\"DEST_STATE_FIPS_OHE_51\"},{\"idx\":262,\"name\":\"DEST_STATE_FIPS_OHE_37\"},{\"idx\":263,\"name\":\"DEST_STATE_FIPS_OHE_26\"},{\"idx\":264,\"name\":\"DEST_STATE_FIPS_OHE_42\"},{\"idx\":265,\"name\":\"DEST_STATE_FIPS_OHE_39\"},{\"idx\":266,\"name\":\"DEST_STATE_FIPS_OHE_17\"},{\"idx\":267,\"name\":\"DEST_STATE_FIPS_OHE_55\"},{\"idx\":268,\"name\":\"DEST_STATE_FIPS_OHE_47\"},{\"idx\":269,\"name\":\"DEST_STATE_FIPS_OHE_13\"},{\"idx\":270,\"name\":\"DEST_STATE_FIPS_OHE_29\"},{\"idx\":271,\"name\":\"DEST_STATE_FIPS_OHE_22\"},{\"idx\":272,\"name\":\"DEST_STATE_FIPS_OHE_8\"},{\"idx\":273,\"name\":\"DEST_STATE_FIPS_OHE_18\"},{\"idx\":274,\"name\":\"DEST_STATE_FIPS_OHE_21\"},{\"idx\":275,\"name\":\"DEST_STATE_FIPS_OHE_27\"},{\"idx\":276,\"name\":\"DEST_STATE_FIPS_OHE_1\"},{\"idx\":277,\"name\":\"DEST_STATE_FIPS_OHE_45\"},{\"idx\":278,\"name\":\"DEST_STATE_FIPS_OHE_25\"},{\"idx\":279,\"name\":\"DEST_STATE_FIPS_OHE_19\"},{\"idx\":280,\"name\":\"DEST_STATE_FIPS_OHE_4\"},{\"idx\":281,\"name\":\"DEST_STATE_FIPS_OHE_34\"},{\"idx\":282,\"name\":\"DEST_STATE_FIPS_OHE_5\"},{\"idx\":283,\"name\":\"DEST_STATE_FIPS_OHE_32\"},{\"idx\":284,\"name\":\"DEST_STATE_FIPS_OHE_24\"},{\"idx\":285,\"name\":\"DEST_STATE_FIPS_OHE_40\"},{\"idx\":286,\"name\":\"DEST_STATE_FIPS_OHE_53\"},{\"idx\":287,\"name\":\"DEST_STATE_FIPS_OHE_28\"},{\"idx\":288,\"name\":\"DEST_STATE_FIPS_OHE_31\"},{\"idx\":289,\"name\":\"DEST_STATE_FIPS_OHE_49\"},{\"idx\":290,\"name\":\"DEST_STATE_FIPS_OHE_20\"},{\"idx\":291,\"name\":\"DEST_STATE_FIPS_OHE_9\"},{\"idx\":292,\"name\":\"DEST_STATE_FIPS_OHE_41\"},{\"idx\":293,\"name\":\"DEST_STATE_FIPS_OHE_38\"},{\"idx\":294,\"name\":\"DEST_STATE_FIPS_OHE_46\"},{\"idx\":295,\"name\":\"DEST_STATE_FIPS_OHE_72\"},{\"idx\":296,\"name\":\"DEST_STATE_FIPS_OHE_54\"},{\"idx\":297,\"name\":\"DEST_STATE_FIPS_OHE_44\"},{\"idx\":298,\"name\":\"DEST_STATE_FIPS_OHE_35\"},{\"idx\":299,\"name\":\"DEST_STATE_FIPS_OHE_15\"},{\"idx\":300,\"name\":\"DEST_STATE_FIPS_OHE_78\"},{\"idx\":301,\"name\":\"DEST_STATE_FIPS_OHE_33\"},{\"idx\":302,\"name\":\"DEST_STATE_FIPS_OHE_50\"},{\"idx\":303,\"name\":\"DEST_STATE_FIPS_OHE_23\"},{\"idx\":304,\"name\":\"DEST_STATE_FIPS_OHE_2\"},{\"idx\":305,\"name\":\"DEST_STATE_FIPS_OHE_16\"},{\"idx\":306,\"name\":\"DEST_STATE_FIPS_OHE_56\"},{\"idx\":307,\"name\":\"DEST_STATE_FIPS_OHE_30\"},{\"idx\":308,\"name\":\"DEP_TIME_BLK_OHE_2000-2059\"},{\"idx\":309,\"name\":\"DEP_TIME_BLK_OHE_1900-1959\"},{\"idx\":310,\"name\":\"DEP_TIME_BLK_OHE_0900-0959\"},{\"idx\":311,\"name\":\"DEP_TIME_BLK_OHE_1300-1359\"},{\"idx\":312,\"name\":\"DEP_TIME_BLK_OHE_1600-1659\"},{\"idx\":313,\"name\":\"DEP_TIME_BLK_OHE_1500-1559\"},{\"idx\":314,\"name\":\"DEP_TIME_BLK_OHE_1000-1059\"},{\"idx\":315,\"name\":\"DEP_TIME_BLK_OHE_0800-0859\"},{\"idx\":316,\"name\":\"DEP_TIME_BLK_OHE_1700-1759\"},{\"idx\":317,\"name\":\"DEP_TIME_BLK_OHE_1200-1259\"},{\"idx\":318,\"name\":\"DEP_TIME_BLK_OHE_2100-2159\"},{\"idx\":319,\"name\":\"DEP_TIME_BLK_OHE_1800-1859\"},{\"idx\":320,\"name\":\"DEP_TIME_BLK_OHE_1400-1459\"},{\"idx\":321,\"name\":\"DEP_TIME_BLK_OHE_1100-1159\"},{\"idx\":322,\"name\":\"DEP_TIME_BLK_OHE_0700-0759\"},{\"idx\":323,\"name\":\"DEP_TIME_BLK_OHE_2200-2259\"},{\"idx\":324,\"name\":\"DEP_TIME_BLK_OHE_0600-0659\"},{\"idx\":325,\"name\":\"DEP_TIME_BLK_OHE_0001-0559\"},{\"idx\":326,\"name\":\"DEP_TIME_BLK_OHE_2300-2359\"},{\"idx\":327,\"name\":\"ARR_TIME_BLK_OHE_2100-2159\"},{\"idx\":328,\"name\":\"ARR_TIME_BLK_OHE_1600-1659\"},{\"idx\":329,\"name\":\"ARR_TIME_BLK_OHE_2200-2259\"},{\"idx\":330,\"name\":\"ARR_TIME_BLK_OHE_1100-1159\"},{\"idx\":331,\"name\":\"ARR_TIME_BLK_OHE_1700-1759\"},{\"idx\":332,\"name\":\"ARR_TIME_BLK_OHE_1000-1059\"},{\"idx\":333,\"name\":\"ARR_TIME_BLK_OHE_2000-2059\"},{\"idx\":334,\"name\":\"ARR_TIME_BLK_OHE_1200-1259\"},{\"idx\":335,\"name\":\"ARR_TIME_BLK_OHE_2300-2359\"},{\"idx\":336,\"name\":\"ARR_TIME_BLK_OHE_1800-1859\"},{\"idx\":337,\"name\":\"ARR_TIME_BLK_OHE_1300-1359\"},{\"idx\":338,\"name\":\"ARR_TIME_BLK_OHE_1500-1559\"},{\"idx\":339,\"name\":\"ARR_TIME_BLK_OHE_1900-1959\"},{\"idx\":340,\"name\":\"ARR_TIME_BLK_OHE_1400-1459\"},{\"idx\":341,\"name\":\"ARR_TIME_BLK_OHE_0900-0959\"},{\"idx\":342,\"name\":\"ARR_TIME_BLK_OHE_0800-0859\"},{\"idx\":343,\"name\":\"ARR_TIME_BLK_OHE_0001-0559\"},{\"idx\":344,\"name\":\"ARR_TIME_BLK_OHE_0700-0759\"},{\"idx\":345,\"name\":\"ARR_TIME_BLK_OHE_0600-0659\"},{\"idx\":346,\"name\":\"DISTANCE_GROUP_OHE_3\"},{\"idx\":347,\"name\":\"DISTANCE_GROUP_OHE_2\"},{\"idx\":348,\"name\":\"DISTANCE_GROUP_OHE_1\"},{\"idx\":349,\"name\":\"DISTANCE_GROUP_OHE_4\"},{\"idx\":350,\"name\":\"DISTANCE_GROUP_OHE_7\"},{\"idx\":351,\"name\":\"DISTANCE_GROUP_OHE_5\"},{\"idx\":352,\"name\":\"DISTANCE_GROUP_OHE_8\"},{\"idx\":353,\"name\":\"DISTANCE_GROUP_OHE_6\"},{\"idx\":354,\"name\":\"DISTANCE_GROUP_OHE_9\"},{\"idx\":355,\"name\":\"DISTANCE_GROUP_OHE_11\"},{\"idx\":356,\"name\":\"BAD_TRAVEL_DAY_OHE_0\"},{\"idx\":357,\"name\":\"DEP_TIME_SEGMENT_OHE_3\"},{\"idx\":358,\"name\":\"DEP_TIME_SEGMENT_OHE_2\"},{\"idx\":359,\"name\":\"DEP_TIME_SEGMENT_OHE_4\"},{\"idx\":360,\"name\":\"DEP_TIME_SEGMENT_OHE_1\"}]},\"num_attrs\":416}}"
                },
                {
                  "name": "label",
                  "type": "\"double\"",
                  "metadata": "{\"ml_attr\":{\"vals\":[\"0.0\",\"1.0\"],\"type\":\"nominal\",\"name\":\"label\"}}"
                }
              ],
              "aggError": "",
              "aggData": [],
              "addedWidgets": {},
              "metadata": {},
              "dbfsResultPath": null,
              "type": "table",
              "aggOverflow": false,
              "aggSeriesLimitReached": false,
              "arguments": {}
            }
          },
          "data": {
            "text/html": [
              "<style scoped>\n  .table-result-container {\n    max-height: 300px;\n    overflow: auto;\n  }\n  table, th, td {\n    border: 1px solid black;\n    border-collapse: collapse;\n  }\n  th, td {\n    padding: 5px;\n  }\n  th {\n    text-align: left;\n  }\n</style><div class='table-result-container'><table class='table-result'><thead style='background-color: white'><tr><th>features</th><th>label</th></tr></thead><tbody><tr><td>Map(vectorType -> sparse, length -> 416, indices -> List(0, 1, 5, 35, 39, 47, 60, 62, 149, 273, 314, 330, 348, 356, 358, 362, 365, 366, 367, 368, 369, 370, 373, 374, 375, 377, 378, 379, 380), values -> List(1.0, 1.0, 1.0, 1.0, 1.0, 1.0, 1.0, 1.0, 1.0, 1.0, 1.0, 1.0, 1.0, 1.0, 1.0, 0.1000085005100306, 1.0, 0.3712374581939799, 0.44345898004434586, 0.125, 1.0, 0.4488188976377953, 0.537037037037037, 1.0, 0.2374768089053803, 0.27402862985685067, 0.4861111111111111, 0.32291666666666663, 0.313856427378965))</td><td>0.0</td></tr><tr><td>Map(vectorType -> sparse, length -> 416, indices -> List(0, 1, 5, 35, 39, 52, 59, 61, 67, 261, 321, 334, 346, 356, 358, 361, 362, 365, 368, 369, 370, 372, 373, 374, 375, 377, 378, 379, 380), values -> List(1.0, 1.0, 1.0, 1.0, 1.0, 1.0, 1.0, 1.0, 1.0, 1.0, 1.0, 1.0, 1.0, 1.0, 1.0, 1.0, 0.001147568854131248, 1.0, 0.125, 1.0, 0.2099737532808399, 1.0, 0.7037037037037037, 1.0, 0.463821892393321, 0.5235173824130879, 0.5694444444444444, 0.45535714285714285, 0.41569282136894825))</td><td>0.0</td></tr></tbody></table></div>"
            ]
          }
        }
      ],
      "execution_count": null
    },
    {
      "cell_type": "code",
      "source": [
        "# helper function to parse features and labels\n",
        "def parse(row):\n",
        "    \"\"\"\n",
        "    Map record_string --> (tuple,of,fields)\n",
        "    \"\"\"\n",
        "    return(row.features.toArray(), int(row.label))"
      ],
      "metadata": {
        "application/vnd.databricks.v1+cell": {
          "title": "",
          "showTitle": false,
          "inputWidgets": {},
          "nuid": "d7b3e4be-a929-4064-b1b5-f68a4a14c7b4"
        },
        "id": "1fb9KObNmFN_",
        "outputId": "8c3da2f2-0c15-4e9f-a436-7d70bfad69b8"
      },
      "outputs": [
        {
          "output_type": "display_data",
          "metadata": {
            "application/vnd.databricks.v1+output": {
              "datasetInfos": [],
              "data": "<div class=\"ansiout\"></div>",
              "removedWidgets": [],
              "addedWidgets": {},
              "metadata": {},
              "type": "html",
              "arguments": {}
            }
          },
          "data": {
            "text/html": [
              "<style scoped>\n  .ansiout {\n    display: block;\n    unicode-bidi: embed;\n    white-space: pre-wrap;\n    word-wrap: break-word;\n    word-break: break-all;\n    font-family: \"Source Code Pro\", \"Menlo\", monospace;;\n    font-size: 13px;\n    color: #555;\n    margin-left: 4px;\n    line-height: 19px;\n  }\n</style>\n<div class=\"ansiout\"></div>"
            ]
          }
        }
      ],
      "execution_count": null
    },
    {
      "cell_type": "code",
      "source": [
        "# Parse the train set features and label into a tuple rdd\n",
        "vec_train_rdd = vec_train_df.rdd.map(parse).cache()"
      ],
      "metadata": {
        "application/vnd.databricks.v1+cell": {
          "title": "",
          "showTitle": false,
          "inputWidgets": {},
          "nuid": "c048dd08-b513-4418-9777-75ede99d8d19"
        },
        "id": "o5xNwRuBmFN_",
        "outputId": "bc649b41-effd-40c9-99e1-89f8ea3a4bcf"
      },
      "outputs": [
        {
          "output_type": "display_data",
          "metadata": {
            "application/vnd.databricks.v1+output": {
              "datasetInfos": [],
              "data": "<div class=\"ansiout\"></div>",
              "removedWidgets": [],
              "addedWidgets": {},
              "metadata": {},
              "type": "html",
              "arguments": {}
            }
          },
          "data": {
            "text/html": [
              "<style scoped>\n  .ansiout {\n    display: block;\n    unicode-bidi: embed;\n    white-space: pre-wrap;\n    word-wrap: break-word;\n    word-break: break-all;\n    font-family: \"Source Code Pro\", \"Menlo\", monospace;;\n    font-size: 13px;\n    color: #555;\n    margin-left: 4px;\n    line-height: 19px;\n  }\n</style>\n<div class=\"ansiout\"></div>"
            ]
          }
        }
      ],
      "execution_count": null
    },
    {
      "cell_type": "code",
      "source": [
        "# Parse the test set features and label into a tuple rdd\n",
        "test_df = pipelineModel.transform(test_df)\n",
        "vec_test_df = test_df.select('features','label')\n",
        "vec_test_rdd = vec_test_df.rdd.map(parse).cache()"
      ],
      "metadata": {
        "application/vnd.databricks.v1+cell": {
          "title": "",
          "showTitle": false,
          "inputWidgets": {},
          "nuid": "c71c2caf-ce3d-4f56-bae3-c33323f6e605"
        },
        "id": "Boqvfbn8mFN_",
        "outputId": "09a01f15-16f6-44ba-c1ba-45c1293eada1"
      },
      "outputs": [
        {
          "output_type": "display_data",
          "metadata": {
            "application/vnd.databricks.v1+output": {
              "datasetInfos": [],
              "data": "<div class=\"ansiout\"></div>",
              "removedWidgets": [],
              "addedWidgets": {},
              "metadata": {},
              "type": "html",
              "arguments": {}
            }
          },
          "data": {
            "text/html": [
              "<style scoped>\n  .ansiout {\n    display: block;\n    unicode-bidi: embed;\n    white-space: pre-wrap;\n    word-wrap: break-word;\n    word-break: break-all;\n    font-family: \"Source Code Pro\", \"Menlo\", monospace;;\n    font-size: 13px;\n    color: #555;\n    margin-left: 4px;\n    line-height: 19px;\n  }\n</style>\n<div class=\"ansiout\"></div>"
            ]
          }
        }
      ],
      "execution_count": null
    },
    {
      "cell_type": "code",
      "source": [
        "display(vec_test_df.limit(2))"
      ],
      "metadata": {
        "application/vnd.databricks.v1+cell": {
          "title": "",
          "showTitle": false,
          "inputWidgets": {},
          "nuid": "8cbd4e46-bc0d-4118-b029-b612e5d43541"
        },
        "id": "mA7tOciLmFOA",
        "outputId": "ecb7c3c5-2a9b-4476-916d-a3ff700f65d8"
      },
      "outputs": [
        {
          "output_type": "display_data",
          "metadata": {
            "application/vnd.databricks.v1+output": {
              "overflow": false,
              "datasetInfos": [],
              "data": [
                [
                  {
                    "vectorType": "sparse",
                    "length": 416,
                    "indices": [
                      0,
                      2,
                      6,
                      37,
                      40,
                      47,
                      59,
                      61,
                      166,
                      266,
                      320,
                      338,
                      346,
                      356,
                      357,
                      361,
                      362,
                      365,
                      366,
                      368,
                      369,
                      370,
                      372,
                      373,
                      374,
                      375,
                      377,
                      378,
                      379,
                      380,
                      381
                    ],
                    "values": [
                      1,
                      1,
                      1,
                      1,
                      1,
                      1,
                      1,
                      1,
                      1,
                      1,
                      1,
                      1,
                      1,
                      1,
                      1,
                      1,
                      0.11195171710302619,
                      0.07491675915649279,
                      0.17056856187290967,
                      0.125,
                      0.048491230014685915,
                      0.34120734908136485,
                      1,
                      0.6296296296296295,
                      1,
                      0.8868274582560297,
                      0.9325153374233128,
                      0.4583333333333333,
                      0.8258928571428571,
                      0.8964941569282137,
                      0.012903225806451613
                    ]
                  },
                  1
                ],
                [
                  {
                    "vectorType": "sparse",
                    "length": 416,
                    "indices": [
                      0,
                      2,
                      6,
                      37,
                      40,
                      46,
                      59,
                      61,
                      63,
                      259,
                      324,
                      342,
                      349,
                      356,
                      358,
                      361,
                      362,
                      365,
                      366,
                      368,
                      369,
                      370,
                      372,
                      373,
                      374,
                      375,
                      377,
                      378,
                      379,
                      380,
                      396
                    ],
                    "values": [
                      1,
                      1,
                      1,
                      1,
                      1,
                      1,
                      1,
                      1,
                      1,
                      1,
                      1,
                      1,
                      1,
                      1,
                      1,
                      1,
                      0.0013175790547432847,
                      0.004189789123196449,
                      0.2006688963210702,
                      0.125,
                      1,
                      0.10761154855643043,
                      1,
                      0.5740740740740741,
                      0.1,
                      0.7829313543599259,
                      0.936605316973415,
                      0.5694444444444444,
                      0.7351190476190476,
                      0.7495826377295494,
                      1
                    ]
                  },
                  0
                ]
              ],
              "plotOptions": {
                "displayType": "table",
                "customPlotOptions": {},
                "pivotColumns": null,
                "pivotAggregation": null,
                "xColumns": null,
                "yColumns": null
              },
              "columnCustomDisplayInfos": {},
              "aggType": "",
              "isJsonSchema": true,
              "removedWidgets": [],
              "aggSchema": [],
              "schema": [
                {
                  "name": "features",
                  "type": "{\"type\":\"udt\",\"class\":\"org.apache.spark.ml.linalg.VectorUDT\",\"pyClass\":\"pyspark.ml.linalg.VectorUDT\",\"sqlType\":{\"type\":\"struct\",\"fields\":[{\"name\":\"type\",\"type\":\"byte\",\"nullable\":false,\"metadata\":{}},{\"name\":\"size\",\"type\":\"integer\",\"nullable\":true,\"metadata\":{}},{\"name\":\"indices\",\"type\":{\"type\":\"array\",\"elementType\":\"integer\",\"containsNull\":false},\"nullable\":true,\"metadata\":{}},{\"name\":\"values\",\"type\":{\"type\":\"array\",\"elementType\":\"double\",\"containsNull\":false},\"nullable\":true,\"metadata\":{}}]}}",
                  "metadata": "{\"ml_attr\":{\"attrs\":{\"numeric\":[{\"idx\":361,\"name\":\"features_scaled_0\"},{\"idx\":362,\"name\":\"features_scaled_1\"},{\"idx\":363,\"name\":\"features_scaled_2\"},{\"idx\":364,\"name\":\"features_scaled_3\"},{\"idx\":365,\"name\":\"features_scaled_4\"},{\"idx\":366,\"name\":\"features_scaled_5\"},{\"idx\":367,\"name\":\"features_scaled_6\"},{\"idx\":368,\"name\":\"features_scaled_7\"},{\"idx\":369,\"name\":\"features_scaled_8\"},{\"idx\":370,\"name\":\"features_scaled_9\"},{\"idx\":371,\"name\":\"features_scaled_10\"},{\"idx\":372,\"name\":\"features_scaled_11\"},{\"idx\":373,\"name\":\"features_scaled_12\"},{\"idx\":374,\"name\":\"features_scaled_13\"},{\"idx\":375,\"name\":\"features_scaled_14\"},{\"idx\":376,\"name\":\"features_scaled_15\"},{\"idx\":377,\"name\":\"features_scaled_16\"},{\"idx\":378,\"name\":\"features_scaled_17\"},{\"idx\":379,\"name\":\"features_scaled_18\"},{\"idx\":380,\"name\":\"features_scaled_19\"},{\"idx\":381,\"name\":\"features_scaled_20\"},{\"idx\":382,\"name\":\"TCB_ORG\"},{\"idx\":383,\"name\":\"OBSC_ORG\"},{\"idx\":384,\"name\":\"FZFG_ORG\"},{\"idx\":385,\"name\":\"FZDZ_ORG\"},{\"idx\":386,\"name\":\"FZRA_ORG\"},{\"idx\":387,\"name\":\"TSRA_ORG\"},{\"idx\":388,\"name\":\"HSN_ORG\"},{\"idx\":389,\"name\":\"LSN_ORG\"},{\"idx\":390,\"name\":\"BSN_ORG\"},{\"idx\":391,\"name\":\"VV_ORG\"},{\"idx\":392,\"name\":\"TS_ORG\"},{\"idx\":393,\"name\":\"HAIL_ORG\"},{\"idx\":394,\"name\":\"FOG_ORG\"},{\"idx\":395,\"name\":\"VA_ORG\"},{\"idx\":396,\"name\":\"BR_ORG\"},{\"idx\":397,\"name\":\"SQ_ORG\"},{\"idx\":398,\"name\":\"FC_ORG\"},{\"idx\":399,\"name\":\"TCB_DEST\"},{\"idx\":400,\"name\":\"OBSC_DEST\"},{\"idx\":401,\"name\":\"FZFG_DEST\"},{\"idx\":402,\"name\":\"FZDZ_DEST\"},{\"idx\":403,\"name\":\"FZRA_DEST\"},{\"idx\":404,\"name\":\"TSRA_DEST\"},{\"idx\":405,\"name\":\"HSN_DEST\"},{\"idx\":406,\"name\":\"LSN_DEST\"},{\"idx\":407,\"name\":\"BSN_DEST\"},{\"idx\":408,\"name\":\"VV_DEST\"},{\"idx\":409,\"name\":\"TS_DEST\"},{\"idx\":410,\"name\":\"HAIL_DEST\"},{\"idx\":411,\"name\":\"FOG_DEST\"},{\"idx\":412,\"name\":\"VA_DEST\"},{\"idx\":413,\"name\":\"BR_DEST\"},{\"idx\":414,\"name\":\"SQ_DEST\"},{\"idx\":415,\"name\":\"FC_DEST\"}],\"binary\":[{\"idx\":0,\"name\":\"YEAR_OHE_2015\"},{\"idx\":1,\"name\":\"QUARTER_OHE_1\"},{\"idx\":2,\"name\":\"QUARTER_OHE_2\"},{\"idx\":3,\"name\":\"MONTH_OHE_3\"},{\"idx\":4,\"name\":\"MONTH_OHE_4\"},{\"idx\":5,\"name\":\"MONTH_OHE_1\"},{\"idx\":6,\"name\":\"MONTH_OHE_5\"},{\"idx\":7,\"name\":\"MONTH_OHE_2\"},{\"idx\":8,\"name\":\"DAY_OF_MONTH_OHE_26\"},{\"idx\":9,\"name\":\"DAY_OF_MONTH_OHE_13\"},{\"idx\":10,\"name\":\"DAY_OF_MONTH_OHE_3\"},{\"idx\":11,\"name\":\"DAY_OF_MONTH_OHE_19\"},{\"idx\":12,\"name\":\"DAY_OF_MONTH_OHE_12\"},{\"idx\":13,\"name\":\"DAY_OF_MONTH_OHE_6\"},{\"idx\":14,\"name\":\"DAY_OF_MONTH_OHE_20\"},{\"idx\":15,\"name\":\"DAY_OF_MONTH_OHE_8\"},{\"idx\":16,\"name\":\"DAY_OF_MONTH_OHE_5\"},{\"idx\":17,\"name\":\"DAY_OF_MONTH_OHE_27\"},{\"idx\":18,\"name\":\"DAY_OF_MONTH_OHE_4\"},{\"idx\":19,\"name\":\"DAY_OF_MONTH_OHE_22\"},{\"idx\":20,\"name\":\"DAY_OF_MONTH_OHE_9\"},{\"idx\":21,\"name\":\"DAY_OF_MONTH_OHE_10\"},{\"idx\":22,\"name\":\"DAY_OF_MONTH_OHE_16\"},{\"idx\":23,\"name\":\"DAY_OF_MONTH_OHE_23\"},{\"idx\":24,\"name\":\"DAY_OF_MONTH_OHE_2\"},{\"idx\":25,\"name\":\"DAY_OF_MONTH_OHE_18\"},{\"idx\":26,\"name\":\"DAY_OF_MONTH_OHE_17\"},{\"idx\":27,\"name\":\"DAY_OF_MONTH_OHE_15\"},{\"idx\":28,\"name\":\"DAY_OF_MONTH_OHE_25\"},{\"idx\":29,\"name\":\"DAY_OF_MONTH_OHE_11\"},{\"idx\":30,\"name\":\"DAY_OF_MONTH_OHE_24\"},{\"idx\":31,\"name\":\"DAY_OF_MONTH_OHE_28\"},{\"idx\":32,\"name\":\"DAY_OF_MONTH_OHE_7\"},{\"idx\":33,\"name\":\"DAY_OF_MONTH_OHE_21\"},{\"idx\":34,\"name\":\"DAY_OF_MONTH_OHE_14\"},{\"idx\":35,\"name\":\"DAY_OF_MONTH_OHE_1\"},{\"idx\":36,\"name\":\"DAY_OF_MONTH_OHE_30\"},{\"idx\":37,\"name\":\"DAY_OF_MONTH_OHE_29\"},{\"idx\":38,\"name\":\"DAY_OF_MONTH_OHE_31\"},{\"idx\":39,\"name\":\"DAY_OF_WEEK_OHE_4\"},{\"idx\":40,\"name\":\"DAY_OF_WEEK_OHE_5\"},{\"idx\":41,\"name\":\"DAY_OF_WEEK_OHE_1\"},{\"idx\":42,\"name\":\"DAY_OF_WEEK_OHE_3\"},{\"idx\":43,\"name\":\"DAY_OF_WEEK_OHE_2\"},{\"idx\":44,\"name\":\"DAY_OF_WEEK_OHE_7\"},{\"idx\":45,\"name\":\"DAY_OF_WEEK_OHE_6\"},{\"idx\":46,\"name\":\"OP_UNIQUE_CARRIER_OHE_DL\"},{\"idx\":47,\"name\":\"OP_UNIQUE_CARRIER_OHE_EV\"},{\"idx\":48,\"name\":\"OP_UNIQUE_CARRIER_OHE_UA\"},{\"idx\":49,\"name\":\"OP_UNIQUE_CARRIER_OHE_MQ\"},{\"idx\":50,\"name\":\"OP_UNIQUE_CARRIER_OHE_AA\"},{\"idx\":51,\"name\":\"OP_UNIQUE_CARRIER_OHE_OO\"},{\"idx\":52,\"name\":\"OP_UNIQUE_CARRIER_OHE_WN\"},{\"idx\":53,\"name\":\"OP_UNIQUE_CARRIER_OHE_NK\"},{\"idx\":54,\"name\":\"OP_UNIQUE_CARRIER_OHE_US\"},{\"idx\":55,\"name\":\"OP_UNIQUE_CARRIER_OHE_F9\"},{\"idx\":56,\"name\":\"OP_UNIQUE_CARRIER_OHE_B6\"},{\"idx\":57,\"name\":\"OP_UNIQUE_CARRIER_OHE_AS\"},{\"idx\":58,\"name\":\"OP_UNIQUE_CARRIER_OHE_VX\"},{\"idx\":59,\"name\":\"ORIGIN_OHE_ATL\"},{\"idx\":60,\"name\":\"ORIGIN_OHE_ORD\"},{\"idx\":61,\"name\":\"ORIGIN_STATE_FIPS_OHE_13\"},{\"idx\":62,\"name\":\"ORIGIN_STATE_FIPS_OHE_17\"},{\"idx\":63,\"name\":\"DEST_OHE_LGA\"},{\"idx\":64,\"name\":\"DEST_OHE_DFW\"},{\"idx\":65,\"name\":\"DEST_OHE_LAX\"},{\"idx\":66,\"name\":\"DEST_OHE_MCO\"},{\"idx\":67,\"name\":\"DEST_OHE_DCA\"},{\"idx\":68,\"name\":\"DEST_OHE_MSP\"},{\"idx\":69,\"name\":\"DEST_OHE_DEN\"},{\"idx\":70,\"name\":\"DEST_OHE_BOS\"},{\"idx\":71,\"name\":\"DEST_OHE_PHL\"},{\"idx\":72,\"name\":\"DEST_OHE_CLT\"},{\"idx\":73,\"name\":\"DEST_OHE_FLL\"},{\"idx\":74,\"name\":\"DEST_OHE_SFO\"},{\"idx\":75,\"name\":\"DEST_OHE_TPA\"},{\"idx\":76,\"name\":\"DEST_OHE_MIA\"},{\"idx\":77,\"name\":\"DEST_OHE_DTW\"},{\"idx\":78,\"name\":\"DEST_OHE_EWR\"},{\"idx\":79,\"name\":\"DEST_OHE_MKE\"},{\"idx\":80,\"name\":\"DEST_OHE_PHX\"},{\"idx\":81,\"name\":\"DEST_OHE_LAS\"},{\"idx\":82,\"name\":\"DEST_OHE_IAH\"},{\"idx\":83,\"name\":\"DEST_OHE_BWI\"},{\"idx\":84,\"name\":\"DEST_OHE_CLE\"},{\"idx\":85,\"name\":\"DEST_OHE_MSY\"},{\"idx\":86,\"name\":\"DEST_OHE_IND\"},{\"idx\":87,\"name\":\"DEST_OHE_CMH\"},{\"idx\":88,\"name\":\"DEST_OHE_ORD\"},{\"idx\":89,\"name\":\"DEST_OHE_RSW\"},{\"idx\":90,\"name\":\"DEST_OHE_BNA\"},{\"idx\":91,\"name\":\"DEST_OHE_ATL\"},{\"idx\":92,\"name\":\"DEST_OHE_RDU\"},{\"idx\":93,\"name\":\"DEST_OHE_CVG\"},{\"idx\":94,\"name\":\"DEST_OHE_STL\"},{\"idx\":95,\"name\":\"DEST_OHE_SEA\"},{\"idx\":96,\"name\":\"DEST_OHE_MCI\"},{\"idx\":97,\"name\":\"DEST_OHE_MEM\"},{\"idx\":98,\"name\":\"DEST_OHE_RIC\"},{\"idx\":99,\"name\":\"DEST_OHE_JAX\"},{\"idx\":100,\"name\":\"DEST_OHE_AUS\"},{\"idx\":101,\"name\":\"DEST_OHE_SLC\"},{\"idx\":102,\"name\":\"DEST_OHE_PIT\"},{\"idx\":103,\"name\":\"DEST_OHE_IAD\"},{\"idx\":104,\"name\":\"DEST_OHE_PBI\"},{\"idx\":105,\"name\":\"DEST_OHE_DSM\"},{\"idx\":106,\"name\":\"DEST_OHE_SAN\"},{\"idx\":107,\"name\":\"DEST_OHE_MDW\"},{\"idx\":108,\"name\":\"DEST_OHE_XNA\"},{\"idx\":109,\"name\":\"DEST_OHE_SAT\"},{\"idx\":110,\"name\":\"DEST_OHE_HOU\"},{\"idx\":111,\"name\":\"DEST_OHE_CID\"},{\"idx\":112,\"name\":\"DEST_OHE_GRR\"},{\"idx\":113,\"name\":\"DEST_OHE_SDF\"},{\"idx\":114,\"name\":\"DEST_OHE_BHM\"},{\"idx\":115,\"name\":\"DEST_OHE_LEX\"},{\"idx\":116,\"name\":\"DEST_OHE_HPN\"},{\"idx\":117,\"name\":\"DEST_OHE_MSN\"},{\"idx\":118,\"name\":\"DEST_OHE_LIT\"},{\"idx\":119,\"name\":\"DEST_OHE_DAY\"},{\"idx\":120,\"name\":\"DEST_OHE_TUL\"},{\"idx\":121,\"name\":\"DEST_OHE_BDL\"},{\"idx\":122,\"name\":\"DEST_OHE_SAV\"},{\"idx\":123,\"name\":\"DEST_OHE_TYS\"},{\"idx\":124,\"name\":\"DEST_OHE_OKC\"},{\"idx\":125,\"name\":\"DEST_OHE_SGF\"},{\"idx\":126,\"name\":\"DEST_OHE_OMA\"},{\"idx\":127,\"name\":\"DEST_OHE_CHS\"},{\"idx\":128,\"name\":\"DEST_OHE_JFK\"},{\"idx\":129,\"name\":\"DEST_OHE_GRB\"},{\"idx\":130,\"name\":\"DEST_OHE_CAK\"},{\"idx\":131,\"name\":\"DEST_OHE_CAE\"},{\"idx\":132,\"name\":\"DEST_OHE_FWA\"},{\"idx\":133,\"name\":\"DEST_OHE_ICT\"},{\"idx\":134,\"name\":\"DEST_OHE_ORF\"},{\"idx\":135,\"name\":\"DEST_OHE_HSV\"},{\"idx\":136,\"name\":\"DEST_OHE_BUF\"},{\"idx\":137,\"name\":\"DEST_OHE_GSP\"},{\"idx\":138,\"name\":\"DEST_OHE_GSO\"},{\"idx\":139,\"name\":\"DEST_OHE_SNA\"},{\"idx\":140,\"name\":\"DEST_OHE_CHA\"},{\"idx\":141,\"name\":\"DEST_OHE_PIA\"},{\"idx\":142,\"name\":\"DEST_OHE_FNT\"},{\"idx\":143,\"name\":\"DEST_OHE_BTR\"},{\"idx\":144,\"name\":\"DEST_OHE_JAN\"},{\"idx\":145,\"name\":\"DEST_OHE_DAL\"},{\"idx\":146,\"name\":\"DEST_OHE_PDX\"},{\"idx\":147,\"name\":\"DEST_OHE_MLI\"},{\"idx\":148,\"name\":\"DEST_OHE_MDT\"},{\"idx\":149,\"name\":\"DEST_OHE_SBN\"},{\"idx\":150,\"name\":\"DEST_OHE_SJU\"},{\"idx\":151,\"name\":\"DEST_OHE_FSD\"},{\"idx\":152,\"name\":\"DEST_OHE_MOB\"},{\"idx\":153,\"name\":\"DEST_OHE_PNS\"},{\"idx\":154,\"name\":\"DEST_OHE_AVL\"},{\"idx\":155,\"name\":\"DEST_OHE_SYR\"},{\"idx\":156,\"name\":\"DEST_OHE_SRQ\"},{\"idx\":157,\"name\":\"DEST_OHE_AGS\"},{\"idx\":158,\"name\":\"DEST_OHE_EVV\"},{\"idx\":159,\"name\":\"DEST_OHE_ROC\"},{\"idx\":160,\"name\":\"DEST_OHE_FAR\"},{\"idx\":161,\"name\":\"DEST_OHE_MGM\"},{\"idx\":162,\"name\":\"DEST_OHE_GNV\"},{\"idx\":163,\"name\":\"DEST_OHE_ROA\"},{\"idx\":164,\"name\":\"DEST_OHE_TLH\"},{\"idx\":165,\"name\":\"DEST_OHE_VPS\"},{\"idx\":166,\"name\":\"DEST_OHE_BMI\"},{\"idx\":167,\"name\":\"DEST_OHE_ATW\"},{\"idx\":168,\"name\":\"DEST_OHE_ECP\"},{\"idx\":169,\"name\":\"DEST_OHE_SHV\"},{\"idx\":170,\"name\":\"DEST_OHE_TVC\"},{\"idx\":171,\"name\":\"DEST_OHE_TRI\"},{\"idx\":172,\"name\":\"DEST_OHE_CMI\"},{\"idx\":173,\"name\":\"DEST_OHE_CRW\"},{\"idx\":174,\"name\":\"DEST_OHE_RST\"},{\"idx\":175,\"name\":\"DEST_OHE_CHO\"},{\"idx\":176,\"name\":\"DEST_OHE_ALB\"},{\"idx\":177,\"name\":\"DEST_OHE_FAY\"},{\"idx\":178,\"name\":\"DEST_OHE_MYR\"},{\"idx\":179,\"name\":\"DEST_OHE_GPT\"},{\"idx\":180,\"name\":\"DEST_OHE_ABE\"},{\"idx\":181,\"name\":\"DEST_OHE_LNK\"},{\"idx\":182,\"name\":\"DEST_OHE_CWA\"},{\"idx\":183,\"name\":\"DEST_OHE_ILM\"},{\"idx\":184,\"name\":\"DEST_OHE_DAB\"},{\"idx\":185,\"name\":\"DEST_OHE_EYW\"},{\"idx\":186,\"name\":\"DEST_OHE_TUS\"},{\"idx\":187,\"name\":\"DEST_OHE_AZO\"},{\"idx\":188,\"name\":\"DEST_OHE_PHF\"},{\"idx\":189,\"name\":\"DEST_OHE_COS\"},{\"idx\":190,\"name\":\"DEST_OHE_PVD\"},{\"idx\":191,\"name\":\"DEST_OHE_MBS\"},{\"idx\":192,\"name\":\"DEST_OHE_AEX\"},{\"idx\":193,\"name\":\"DEST_OHE_DHN\"},{\"idx\":194,\"name\":\"DEST_OHE_MLB\"},{\"idx\":195,\"name\":\"DEST_OHE_ASE\"},{\"idx\":196,\"name\":\"DEST_OHE_MLU\"},{\"idx\":197,\"name\":\"DEST_OHE_LFT\"},{\"idx\":198,\"name\":\"DEST_OHE_LSE\"},{\"idx\":199,\"name\":\"DEST_OHE_CSG\"},{\"idx\":200,\"name\":\"DEST_OHE_ELP\"},{\"idx\":201,\"name\":\"DEST_OHE_OAJ\"},{\"idx\":202,\"name\":\"DEST_OHE_ABQ\"},{\"idx\":203,\"name\":\"DEST_OHE_SPI\"},{\"idx\":204,\"name\":\"DEST_OHE_SMF\"},{\"idx\":205,\"name\":\"DEST_OHE_DLH\"},{\"idx\":206,\"name\":\"DEST_OHE_ABY\"},{\"idx\":207,\"name\":\"DEST_OHE_DBQ\"},{\"idx\":208,\"name\":\"DEST_OHE_LAN\"},{\"idx\":209,\"name\":\"DEST_OHE_GTR\"},{\"idx\":210,\"name\":\"DEST_OHE_TOL\"},{\"idx\":211,\"name\":\"DEST_OHE_VLD\"},{\"idx\":212,\"name\":\"DEST_OHE_AVP\"},{\"idx\":213,\"name\":\"DEST_OHE_BQK\"},{\"idx\":214,\"name\":\"DEST_OHE_HNL\"},{\"idx\":215,\"name\":\"DEST_OHE_SCE\"},{\"idx\":216,\"name\":\"DEST_OHE_FSM\"},{\"idx\":217,\"name\":\"DEST_OHE_COU\"},{\"idx\":218,\"name\":\"DEST_OHE_SJC\"},{\"idx\":219,\"name\":\"DEST_OHE_STT\"},{\"idx\":220,\"name\":\"DEST_OHE_MHK\"},{\"idx\":221,\"name\":\"DEST_OHE_MHT\"},{\"idx\":222,\"name\":\"DEST_OHE_MKG\"},{\"idx\":223,\"name\":\"DEST_OHE_BTV\"},{\"idx\":224,\"name\":\"DEST_OHE_PSP\"},{\"idx\":225,\"name\":\"DEST_OHE_SUX\"},{\"idx\":226,\"name\":\"DEST_OHE_PAH\"},{\"idx\":227,\"name\":\"DEST_OHE_ERI\"},{\"idx\":228,\"name\":\"DEST_OHE_ALO\"},{\"idx\":229,\"name\":\"DEST_OHE_EAU\"},{\"idx\":230,\"name\":\"DEST_OHE_ELM\"},{\"idx\":231,\"name\":\"DEST_OHE_GRK\"},{\"idx\":232,\"name\":\"DEST_OHE_CMX\"},{\"idx\":233,\"name\":\"DEST_OHE_EWN\"},{\"idx\":234,\"name\":\"DEST_OHE_PWM\"},{\"idx\":235,\"name\":\"DEST_OHE_ANC\"},{\"idx\":236,\"name\":\"DEST_OHE_BOI\"},{\"idx\":237,\"name\":\"DEST_OHE_EGE\"},{\"idx\":238,\"name\":\"DEST_OHE_BIS\"},{\"idx\":239,\"name\":\"DEST_OHE_TTN\"},{\"idx\":240,\"name\":\"DEST_OHE_JAC\"},{\"idx\":241,\"name\":\"DEST_OHE_OAK\"},{\"idx\":242,\"name\":\"DEST_OHE_RNO\"},{\"idx\":243,\"name\":\"DEST_OHE_MTJ\"},{\"idx\":244,\"name\":\"DEST_OHE_MQT\"},{\"idx\":245,\"name\":\"DEST_OHE_BZN\"},{\"idx\":246,\"name\":\"DEST_OHE_HDN\"},{\"idx\":247,\"name\":\"DEST_OHE_ACY\"},{\"idx\":248,\"name\":\"DEST_OHE_STC\"},{\"idx\":249,\"name\":\"DEST_OHE_OGG\"},{\"idx\":250,\"name\":\"DEST_OHE_RAP\"},{\"idx\":251,\"name\":\"DEST_OHE_STX\"},{\"idx\":252,\"name\":\"DEST_OHE_FCA\"},{\"idx\":253,\"name\":\"DEST_OHE_GUC\"},{\"idx\":254,\"name\":\"DEST_OHE_LBE\"},{\"idx\":255,\"name\":\"DEST_OHE_MSO\"},{\"idx\":256,\"name\":\"DEST_OHE_ONT\"},{\"idx\":257,\"name\":\"DEST_STATE_FIPS_OHE_12\"},{\"idx\":258,\"name\":\"DEST_STATE_FIPS_OHE_48\"},{\"idx\":259,\"name\":\"DEST_STATE_FIPS_OHE_36\"},{\"idx\":260,\"name\":\"DEST_STATE_FIPS_OHE_6\"},{\"idx\":261,\"name\":\"DEST_STATE_FIPS_OHE_51\"},{\"idx\":262,\"name\":\"DEST_STATE_FIPS_OHE_37\"},{\"idx\":263,\"name\":\"DEST_STATE_FIPS_OHE_26\"},{\"idx\":264,\"name\":\"DEST_STATE_FIPS_OHE_42\"},{\"idx\":265,\"name\":\"DEST_STATE_FIPS_OHE_39\"},{\"idx\":266,\"name\":\"DEST_STATE_FIPS_OHE_17\"},{\"idx\":267,\"name\":\"DEST_STATE_FIPS_OHE_55\"},{\"idx\":268,\"name\":\"DEST_STATE_FIPS_OHE_47\"},{\"idx\":269,\"name\":\"DEST_STATE_FIPS_OHE_13\"},{\"idx\":270,\"name\":\"DEST_STATE_FIPS_OHE_29\"},{\"idx\":271,\"name\":\"DEST_STATE_FIPS_OHE_22\"},{\"idx\":272,\"name\":\"DEST_STATE_FIPS_OHE_8\"},{\"idx\":273,\"name\":\"DEST_STATE_FIPS_OHE_18\"},{\"idx\":274,\"name\":\"DEST_STATE_FIPS_OHE_21\"},{\"idx\":275,\"name\":\"DEST_STATE_FIPS_OHE_27\"},{\"idx\":276,\"name\":\"DEST_STATE_FIPS_OHE_1\"},{\"idx\":277,\"name\":\"DEST_STATE_FIPS_OHE_45\"},{\"idx\":278,\"name\":\"DEST_STATE_FIPS_OHE_25\"},{\"idx\":279,\"name\":\"DEST_STATE_FIPS_OHE_19\"},{\"idx\":280,\"name\":\"DEST_STATE_FIPS_OHE_4\"},{\"idx\":281,\"name\":\"DEST_STATE_FIPS_OHE_34\"},{\"idx\":282,\"name\":\"DEST_STATE_FIPS_OHE_5\"},{\"idx\":283,\"name\":\"DEST_STATE_FIPS_OHE_32\"},{\"idx\":284,\"name\":\"DEST_STATE_FIPS_OHE_24\"},{\"idx\":285,\"name\":\"DEST_STATE_FIPS_OHE_40\"},{\"idx\":286,\"name\":\"DEST_STATE_FIPS_OHE_53\"},{\"idx\":287,\"name\":\"DEST_STATE_FIPS_OHE_28\"},{\"idx\":288,\"name\":\"DEST_STATE_FIPS_OHE_31\"},{\"idx\":289,\"name\":\"DEST_STATE_FIPS_OHE_49\"},{\"idx\":290,\"name\":\"DEST_STATE_FIPS_OHE_20\"},{\"idx\":291,\"name\":\"DEST_STATE_FIPS_OHE_9\"},{\"idx\":292,\"name\":\"DEST_STATE_FIPS_OHE_41\"},{\"idx\":293,\"name\":\"DEST_STATE_FIPS_OHE_38\"},{\"idx\":294,\"name\":\"DEST_STATE_FIPS_OHE_46\"},{\"idx\":295,\"name\":\"DEST_STATE_FIPS_OHE_72\"},{\"idx\":296,\"name\":\"DEST_STATE_FIPS_OHE_54\"},{\"idx\":297,\"name\":\"DEST_STATE_FIPS_OHE_44\"},{\"idx\":298,\"name\":\"DEST_STATE_FIPS_OHE_35\"},{\"idx\":299,\"name\":\"DEST_STATE_FIPS_OHE_15\"},{\"idx\":300,\"name\":\"DEST_STATE_FIPS_OHE_78\"},{\"idx\":301,\"name\":\"DEST_STATE_FIPS_OHE_33\"},{\"idx\":302,\"name\":\"DEST_STATE_FIPS_OHE_50\"},{\"idx\":303,\"name\":\"DEST_STATE_FIPS_OHE_23\"},{\"idx\":304,\"name\":\"DEST_STATE_FIPS_OHE_2\"},{\"idx\":305,\"name\":\"DEST_STATE_FIPS_OHE_16\"},{\"idx\":306,\"name\":\"DEST_STATE_FIPS_OHE_56\"},{\"idx\":307,\"name\":\"DEST_STATE_FIPS_OHE_30\"},{\"idx\":308,\"name\":\"DEP_TIME_BLK_OHE_2000-2059\"},{\"idx\":309,\"name\":\"DEP_TIME_BLK_OHE_1900-1959\"},{\"idx\":310,\"name\":\"DEP_TIME_BLK_OHE_0900-0959\"},{\"idx\":311,\"name\":\"DEP_TIME_BLK_OHE_1300-1359\"},{\"idx\":312,\"name\":\"DEP_TIME_BLK_OHE_1600-1659\"},{\"idx\":313,\"name\":\"DEP_TIME_BLK_OHE_1500-1559\"},{\"idx\":314,\"name\":\"DEP_TIME_BLK_OHE_1000-1059\"},{\"idx\":315,\"name\":\"DEP_TIME_BLK_OHE_0800-0859\"},{\"idx\":316,\"name\":\"DEP_TIME_BLK_OHE_1700-1759\"},{\"idx\":317,\"name\":\"DEP_TIME_BLK_OHE_1200-1259\"},{\"idx\":318,\"name\":\"DEP_TIME_BLK_OHE_2100-2159\"},{\"idx\":319,\"name\":\"DEP_TIME_BLK_OHE_1800-1859\"},{\"idx\":320,\"name\":\"DEP_TIME_BLK_OHE_1400-1459\"},{\"idx\":321,\"name\":\"DEP_TIME_BLK_OHE_1100-1159\"},{\"idx\":322,\"name\":\"DEP_TIME_BLK_OHE_0700-0759\"},{\"idx\":323,\"name\":\"DEP_TIME_BLK_OHE_2200-2259\"},{\"idx\":324,\"name\":\"DEP_TIME_BLK_OHE_0600-0659\"},{\"idx\":325,\"name\":\"DEP_TIME_BLK_OHE_0001-0559\"},{\"idx\":326,\"name\":\"DEP_TIME_BLK_OHE_2300-2359\"},{\"idx\":327,\"name\":\"ARR_TIME_BLK_OHE_2100-2159\"},{\"idx\":328,\"name\":\"ARR_TIME_BLK_OHE_1600-1659\"},{\"idx\":329,\"name\":\"ARR_TIME_BLK_OHE_2200-2259\"},{\"idx\":330,\"name\":\"ARR_TIME_BLK_OHE_1100-1159\"},{\"idx\":331,\"name\":\"ARR_TIME_BLK_OHE_1700-1759\"},{\"idx\":332,\"name\":\"ARR_TIME_BLK_OHE_1000-1059\"},{\"idx\":333,\"name\":\"ARR_TIME_BLK_OHE_2000-2059\"},{\"idx\":334,\"name\":\"ARR_TIME_BLK_OHE_1200-1259\"},{\"idx\":335,\"name\":\"ARR_TIME_BLK_OHE_2300-2359\"},{\"idx\":336,\"name\":\"ARR_TIME_BLK_OHE_1800-1859\"},{\"idx\":337,\"name\":\"ARR_TIME_BLK_OHE_1300-1359\"},{\"idx\":338,\"name\":\"ARR_TIME_BLK_OHE_1500-1559\"},{\"idx\":339,\"name\":\"ARR_TIME_BLK_OHE_1900-1959\"},{\"idx\":340,\"name\":\"ARR_TIME_BLK_OHE_1400-1459\"},{\"idx\":341,\"name\":\"ARR_TIME_BLK_OHE_0900-0959\"},{\"idx\":342,\"name\":\"ARR_TIME_BLK_OHE_0800-0859\"},{\"idx\":343,\"name\":\"ARR_TIME_BLK_OHE_0001-0559\"},{\"idx\":344,\"name\":\"ARR_TIME_BLK_OHE_0700-0759\"},{\"idx\":345,\"name\":\"ARR_TIME_BLK_OHE_0600-0659\"},{\"idx\":346,\"name\":\"DISTANCE_GROUP_OHE_3\"},{\"idx\":347,\"name\":\"DISTANCE_GROUP_OHE_2\"},{\"idx\":348,\"name\":\"DISTANCE_GROUP_OHE_1\"},{\"idx\":349,\"name\":\"DISTANCE_GROUP_OHE_4\"},{\"idx\":350,\"name\":\"DISTANCE_GROUP_OHE_7\"},{\"idx\":351,\"name\":\"DISTANCE_GROUP_OHE_5\"},{\"idx\":352,\"name\":\"DISTANCE_GROUP_OHE_8\"},{\"idx\":353,\"name\":\"DISTANCE_GROUP_OHE_6\"},{\"idx\":354,\"name\":\"DISTANCE_GROUP_OHE_9\"},{\"idx\":355,\"name\":\"DISTANCE_GROUP_OHE_11\"},{\"idx\":356,\"name\":\"BAD_TRAVEL_DAY_OHE_0\"},{\"idx\":357,\"name\":\"DEP_TIME_SEGMENT_OHE_3\"},{\"idx\":358,\"name\":\"DEP_TIME_SEGMENT_OHE_2\"},{\"idx\":359,\"name\":\"DEP_TIME_SEGMENT_OHE_4\"},{\"idx\":360,\"name\":\"DEP_TIME_SEGMENT_OHE_1\"}]},\"num_attrs\":416}}"
                },
                {
                  "name": "label",
                  "type": "\"double\"",
                  "metadata": "{\"ml_attr\":{\"vals\":[\"0.0\",\"1.0\"],\"type\":\"nominal\",\"name\":\"label\"}}"
                }
              ],
              "aggError": "",
              "aggData": [],
              "addedWidgets": {},
              "metadata": {},
              "dbfsResultPath": null,
              "type": "table",
              "aggOverflow": false,
              "aggSeriesLimitReached": false,
              "arguments": {}
            }
          },
          "data": {
            "text/html": [
              "<style scoped>\n  .table-result-container {\n    max-height: 300px;\n    overflow: auto;\n  }\n  table, th, td {\n    border: 1px solid black;\n    border-collapse: collapse;\n  }\n  th, td {\n    padding: 5px;\n  }\n  th {\n    text-align: left;\n  }\n</style><div class='table-result-container'><table class='table-result'><thead style='background-color: white'><tr><th>features</th><th>label</th></tr></thead><tbody><tr><td>Map(vectorType -> sparse, length -> 416, indices -> List(0, 2, 6, 37, 40, 47, 59, 61, 166, 266, 320, 338, 346, 356, 357, 361, 362, 365, 366, 368, 369, 370, 372, 373, 374, 375, 377, 378, 379, 380, 381), values -> List(1.0, 1.0, 1.0, 1.0, 1.0, 1.0, 1.0, 1.0, 1.0, 1.0, 1.0, 1.0, 1.0, 1.0, 1.0, 1.0, 0.11195171710302619, 0.07491675915649279, 0.17056856187290967, 0.125, 0.048491230014685915, 0.34120734908136485, 1.0, 0.6296296296296295, 1.0, 0.8868274582560297, 0.9325153374233128, 0.4583333333333333, 0.8258928571428571, 0.8964941569282137, 0.012903225806451613))</td><td>1.0</td></tr><tr><td>Map(vectorType -> sparse, length -> 416, indices -> List(0, 2, 6, 37, 40, 46, 59, 61, 63, 259, 324, 342, 349, 356, 358, 361, 362, 365, 366, 368, 369, 370, 372, 373, 374, 375, 377, 378, 379, 380, 396), values -> List(1.0, 1.0, 1.0, 1.0, 1.0, 1.0, 1.0, 1.0, 1.0, 1.0, 1.0, 1.0, 1.0, 1.0, 1.0, 1.0, 0.0013175790547432847, 0.004189789123196449, 0.2006688963210702, 0.125, 1.0, 0.10761154855643043, 1.0, 0.5740740740740741, 0.1, 0.7829313543599259, 0.936605316973415, 0.5694444444444444, 0.7351190476190476, 0.7495826377295494, 1.0))</td><td>0.0</td></tr></tbody></table></div>"
            ]
          }
        }
      ],
      "execution_count": null
    },
    {
      "cell_type": "markdown",
      "source": [
        "###Logistic Regression Implementation"
      ],
      "metadata": {
        "application/vnd.databricks.v1+cell": {
          "title": "",
          "showTitle": false,
          "inputWidgets": {},
          "nuid": "ac1e4fb9-298b-4754-9d97-019a73618b9a"
        },
        "id": "gIkU87P_mFOA"
      }
    },
    {
      "cell_type": "code",
      "source": [
        "# Sigmoid function to be used while calculating the loss\n",
        "def sigmoid(z):\n",
        "    return 1.0/(1 + np.exp(-z))"
      ],
      "metadata": {
        "application/vnd.databricks.v1+cell": {
          "title": "",
          "showTitle": false,
          "inputWidgets": {},
          "nuid": "2e6875bc-ccea-4103-97c9-589e823a0aaa"
        },
        "id": "nnuGFEwDmFOA",
        "outputId": "8e6f92fa-c2ab-47e4-8f99-1566084f6df7"
      },
      "outputs": [
        {
          "output_type": "display_data",
          "metadata": {
            "application/vnd.databricks.v1+output": {
              "datasetInfos": [],
              "data": "<div class=\"ansiout\"></div>",
              "removedWidgets": [],
              "addedWidgets": {},
              "metadata": {},
              "type": "html",
              "arguments": {}
            }
          },
          "data": {
            "text/html": [
              "<style scoped>\n  .ansiout {\n    display: block;\n    unicode-bidi: embed;\n    white-space: pre-wrap;\n    word-wrap: break-word;\n    word-break: break-all;\n    font-family: \"Source Code Pro\", \"Menlo\", monospace;;\n    font-size: 13px;\n    color: #555;\n    margin-left: 4px;\n    line-height: 19px;\n  }\n</style>\n<div class=\"ansiout\"></div>"
            ]
          }
        }
      ],
      "execution_count": null
    },
    {
      "cell_type": "code",
      "source": [
        "# Defining log loss/cost function\n",
        "def LogLoss(dataRDD, W): \n",
        "    \"\"\"\n",
        "    This function calculates the log loss error\n",
        "    \n",
        "    Args:\n",
        "        dataRDD - with each rdd record as a tuple of (features_array, y)\n",
        "        W       - (array) model coefficients with bias at index 0\n",
        "    \"\"\"\n",
        "    \n",
        "    \n",
        "    # augmenting the features array with a 1 for handling bias at index 0\n",
        "    augmentedData = dataRDD.map(lambda x: (np.append([1.0], x[0]), x[1]))\n",
        "    \n",
        "    # Calculating the loss/cost\n",
        "    loss = augmentedData.map(lambda x: x[1]*np.log(sigmoid(W.dot(x[0]))) + (1-x[1])*np.log(1 - sigmoid(W.dot(x[0])))).mean()*-1\n",
        "       \n",
        "    return loss"
      ],
      "metadata": {
        "application/vnd.databricks.v1+cell": {
          "title": "",
          "showTitle": false,
          "inputWidgets": {},
          "nuid": "52b42e08-5fa6-4738-a77e-c906db82e220"
        },
        "id": "MqsMRrtKmFOA",
        "outputId": "8170233b-9610-4814-fe5d-a48dff6e592a"
      },
      "outputs": [
        {
          "output_type": "display_data",
          "metadata": {
            "application/vnd.databricks.v1+output": {
              "datasetInfos": [],
              "data": "<div class=\"ansiout\"></div>",
              "removedWidgets": [],
              "addedWidgets": {},
              "metadata": {},
              "type": "html",
              "arguments": {}
            }
          },
          "data": {
            "text/html": [
              "<style scoped>\n  .ansiout {\n    display: block;\n    unicode-bidi: embed;\n    white-space: pre-wrap;\n    word-wrap: break-word;\n    word-break: break-all;\n    font-family: \"Source Code Pro\", \"Menlo\", monospace;;\n    font-size: 13px;\n    color: #555;\n    margin-left: 4px;\n    line-height: 19px;\n  }\n</style>\n<div class=\"ansiout\"></div>"
            ]
          }
        }
      ],
      "execution_count": null
    },
    {
      "cell_type": "code",
      "source": [
        "# Defining gradient update function with L1 regularization\n",
        "def GDUpdate (dataRDD, W, learningRate = 0.15, regParam = 0.1):\n",
        "    \"\"\"\n",
        "    Perform one gradient descent step/update with ridge or lasso regularization.\n",
        "    Args:\n",
        "        dataRDD - tuple of (features_array, y)\n",
        "        W       - (array) model coefficients with bias at index 0\n",
        "        learningRate - (float) defaults to 0.1 \n",
        "        regParam - (float) L1 regularization parameter\n",
        "    Returns:\n",
        "        model   - (array) updated coefficients, bias at index 0\n",
        "    \"\"\"\n",
        "    # augmented data\n",
        "    M=dataRDD.count()\n",
        "    augmentedData = dataRDD.map(lambda x: (np.append([1.0], x[0]), x[1]))\n",
        "    \n",
        "    # Broadcast coeeficients\n",
        "    sc.broadcast(W)  \n",
        "     \n",
        "    #Claculate gradient with L1 regularization    \n",
        "    grad = augmentedData.map(lambda x: ((sigmoid(W.dot(x[0])) - x[1])*x[0])).sum() + regParam * np.append([0.0], np.sign(W)[1:])\n",
        "    \n",
        "    # Perform gradient update\n",
        "    new_model = W - learningRate * grad/M\n",
        "    \n",
        "    return new_model"
      ],
      "metadata": {
        "application/vnd.databricks.v1+cell": {
          "title": "",
          "showTitle": false,
          "inputWidgets": {},
          "nuid": "b2537bbe-3a9d-46d9-bd10-74483e84a6bb"
        },
        "id": "8Jd22MO0mFOA",
        "outputId": "30ebd0e6-9968-4db5-8566-cbceefe6c6e6"
      },
      "outputs": [
        {
          "output_type": "display_data",
          "metadata": {
            "application/vnd.databricks.v1+output": {
              "datasetInfos": [],
              "data": "<div class=\"ansiout\"></div>",
              "removedWidgets": [],
              "addedWidgets": {},
              "metadata": {},
              "type": "html",
              "arguments": {}
            }
          },
          "data": {
            "text/html": [
              "<style scoped>\n  .ansiout {\n    display: block;\n    unicode-bidi: embed;\n    white-space: pre-wrap;\n    word-wrap: break-word;\n    word-break: break-all;\n    font-family: \"Source Code Pro\", \"Menlo\", monospace;;\n    font-size: 13px;\n    color: #555;\n    margin-left: 4px;\n    line-height: 19px;\n  }\n</style>\n<div class=\"ansiout\"></div>"
            ]
          }
        }
      ],
      "execution_count": null
    },
    {
      "cell_type": "code",
      "source": [
        "# Gradient descent function\n",
        "def GradientDescent(trainRDD, testRDD, wInit, nSteps = 100, learningRate = 0.15, verbose = False):\n",
        "    \"\"\"\n",
        "    Perform nSteps iterations of gradient descent and \n",
        "    track loss on a test and train set. Return lists of\n",
        "    test/train loss and the models themselves.\n",
        "    \"\"\"\n",
        "    # initialize lists to track model performance\n",
        "    train_history, test_history, model_history = [], [], []\n",
        "    \n",
        "    # perform n updates & compute test and train loss after each\n",
        "    model = wInit\n",
        "    \n",
        "    for idx in range(nSteps):  \n",
        "        # update the model\n",
        "        model = GDUpdate(trainRDD, model, learningRate)\n",
        "        \n",
        "        # keep track of test/train loss for plotting\n",
        "        train_history.append(LogLoss(trainRDD, model))\n",
        "        model_history.append(model)\n",
        "        \n",
        "        # console output if desired\n",
        "        if verbose:\n",
        "            print(\"----------\")\n",
        "            print(f\"STEP: {idx+1}\")\n",
        "            print(f\"Model: {[round(w,3) for w in model]}\")\n",
        "            \n",
        "    # We are not using the test rdd here and the test_history returned will be an empty list\n",
        "    return train_history, test_history, model_history"
      ],
      "metadata": {
        "application/vnd.databricks.v1+cell": {
          "title": "",
          "showTitle": false,
          "inputWidgets": {},
          "nuid": "32d0d676-e32e-45a9-ba9e-df5a893c73fc"
        },
        "id": "fpjv1PWsmFOB",
        "outputId": "3f22cf2b-7c8e-4f0e-dc49-fcb10e248cf0"
      },
      "outputs": [
        {
          "output_type": "display_data",
          "metadata": {
            "application/vnd.databricks.v1+output": {
              "datasetInfos": [],
              "data": "<div class=\"ansiout\"></div>",
              "removedWidgets": [],
              "addedWidgets": {},
              "metadata": {},
              "type": "html",
              "arguments": {}
            }
          },
          "data": {
            "text/html": [
              "<style scoped>\n  .ansiout {\n    display: block;\n    unicode-bidi: embed;\n    white-space: pre-wrap;\n    word-wrap: break-word;\n    word-break: break-all;\n    font-family: \"Source Code Pro\", \"Menlo\", monospace;;\n    font-size: 13px;\n    color: #555;\n    margin-left: 4px;\n    line-height: 19px;\n  }\n</style>\n<div class=\"ansiout\"></div>"
            ]
          }
        }
      ],
      "execution_count": null
    },
    {
      "cell_type": "code",
      "source": [
        "# Initialize the weights based on the number of features + 1\n",
        "wInit = np.random.uniform(0,1,417)\n",
        "# Call the gradient descent functon to get the model co-fficients\n",
        "# Note: even though we are passing the test rdd, we will not be utilizing it in the function\n",
        "lr_results = GradientDescent(vec_train_rdd, vec_test_rdd, wInit, nSteps = 50, learningRate = 0.21)"
      ],
      "metadata": {
        "application/vnd.databricks.v1+cell": {
          "title": "",
          "showTitle": false,
          "inputWidgets": {},
          "nuid": "d6816b6b-3c07-48ec-8e4f-199426f264ab"
        },
        "id": "Dg8hqkRjmFOB",
        "outputId": "7b8c8c4c-4b13-42c6-c961-987938f3ecc8"
      },
      "outputs": [
        {
          "output_type": "display_data",
          "metadata": {
            "application/vnd.databricks.v1+output": {
              "datasetInfos": [],
              "data": "<div class=\"ansiout\"></div>",
              "removedWidgets": [],
              "addedWidgets": {},
              "metadata": {},
              "type": "html",
              "arguments": {}
            }
          },
          "data": {
            "text/html": [
              "<style scoped>\n  .ansiout {\n    display: block;\n    unicode-bidi: embed;\n    white-space: pre-wrap;\n    word-wrap: break-word;\n    word-break: break-all;\n    font-family: \"Source Code Pro\", \"Menlo\", monospace;;\n    font-size: 13px;\n    color: #555;\n    margin-left: 4px;\n    line-height: 19px;\n  }\n</style>\n<div class=\"ansiout\"></div>"
            ]
          }
        }
      ],
      "execution_count": null
    },
    {
      "cell_type": "code",
      "source": [
        "# Check the last three loss results and see loss is not exploding\n",
        "print(lr_results[0][-3])\n",
        "print(lr_results[0][-2])\n",
        "print(lr_results[0][-1])"
      ],
      "metadata": {
        "application/vnd.databricks.v1+cell": {
          "title": "",
          "showTitle": false,
          "inputWidgets": {},
          "nuid": "00a2299a-c695-4fa8-ae77-c307775af718"
        },
        "id": "wXMQLvsbmFOB",
        "outputId": "3f7090a1-f58e-4a67-f03e-6d4a06eab92d"
      },
      "outputs": [
        {
          "output_type": "display_data",
          "metadata": {
            "application/vnd.databricks.v1+output": {
              "datasetInfos": [],
              "data": "<div class=\"ansiout\">0.677758447940997\n0.6770721608795042\n0.6763979369574706\n</div>",
              "removedWidgets": [],
              "addedWidgets": {},
              "metadata": {},
              "type": "html",
              "arguments": {}
            }
          },
          "data": {
            "text/html": [
              "<style scoped>\n  .ansiout {\n    display: block;\n    unicode-bidi: embed;\n    white-space: pre-wrap;\n    word-wrap: break-word;\n    word-break: break-all;\n    font-family: \"Source Code Pro\", \"Menlo\", monospace;;\n    font-size: 13px;\n    color: #555;\n    margin-left: 4px;\n    line-height: 19px;\n  }\n</style>\n<div class=\"ansiout\">0.677758447940997\n0.6770721608795042\n0.6763979369574706\n</div>"
            ]
          }
        }
      ],
      "execution_count": null
    },
    {
      "cell_type": "code",
      "source": [
        "# Select the last model if the loss was not exploding\n",
        "model = lr_results[2][-1]"
      ],
      "metadata": {
        "application/vnd.databricks.v1+cell": {
          "title": "",
          "showTitle": false,
          "inputWidgets": {},
          "nuid": "95b119b0-6a12-432a-b141-728ef53c924f"
        },
        "id": "K79zLlKsmFOC",
        "outputId": "b580b989-9c6e-4373-a006-0a65994dd9c3"
      },
      "outputs": [
        {
          "output_type": "display_data",
          "metadata": {
            "application/vnd.databricks.v1+output": {
              "datasetInfos": [],
              "data": "<div class=\"ansiout\"></div>",
              "removedWidgets": [],
              "addedWidgets": {},
              "metadata": {},
              "type": "html",
              "arguments": {}
            }
          },
          "data": {
            "text/html": [
              "<style scoped>\n  .ansiout {\n    display: block;\n    unicode-bidi: embed;\n    white-space: pre-wrap;\n    word-wrap: break-word;\n    word-break: break-all;\n    font-family: \"Source Code Pro\", \"Menlo\", monospace;;\n    font-size: 13px;\n    color: #555;\n    margin-left: 4px;\n    line-height: 19px;\n  }\n</style>\n<div class=\"ansiout\"></div>"
            ]
          }
        }
      ],
      "execution_count": null
    },
    {
      "cell_type": "markdown",
      "source": [
        "### Predict and Evaluate"
      ],
      "metadata": {
        "application/vnd.databricks.v1+cell": {
          "title": "",
          "showTitle": false,
          "inputWidgets": {},
          "nuid": "2b752e3a-37d6-4203-9538-b54eca47acef"
        },
        "id": "qCrjxZ1dmFOC"
      }
    },
    {
      "cell_type": "code",
      "source": [
        "# A function to make predictions using the final model\n",
        "def makePrediction(testRDD, model, threshold = 0.5):\n",
        "    \"\"\"\n",
        "    Perform predictions on the passed rdd using the model.\n",
        "    Threshold can be pass to the function to adjust predictions of 1.0 or 0.0\n",
        "    \"\"\"\n",
        "    \n",
        "    # Augment with 1.0 in the first index to account for bias\n",
        "    augmentedData = testRDD.map(lambda x: (np.append([1.0], x[0]), x[1]))\n",
        "    \n",
        "    # Broadcast model\n",
        "    sc.broadcast(model)\n",
        "    \n",
        "    # Make predictions on the input rdd using the model and the sigmoid function\n",
        "    predictions = augmentedData.map(lambda x: (float(sigmoid(model.dot(x[0]))), 1.0 if sigmoid(model.dot(x[0])) > threshold else 0.0, x[1]))\n",
        "    \n",
        "    return predictions"
      ],
      "metadata": {
        "application/vnd.databricks.v1+cell": {
          "title": "",
          "showTitle": false,
          "inputWidgets": {},
          "nuid": "81819698-6d5c-4617-aee5-c7644dce89b3"
        },
        "id": "j9YEKl7SmFOC",
        "outputId": "b458b63c-991c-43b5-97c7-00d4f31e0288"
      },
      "outputs": [
        {
          "output_type": "display_data",
          "metadata": {
            "application/vnd.databricks.v1+output": {
              "datasetInfos": [],
              "data": "<div class=\"ansiout\"></div>",
              "removedWidgets": [],
              "addedWidgets": {},
              "metadata": {},
              "type": "html",
              "arguments": {}
            }
          },
          "data": {
            "text/html": [
              "<style scoped>\n  .ansiout {\n    display: block;\n    unicode-bidi: embed;\n    white-space: pre-wrap;\n    word-wrap: break-word;\n    word-break: break-all;\n    font-family: \"Source Code Pro\", \"Menlo\", monospace;;\n    font-size: 13px;\n    color: #555;\n    margin-left: 4px;\n    line-height: 19px;\n  }\n</style>\n<div class=\"ansiout\"></div>"
            ]
          }
        }
      ],
      "execution_count": null
    },
    {
      "cell_type": "code",
      "source": [
        "model"
      ],
      "metadata": {
        "application/vnd.databricks.v1+cell": {
          "title": "",
          "showTitle": false,
          "inputWidgets": {},
          "nuid": "5be2ef9f-4be4-43c1-acb3-cf7517d9da88"
        },
        "id": "kjU11xtimFOC",
        "outputId": "ae0df2c7-39f0-4401-fe18-f078fb5857fd"
      },
      "outputs": [
        {
          "output_type": "display_data",
          "metadata": {
            "application/vnd.databricks.v1+output": {
              "datasetInfos": [],
              "data": "<div class=\"ansiout\">Out[37]: array([-0.72381087, -1.1246855 , -0.4062588 , -0.21951216,  0.35536067,\n        0.25664249,  0.65754238,  0.55563421,  0.57598357,  0.33298641,\n        0.12537876,  0.89878517,  0.79454072,  0.18905149,  0.2019363 ,\n        0.26696566,  0.5752582 ,  0.29941323,  0.6990622 ,  0.1293235 ,\n        0.12732347,  0.05928256,  0.85774628,  0.27332979,  0.73111292,\n        0.49810235,  0.47792647,  0.40679362,  0.15314485,  0.33286552,\n        0.54153277,  0.76345517,  0.70615531,  0.55590604,  0.45111347,\n        0.83295475,  0.80305077,  0.12306208, -0.01572682,  0.77987038,\n        0.55212143,  0.03136683,  0.66197069,  0.44494014,  0.33993856,\n        0.4894208 ,  0.52412608,  0.11710708, -0.06574068,  0.58980335,\n        0.32976991,  0.14810583,  0.71102577,  0.10273516,  0.21722007,\n        0.6749819 ,  0.42509662,  0.23753319,  0.19196214,  0.43325739,\n       -0.12893252, -0.14826126,  0.08252554, -0.06650305,  0.95013233,\n        0.6288149 ,  0.51164933,  0.16460628,  0.89940596,  0.4978565 ,\n        0.2206387 ,  0.7587468 ,  0.66383352,  0.09154631,  0.062548  ,\n        0.75977073,  0.34027121,  0.78347201,  0.47699406,  0.75335788,\n        0.44692453,  0.61690107,  0.23633522,  0.5893679 ,  0.60747081,\n        0.25107948,  0.47055108,  0.39070081,  0.02621635,  0.82351273,\n        0.77839993,  0.18726527,  0.01334593,  0.13964383,  0.77354771,\n        0.05612801,  0.97959118,  0.4724752 ,  0.22314416,  0.72189044,\n        0.13725318,  0.23492056,  0.86064825,  0.53149547,  0.04121841,\n        0.28961128,  0.23978599,  0.56803415,  0.92751843,  0.58868391,\n        0.15274404,  0.10503604,  0.74269302,  0.51145139,  0.53761923,\n        0.76122116,  0.02470783,  0.39027979,  0.8784624 ,  0.695972  ,\n        0.58821421,  0.09318459,  0.06718856,  0.09162267,  0.87649944,\n        0.76608982,  0.34752002,  0.64151904,  0.59531182,  0.65683544,\n        0.79120329,  0.73047662,  0.30550814,  0.85711659,  0.57002591,\n        0.33719192,  0.7407694 ,  0.34416579,  0.10973908,  0.83047871,\n        0.94484227,  0.70509734,  0.79825329,  0.05029169,  0.78189364,\n        0.52647978,  0.83434847,  0.58551342,  0.89441697,  0.34955371,\n        0.43620163,  0.62763602,  0.4092811 ,  0.20944147,  0.9677799 ,\n        0.04261095,  0.01305732,  0.81113285,  0.68745248,  0.81796168,\n        0.76279329,  0.34472286,  0.78708806,  0.99592196,  0.55987739,\n        0.85107968,  0.35455833,  0.45381992,  0.10234107,  0.81127434,\n        0.10435803,  0.57173738,  0.53794134,  0.26469128,  0.63948482,\n        0.06232467,  0.27147021,  0.22287543,  0.11019345,  0.86543531,\n        0.38461873,  0.68419617,  0.67856825,  0.64003004,  0.09317761,\n        0.58257297,  0.52943654,  0.28536579,  0.74323901,  0.10009226,\n        0.541696  ,  0.59300769,  0.09023225,  0.46701684,  0.74424991,\n        0.88040149,  0.51547189,  0.6956731 ,  0.41335087,  0.68880674,\n        0.29993176,  0.82753618,  0.76489906,  0.20888959,  0.99258805,\n        0.09050906,  0.6457897 ,  0.70877516,  0.34266413,  0.75464869,\n        0.90355693,  0.92915417,  0.25878756,  0.30142649,  0.6049528 ,\n        0.03827015,  0.8353975 ,  0.04820384,  0.34445118,  0.62883064,\n        0.91060769,  0.30291082,  0.1501071 ,  0.12836628,  0.1013758 ,\n        0.48919515,  0.581361  ,  0.09618723,  0.34965499,  0.56914093,\n        0.13229885,  0.57747329,  0.64724078,  0.36107009,  0.74067887,\n        0.12613862,  0.79868864,  0.74870748,  0.75502629,  0.60485278,\n        0.2217843 ,  0.370628  ,  0.74013252,  0.64897019,  0.59046786,\n        0.15473947,  0.35439628,  0.03350544,  0.00487193,  0.22912465,\n        0.99905517,  0.60975121,  0.17409965,  0.76560943,  0.36404469,\n        0.64803702,  0.12668567,  0.34688751,  0.34337032,  0.49791254,\n        0.4061433 ,  0.48126335,  0.00449537,  0.46973531,  0.42376347,\n        0.30302369,  0.36254601,  0.68512885, -0.00950904,  0.30277533,\n        0.78398518,  0.96700434,  0.45616792,  0.54854944,  0.93706702,\n        0.67508294,  0.89209705,  0.71826331,  0.61639144,  0.86163474,\n        0.61152663,  0.36472866,  0.19451811,  0.50694143,  0.08619562,\n        0.18481933,  0.63994954,  0.24291212,  0.31191696,  0.43910288,\n        0.72485129,  0.65940724,  0.70280968,  0.33898416,  0.6119606 ,\n        0.32765437,  0.9594578 ,  0.10053936,  0.97318091,  0.76051578,\n        0.44437976,  0.92704427,  0.8852614 ,  0.03046377,  0.6776801 ,\n        0.29076463,  0.45377106,  0.6949497 ,  0.94368793,  0.01233303,\n        0.19574412,  0.58776103,  0.16851774,  0.49222228,  0.03115405,\n        0.69205654,  0.44296537,  0.42097493,  0.67642354,  0.31493199,\n        0.26642891,  0.69320997,  0.0467741 ,  0.39460468,  0.62497021,\n        0.45106854,  0.40566038,  0.82518128,  0.57699677,  0.83935688,\n        0.8828462 ,  0.10856876,  0.19307556,  0.60297223,  0.2351326 ,\n        0.37688706,  0.65468477,  0.16163947,  0.73581708,  0.58436533,\n        0.79236861,  0.27437289,  0.01534463,  0.28722279,  0.21750901,\n        0.72199999,  0.67673525,  0.19906669, -0.08845449,  0.53340591,\n        0.49091245,  0.28693793,  0.04854139,  0.54037712,  0.73661574,\n        0.48517922,  0.58682484, -1.03267404,  0.08222208,  0.02564835,\n        0.46665119,  0.05824856,  0.00129946,  0.1478741 ,  0.33599882,\n        0.97592044, -0.35272901,  0.46640572,  0.5626338 ,  0.11172978,\n        0.15891868,  0.36026269,  0.19801411, -0.19266919, -0.0992593 ,\n       -0.32569161, -0.46423559,  0.46864281, -0.65120018, -0.2252538 ,\n        0.24639561, -0.5965765 ,  0.15796601,  0.49343051,  0.74125411,\n        0.86404291,  0.4657209 ,  0.59769157,  0.43674859,  0.49946674,\n        0.70576462,  0.43757031,  0.58476157,  0.2693159 ,  0.45442406,\n        0.90070571,  0.91643321,  0.29037746,  0.46162338,  0.23873649,\n        0.13326291,  0.00632574,  0.19605144,  0.25026047,  0.92533205,\n        0.96498735,  0.00285779,  0.61231003,  0.33291251,  0.46492456,\n        0.37783034,  0.95554682,  0.79979331,  0.66645388,  0.50862699,\n        0.44326708,  0.00254334])</div>",
              "removedWidgets": [],
              "addedWidgets": {},
              "metadata": {},
              "type": "html",
              "arguments": {}
            }
          },
          "data": {
            "text/html": [
              "<style scoped>\n  .ansiout {\n    display: block;\n    unicode-bidi: embed;\n    white-space: pre-wrap;\n    word-wrap: break-word;\n    word-break: break-all;\n    font-family: \"Source Code Pro\", \"Menlo\", monospace;;\n    font-size: 13px;\n    color: #555;\n    margin-left: 4px;\n    line-height: 19px;\n  }\n</style>\n<div class=\"ansiout\">Out[37]: array([-0.72381087, -1.1246855 , -0.4062588 , -0.21951216,  0.35536067,\n        0.25664249,  0.65754238,  0.55563421,  0.57598357,  0.33298641,\n        0.12537876,  0.89878517,  0.79454072,  0.18905149,  0.2019363 ,\n        0.26696566,  0.5752582 ,  0.29941323,  0.6990622 ,  0.1293235 ,\n        0.12732347,  0.05928256,  0.85774628,  0.27332979,  0.73111292,\n        0.49810235,  0.47792647,  0.40679362,  0.15314485,  0.33286552,\n        0.54153277,  0.76345517,  0.70615531,  0.55590604,  0.45111347,\n        0.83295475,  0.80305077,  0.12306208, -0.01572682,  0.77987038,\n        0.55212143,  0.03136683,  0.66197069,  0.44494014,  0.33993856,\n        0.4894208 ,  0.52412608,  0.11710708, -0.06574068,  0.58980335,\n        0.32976991,  0.14810583,  0.71102577,  0.10273516,  0.21722007,\n        0.6749819 ,  0.42509662,  0.23753319,  0.19196214,  0.43325739,\n       -0.12893252, -0.14826126,  0.08252554, -0.06650305,  0.95013233,\n        0.6288149 ,  0.51164933,  0.16460628,  0.89940596,  0.4978565 ,\n        0.2206387 ,  0.7587468 ,  0.66383352,  0.09154631,  0.062548  ,\n        0.75977073,  0.34027121,  0.78347201,  0.47699406,  0.75335788,\n        0.44692453,  0.61690107,  0.23633522,  0.5893679 ,  0.60747081,\n        0.25107948,  0.47055108,  0.39070081,  0.02621635,  0.82351273,\n        0.77839993,  0.18726527,  0.01334593,  0.13964383,  0.77354771,\n        0.05612801,  0.97959118,  0.4724752 ,  0.22314416,  0.72189044,\n        0.13725318,  0.23492056,  0.86064825,  0.53149547,  0.04121841,\n        0.28961128,  0.23978599,  0.56803415,  0.92751843,  0.58868391,\n        0.15274404,  0.10503604,  0.74269302,  0.51145139,  0.53761923,\n        0.76122116,  0.02470783,  0.39027979,  0.8784624 ,  0.695972  ,\n        0.58821421,  0.09318459,  0.06718856,  0.09162267,  0.87649944,\n        0.76608982,  0.34752002,  0.64151904,  0.59531182,  0.65683544,\n        0.79120329,  0.73047662,  0.30550814,  0.85711659,  0.57002591,\n        0.33719192,  0.7407694 ,  0.34416579,  0.10973908,  0.83047871,\n        0.94484227,  0.70509734,  0.79825329,  0.05029169,  0.78189364,\n        0.52647978,  0.83434847,  0.58551342,  0.89441697,  0.34955371,\n        0.43620163,  0.62763602,  0.4092811 ,  0.20944147,  0.9677799 ,\n        0.04261095,  0.01305732,  0.81113285,  0.68745248,  0.81796168,\n        0.76279329,  0.34472286,  0.78708806,  0.99592196,  0.55987739,\n        0.85107968,  0.35455833,  0.45381992,  0.10234107,  0.81127434,\n        0.10435803,  0.57173738,  0.53794134,  0.26469128,  0.63948482,\n        0.06232467,  0.27147021,  0.22287543,  0.11019345,  0.86543531,\n        0.38461873,  0.68419617,  0.67856825,  0.64003004,  0.09317761,\n        0.58257297,  0.52943654,  0.28536579,  0.74323901,  0.10009226,\n        0.541696  ,  0.59300769,  0.09023225,  0.46701684,  0.74424991,\n        0.88040149,  0.51547189,  0.6956731 ,  0.41335087,  0.68880674,\n        0.29993176,  0.82753618,  0.76489906,  0.20888959,  0.99258805,\n        0.09050906,  0.6457897 ,  0.70877516,  0.34266413,  0.75464869,\n        0.90355693,  0.92915417,  0.25878756,  0.30142649,  0.6049528 ,\n        0.03827015,  0.8353975 ,  0.04820384,  0.34445118,  0.62883064,\n        0.91060769,  0.30291082,  0.1501071 ,  0.12836628,  0.1013758 ,\n        0.48919515,  0.581361  ,  0.09618723,  0.34965499,  0.56914093,\n        0.13229885,  0.57747329,  0.64724078,  0.36107009,  0.74067887,\n        0.12613862,  0.79868864,  0.74870748,  0.75502629,  0.60485278,\n        0.2217843 ,  0.370628  ,  0.74013252,  0.64897019,  0.59046786,\n        0.15473947,  0.35439628,  0.03350544,  0.00487193,  0.22912465,\n        0.99905517,  0.60975121,  0.17409965,  0.76560943,  0.36404469,\n        0.64803702,  0.12668567,  0.34688751,  0.34337032,  0.49791254,\n        0.4061433 ,  0.48126335,  0.00449537,  0.46973531,  0.42376347,\n        0.30302369,  0.36254601,  0.68512885, -0.00950904,  0.30277533,\n        0.78398518,  0.96700434,  0.45616792,  0.54854944,  0.93706702,\n        0.67508294,  0.89209705,  0.71826331,  0.61639144,  0.86163474,\n        0.61152663,  0.36472866,  0.19451811,  0.50694143,  0.08619562,\n        0.18481933,  0.63994954,  0.24291212,  0.31191696,  0.43910288,\n        0.72485129,  0.65940724,  0.70280968,  0.33898416,  0.6119606 ,\n        0.32765437,  0.9594578 ,  0.10053936,  0.97318091,  0.76051578,\n        0.44437976,  0.92704427,  0.8852614 ,  0.03046377,  0.6776801 ,\n        0.29076463,  0.45377106,  0.6949497 ,  0.94368793,  0.01233303,\n        0.19574412,  0.58776103,  0.16851774,  0.49222228,  0.03115405,\n        0.69205654,  0.44296537,  0.42097493,  0.67642354,  0.31493199,\n        0.26642891,  0.69320997,  0.0467741 ,  0.39460468,  0.62497021,\n        0.45106854,  0.40566038,  0.82518128,  0.57699677,  0.83935688,\n        0.8828462 ,  0.10856876,  0.19307556,  0.60297223,  0.2351326 ,\n        0.37688706,  0.65468477,  0.16163947,  0.73581708,  0.58436533,\n        0.79236861,  0.27437289,  0.01534463,  0.28722279,  0.21750901,\n        0.72199999,  0.67673525,  0.19906669, -0.08845449,  0.53340591,\n        0.49091245,  0.28693793,  0.04854139,  0.54037712,  0.73661574,\n        0.48517922,  0.58682484, -1.03267404,  0.08222208,  0.02564835,\n        0.46665119,  0.05824856,  0.00129946,  0.1478741 ,  0.33599882,\n        0.97592044, -0.35272901,  0.46640572,  0.5626338 ,  0.11172978,\n        0.15891868,  0.36026269,  0.19801411, -0.19266919, -0.0992593 ,\n       -0.32569161, -0.46423559,  0.46864281, -0.65120018, -0.2252538 ,\n        0.24639561, -0.5965765 ,  0.15796601,  0.49343051,  0.74125411,\n        0.86404291,  0.4657209 ,  0.59769157,  0.43674859,  0.49946674,\n        0.70576462,  0.43757031,  0.58476157,  0.2693159 ,  0.45442406,\n        0.90070571,  0.91643321,  0.29037746,  0.46162338,  0.23873649,\n        0.13326291,  0.00632574,  0.19605144,  0.25026047,  0.92533205,\n        0.96498735,  0.00285779,  0.61231003,  0.33291251,  0.46492456,\n        0.37783034,  0.95554682,  0.79979331,  0.66645388,  0.50862699,\n        0.44326708,  0.00254334])</div>"
            ]
          }
        }
      ],
      "execution_count": null
    },
    {
      "cell_type": "code",
      "source": [
        "# Make predictions on the test rdd\n",
        "predrdd = makePrediction(vec_test_rdd, model,threshold = 0.35)"
      ],
      "metadata": {
        "application/vnd.databricks.v1+cell": {
          "title": "",
          "showTitle": false,
          "inputWidgets": {},
          "nuid": "b871aacd-a2b0-4d75-b7ec-1b6f924fd03d"
        },
        "id": "lKQsrQurmFOD",
        "outputId": "3cf6dd6d-33e4-4aaf-a97f-b9bc796181b9"
      },
      "outputs": [
        {
          "output_type": "display_data",
          "metadata": {
            "application/vnd.databricks.v1+output": {
              "datasetInfos": [],
              "data": "<div class=\"ansiout\"></div>",
              "removedWidgets": [],
              "addedWidgets": {},
              "metadata": {},
              "type": "html",
              "arguments": {}
            }
          },
          "data": {
            "text/html": [
              "<style scoped>\n  .ansiout {\n    display: block;\n    unicode-bidi: embed;\n    white-space: pre-wrap;\n    word-wrap: break-word;\n    word-break: break-all;\n    font-family: \"Source Code Pro\", \"Menlo\", monospace;;\n    font-size: 13px;\n    color: #555;\n    margin-left: 4px;\n    line-height: 19px;\n  }\n</style>\n<div class=\"ansiout\"></div>"
            ]
          }
        }
      ],
      "execution_count": null
    },
    {
      "cell_type": "code",
      "source": [
        "# Define the predicted resuts schema\n",
        "schema = StructType([\n",
        "StructField(\"prob\", FloatType(), True),\n",
        "StructField(\"prediction\", DoubleType(), True),\n",
        "StructField(\"label\", IntegerType(), True)])"
      ],
      "metadata": {
        "application/vnd.databricks.v1+cell": {
          "title": "",
          "showTitle": false,
          "inputWidgets": {},
          "nuid": "98d355a5-9a23-4508-89db-93f8650e1e4a"
        },
        "id": "OjMo8Op9mFOD",
        "outputId": "0cf4c63f-31fb-4e9a-8e2f-1ad78d987510"
      },
      "outputs": [
        {
          "output_type": "display_data",
          "metadata": {
            "application/vnd.databricks.v1+output": {
              "datasetInfos": [],
              "data": "<div class=\"ansiout\"></div>",
              "removedWidgets": [],
              "addedWidgets": {},
              "metadata": {},
              "type": "html",
              "arguments": {}
            }
          },
          "data": {
            "text/html": [
              "<style scoped>\n  .ansiout {\n    display: block;\n    unicode-bidi: embed;\n    white-space: pre-wrap;\n    word-wrap: break-word;\n    word-break: break-all;\n    font-family: \"Source Code Pro\", \"Menlo\", monospace;;\n    font-size: 13px;\n    color: #555;\n    margin-left: 4px;\n    line-height: 19px;\n  }\n</style>\n<div class=\"ansiout\"></div>"
            ]
          }
        }
      ],
      "execution_count": null
    },
    {
      "cell_type": "code",
      "source": [
        "# Convert the predicted results to a dataframe\n",
        "preddf = sqlContext.createDataFrame(predrdd, schema)"
      ],
      "metadata": {
        "application/vnd.databricks.v1+cell": {
          "title": "",
          "showTitle": false,
          "inputWidgets": {},
          "nuid": "fc76ea99-a167-48f1-bf18-35f88b6a7073"
        },
        "id": "wbE8LDxGmFOD",
        "outputId": "7a4de6c4-68f4-4b9f-b98a-7e60ff52d6ff"
      },
      "outputs": [
        {
          "output_type": "display_data",
          "metadata": {
            "application/vnd.databricks.v1+output": {
              "datasetInfos": [],
              "data": "<div class=\"ansiout\"></div>",
              "removedWidgets": [],
              "addedWidgets": {},
              "metadata": {},
              "type": "html",
              "arguments": {}
            }
          },
          "data": {
            "text/html": [
              "<style scoped>\n  .ansiout {\n    display: block;\n    unicode-bidi: embed;\n    white-space: pre-wrap;\n    word-wrap: break-word;\n    word-break: break-all;\n    font-family: \"Source Code Pro\", \"Menlo\", monospace;;\n    font-size: 13px;\n    color: #555;\n    margin-left: 4px;\n    line-height: 19px;\n  }\n</style>\n<div class=\"ansiout\"></div>"
            ]
          }
        }
      ],
      "execution_count": null
    },
    {
      "cell_type": "code",
      "source": [
        "display(preddf.limit(2))"
      ],
      "metadata": {
        "application/vnd.databricks.v1+cell": {
          "title": "",
          "showTitle": false,
          "inputWidgets": {},
          "nuid": "b0bb79e6-bc34-4884-b324-4df5a87e9b96"
        },
        "id": "JoP0MPsdmFOE",
        "outputId": "cb86043c-e2d0-4b74-f22f-ffe8304bbb19"
      },
      "outputs": [
        {
          "output_type": "display_data",
          "metadata": {
            "application/vnd.databricks.v1+output": {
              "overflow": false,
              "datasetInfos": [],
              "data": [
                [
                  0.146727,
                  0,
                  1
                ],
                [
                  0.28866726,
                  0,
                  0
                ]
              ],
              "plotOptions": {
                "displayType": "table",
                "customPlotOptions": {},
                "pivotColumns": null,
                "pivotAggregation": null,
                "xColumns": null,
                "yColumns": null
              },
              "columnCustomDisplayInfos": {},
              "aggType": "",
              "isJsonSchema": true,
              "removedWidgets": [],
              "aggSchema": [],
              "schema": [
                {
                  "name": "prob",
                  "type": "\"float\"",
                  "metadata": "{}"
                },
                {
                  "name": "prediction",
                  "type": "\"double\"",
                  "metadata": "{}"
                },
                {
                  "name": "label",
                  "type": "\"integer\"",
                  "metadata": "{}"
                }
              ],
              "aggError": "",
              "aggData": [],
              "addedWidgets": {},
              "metadata": {},
              "dbfsResultPath": null,
              "type": "table",
              "aggOverflow": false,
              "aggSeriesLimitReached": false,
              "arguments": {}
            }
          },
          "data": {
            "text/html": [
              "<style scoped>\n  .table-result-container {\n    max-height: 300px;\n    overflow: auto;\n  }\n  table, th, td {\n    border: 1px solid black;\n    border-collapse: collapse;\n  }\n  th, td {\n    padding: 5px;\n  }\n  th {\n    text-align: left;\n  }\n</style><div class='table-result-container'><table class='table-result'><thead style='background-color: white'><tr><th>prob</th><th>prediction</th><th>label</th></tr></thead><tbody><tr><td>0.146727</td><td>0.0</td><td>1</td></tr><tr><td>0.28866726</td><td>0.0</td><td>0</td></tr></tbody></table></div>"
            ]
          }
        }
      ],
      "execution_count": null
    },
    {
      "cell_type": "markdown",
      "source": [
        "###Metrics"
      ],
      "metadata": {
        "application/vnd.databricks.v1+cell": {
          "title": "",
          "showTitle": false,
          "inputWidgets": {},
          "nuid": "b0434170-ff76-40fd-8fc8-c76d4cdadf46"
        },
        "id": "LYDYdrssmFOE"
      }
    },
    {
      "cell_type": "code",
      "source": [
        "# Evaluate metrics on the predcted results dataframe\n",
        "model_evaluation(preddf)"
      ],
      "metadata": {
        "application/vnd.databricks.v1+cell": {
          "title": "",
          "showTitle": false,
          "inputWidgets": {},
          "nuid": "8947f5fb-ef08-4a71-bb20-19506160d934"
        },
        "id": "eNcAwgZ3mFOE",
        "outputId": "4350b5cc-fa95-4c2a-8f6d-9593bce025ee"
      },
      "outputs": [
        {
          "output_type": "display_data",
          "metadata": {
            "application/vnd.databricks.v1+output": {
              "datasetInfos": [],
              "data": "<div class=\"ansiout\">Accuracy = 0.6875\nPrecision = 0.3797\nRecall = 0.2208\nF1-Score = 0.2792\nF05-Score = 0.3319\nF2-Score = 0.2409\nTP = 3895\nFN = 13748\nTN = 40346\nFP = 6363\nTotal Records: 64352\n</div>",
              "removedWidgets": [],
              "addedWidgets": {},
              "metadata": {},
              "type": "html",
              "arguments": {}
            }
          },
          "data": {
            "text/html": [
              "<style scoped>\n  .ansiout {\n    display: block;\n    unicode-bidi: embed;\n    white-space: pre-wrap;\n    word-wrap: break-word;\n    word-break: break-all;\n    font-family: \"Source Code Pro\", \"Menlo\", monospace;;\n    font-size: 13px;\n    color: #555;\n    margin-left: 4px;\n    line-height: 19px;\n  }\n</style>\n<div class=\"ansiout\">Accuracy = 0.6875\nPrecision = 0.3797\nRecall = 0.2208\nF1-Score = 0.2792\nF05-Score = 0.3319\nF2-Score = 0.2409\nTP = 3895\nFN = 13748\nTN = 40346\nFP = 6363\nTotal Records: 64352\n</div>"
            ]
          }
        }
      ],
      "execution_count": null
    },
    {
      "cell_type": "markdown",
      "source": [
        "### Training on a portion of Large dataset"
      ],
      "metadata": {
        "application/vnd.databricks.v1+cell": {
          "title": "",
          "showTitle": false,
          "inputWidgets": {},
          "nuid": "0798c5f1-5d1a-4ba3-8b8a-34310431bf82"
        },
        "id": "8WHoSTbHmFOE"
      }
    },
    {
      "cell_type": "code",
      "source": [
        "def get_split_large_par(df):\n",
        "    df = df.drop(*drop)\n",
        "    train_df = df.where((col('YEAR') == '2018') & (col('MONTH') == '2')).drop(\"FL_DATE\")\n",
        "    test_df = df.where((col('YEAR') == '2018') & (col('MONTH') == '3')).drop(\"FL_DATE\")\n",
        "    return train_df, test_df"
      ],
      "metadata": {
        "application/vnd.databricks.v1+cell": {
          "title": "",
          "showTitle": false,
          "inputWidgets": {},
          "nuid": "67a4d351-9383-4b51-88ce-8245ac2787de"
        },
        "id": "wFkleNORmFOE",
        "outputId": "a7d8b560-410f-47ff-a45b-4d6ae9dab97e"
      },
      "outputs": [
        {
          "output_type": "display_data",
          "metadata": {
            "application/vnd.databricks.v1+output": {
              "datasetInfos": [],
              "data": "<div class=\"ansiout\"></div>",
              "removedWidgets": [],
              "addedWidgets": {},
              "metadata": {},
              "type": "html",
              "arguments": {}
            }
          },
          "data": {
            "text/html": [
              "<style scoped>\n  .ansiout {\n    display: block;\n    unicode-bidi: embed;\n    white-space: pre-wrap;\n    word-wrap: break-word;\n    word-break: break-all;\n    font-family: \"Source Code Pro\", \"Menlo\", monospace;;\n    font-size: 13px;\n    color: #555;\n    margin-left: 4px;\n    line-height: 19px;\n  }\n</style>\n<div class=\"ansiout\"></div>"
            ]
          }
        }
      ],
      "execution_count": null
    },
    {
      "cell_type": "code",
      "source": [
        "# Create train and test data and resample\n",
        "train_df, test_df = get_split_large_par(joined_data_traintest)\n",
        "train_df = resample(train_df, 1.7, 'DEP_DEL15', 1)"
      ],
      "metadata": {
        "application/vnd.databricks.v1+cell": {
          "title": "",
          "showTitle": false,
          "inputWidgets": {},
          "nuid": "aaabc175-4ad5-4b6c-97bd-95e232f4cad3"
        },
        "id": "fCiVyL88mFOE",
        "outputId": "531b2ce5-afe1-4581-dd8d-cc55f752d85a"
      },
      "outputs": [
        {
          "output_type": "display_data",
          "metadata": {
            "application/vnd.databricks.v1+output": {
              "datasetInfos": [],
              "data": "<div class=\"ansiout\"></div>",
              "removedWidgets": [],
              "addedWidgets": {},
              "metadata": {},
              "type": "html",
              "arguments": {}
            }
          },
          "data": {
            "text/html": [
              "<style scoped>\n  .ansiout {\n    display: block;\n    unicode-bidi: embed;\n    white-space: pre-wrap;\n    word-wrap: break-word;\n    word-break: break-all;\n    font-family: \"Source Code Pro\", \"Menlo\", monospace;;\n    font-size: 13px;\n    color: #555;\n    margin-left: 4px;\n    line-height: 19px;\n  }\n</style>\n<div class=\"ansiout\"></div>"
            ]
          }
        }
      ],
      "execution_count": null
    },
    {
      "cell_type": "code",
      "source": [
        "# Perform data processing using the pipeline and fit train data\n",
        "pipelineModel = pipeline.fit(train_df)\n",
        "train_df = pipelineModel.transform(train_df)\n",
        "vec_train_df = train_df.select('features','label')\n",
        "vec_train_rdd = vec_train_df.rdd.map(parse).cache()\n",
        "\n",
        "# Transform test data using fitted train data\n",
        "test_df = pipelineModel.transform(test_df)\n",
        "vec_test_df = test_df.select('features','label')\n",
        "vec_test_rdd = vec_test_df.rdd.map(parse).cache()"
      ],
      "metadata": {
        "application/vnd.databricks.v1+cell": {
          "title": "",
          "showTitle": false,
          "inputWidgets": {},
          "nuid": "efd082c7-b5c6-4073-b41e-a24630b990e6"
        },
        "id": "vGKrVT2TmFOF",
        "outputId": "1a491454-b716-4b34-8e32-7a1e0b03527d"
      },
      "outputs": [
        {
          "output_type": "display_data",
          "metadata": {
            "application/vnd.databricks.v1+output": {
              "datasetInfos": [],
              "data": "<div class=\"ansiout\"></div>",
              "removedWidgets": [],
              "addedWidgets": {},
              "metadata": {},
              "type": "html",
              "arguments": {}
            }
          },
          "data": {
            "text/html": [
              "<style scoped>\n  .ansiout {\n    display: block;\n    unicode-bidi: embed;\n    white-space: pre-wrap;\n    word-wrap: break-word;\n    word-break: break-all;\n    font-family: \"Source Code Pro\", \"Menlo\", monospace;;\n    font-size: 13px;\n    color: #555;\n    margin-left: 4px;\n    line-height: 19px;\n  }\n</style>\n<div class=\"ansiout\"></div>"
            ]
          }
        }
      ],
      "execution_count": null
    },
    {
      "cell_type": "code",
      "source": [
        "display(vec_train_df.take(2))"
      ],
      "metadata": {
        "application/vnd.databricks.v1+cell": {
          "title": "",
          "showTitle": false,
          "inputWidgets": {},
          "nuid": "b92d86b7-53cf-45fe-bbee-64ff823e8b6f"
        },
        "id": "HteqLbyOmFOF",
        "outputId": "5609229c-c5d0-45ac-fd6c-99dfb4786a4a"
      },
      "outputs": [
        {
          "output_type": "display_data",
          "metadata": {
            "application/vnd.databricks.v1+output": {
              "overflow": false,
              "datasetInfos": [],
              "data": [
                [
                  {
                    "vectorType": "sparse",
                    "length": 939,
                    "indices": [
                      0,
                      1,
                      2,
                      17,
                      33,
                      48,
                      101,
                      403,
                      456,
                      792,
                      830,
                      852,
                      869,
                      879,
                      880,
                      884,
                      885,
                      888,
                      889,
                      891,
                      892,
                      893,
                      895,
                      896,
                      897,
                      898,
                      900,
                      901,
                      902,
                      903
                    ],
                    "values": [
                      1,
                      1,
                      1,
                      1,
                      1,
                      1,
                      1,
                      1,
                      1,
                      1,
                      1,
                      1,
                      1,
                      1,
                      1,
                      0.15572934376062564,
                      0.11284427065623939,
                      1,
                      0.25984251968503935,
                      0.22222222222222224,
                      1,
                      0.2222222222222222,
                      0.12332561516426588,
                      0.6615384615384616,
                      0.22222222222222224,
                      0.6720827178729691,
                      0.47649918962722854,
                      0.5396825396825397,
                      0.5809379727685325,
                      0.4903536977491961
                    ]
                  },
                  0
                ],
                [
                  {
                    "vectorType": "sparse",
                    "length": 939,
                    "indices": [
                      0,
                      1,
                      2,
                      28,
                      37,
                      49,
                      58,
                      391,
                      629,
                      779,
                      843,
                      858,
                      868,
                      879,
                      881,
                      884,
                      885,
                      888,
                      889,
                      891,
                      892,
                      893,
                      895,
                      896,
                      897,
                      898,
                      900,
                      901,
                      902,
                      903,
                      919,
                      936
                    ],
                    "values": [
                      1,
                      1,
                      1,
                      1,
                      1,
                      1,
                      1,
                      1,
                      1,
                      1,
                      1,
                      1,
                      1,
                      1,
                      1,
                      0.07242434546072764,
                      0.0029751785107106432,
                      0.047078057025686494,
                      0.29133858267716534,
                      0.11111111111111112,
                      0.0041286818698218295,
                      0.3611111111111111,
                      0.831163441543136,
                      0.5538461538461539,
                      0.11111111111111112,
                      0.6070901033973414,
                      0.6564019448946515,
                      0.5238095238095237,
                      0.8245083207261725,
                      0.9196141479099679,
                      1,
                      1
                    ]
                  },
                  0
                ]
              ],
              "plotOptions": {
                "displayType": "table",
                "customPlotOptions": {},
                "pivotColumns": null,
                "pivotAggregation": null,
                "xColumns": null,
                "yColumns": null
              },
              "columnCustomDisplayInfos": {},
              "aggType": "",
              "isJsonSchema": true,
              "removedWidgets": [],
              "aggSchema": [],
              "schema": [
                {
                  "name": "features",
                  "type": "{\"type\":\"udt\",\"class\":\"org.apache.spark.ml.linalg.VectorUDT\",\"pyClass\":\"pyspark.ml.linalg.VectorUDT\",\"sqlType\":{\"type\":\"struct\",\"fields\":[{\"name\":\"type\",\"type\":\"byte\",\"nullable\":false,\"metadata\":{}},{\"name\":\"size\",\"type\":\"integer\",\"nullable\":true,\"metadata\":{}},{\"name\":\"indices\",\"type\":{\"type\":\"array\",\"elementType\":\"integer\",\"containsNull\":false},\"nullable\":true,\"metadata\":{}},{\"name\":\"values\",\"type\":{\"type\":\"array\",\"elementType\":\"double\",\"containsNull\":false},\"nullable\":true,\"metadata\":{}}]}}",
                  "metadata": "{}"
                },
                {
                  "name": "label",
                  "type": "\"double\"",
                  "metadata": "{}"
                }
              ],
              "aggError": "",
              "aggData": [],
              "addedWidgets": {},
              "metadata": {},
              "dbfsResultPath": null,
              "type": "table",
              "aggOverflow": false,
              "aggSeriesLimitReached": false,
              "arguments": {}
            }
          },
          "data": {
            "text/html": [
              "<style scoped>\n  .table-result-container {\n    max-height: 300px;\n    overflow: auto;\n  }\n  table, th, td {\n    border: 1px solid black;\n    border-collapse: collapse;\n  }\n  th, td {\n    padding: 5px;\n  }\n  th {\n    text-align: left;\n  }\n</style><div class='table-result-container'><table class='table-result'><thead style='background-color: white'><tr><th>features</th><th>label</th></tr></thead><tbody><tr><td>Map(vectorType -> sparse, length -> 939, indices -> List(0, 1, 2, 17, 33, 48, 101, 403, 456, 792, 830, 852, 869, 879, 880, 884, 885, 888, 889, 891, 892, 893, 895, 896, 897, 898, 900, 901, 902, 903), values -> List(1.0, 1.0, 1.0, 1.0, 1.0, 1.0, 1.0, 1.0, 1.0, 1.0, 1.0, 1.0, 1.0, 1.0, 1.0, 0.15572934376062564, 0.11284427065623939, 1.0, 0.25984251968503935, 0.22222222222222224, 1.0, 0.2222222222222222, 0.12332561516426588, 0.6615384615384616, 0.22222222222222224, 0.6720827178729691, 0.47649918962722854, 0.5396825396825397, 0.5809379727685325, 0.4903536977491961))</td><td>0.0</td></tr><tr><td>Map(vectorType -> sparse, length -> 939, indices -> List(0, 1, 2, 28, 37, 49, 58, 391, 629, 779, 843, 858, 868, 879, 881, 884, 885, 888, 889, 891, 892, 893, 895, 896, 897, 898, 900, 901, 902, 903, 919, 936), values -> List(1.0, 1.0, 1.0, 1.0, 1.0, 1.0, 1.0, 1.0, 1.0, 1.0, 1.0, 1.0, 1.0, 1.0, 1.0, 0.07242434546072764, 0.0029751785107106432, 0.047078057025686494, 0.29133858267716534, 0.11111111111111112, 0.0041286818698218295, 0.3611111111111111, 0.831163441543136, 0.5538461538461539, 0.11111111111111112, 0.6070901033973414, 0.6564019448946515, 0.5238095238095237, 0.8245083207261725, 0.9196141479099679, 1.0, 1.0))</td><td>0.0</td></tr></tbody></table></div>"
            ]
          }
        }
      ],
      "execution_count": null
    },
    {
      "cell_type": "code",
      "source": [
        "display(vec_test_df.take(2))"
      ],
      "metadata": {
        "application/vnd.databricks.v1+cell": {
          "title": "",
          "showTitle": false,
          "inputWidgets": {},
          "nuid": "987e791f-01b8-4a5f-8f78-566ba9cd9081"
        },
        "id": "DcvknYPzmFOF",
        "outputId": "8f6ae637-eebb-4509-f03c-2b6eaaac0180"
      },
      "outputs": [
        {
          "output_type": "display_data",
          "metadata": {
            "application/vnd.databricks.v1+output": {
              "overflow": false,
              "datasetInfos": [],
              "data": [
                [
                  {
                    "vectorType": "sparse",
                    "length": 939,
                    "indices": [
                      0,
                      1,
                      16,
                      33,
                      53,
                      173,
                      393,
                      724,
                      798,
                      838,
                      864,
                      870,
                      879,
                      881,
                      884,
                      885,
                      888,
                      889,
                      891,
                      892,
                      893,
                      894,
                      895,
                      896,
                      897,
                      898,
                      900,
                      901,
                      902,
                      903
                    ],
                    "values": [
                      1,
                      1,
                      1,
                      1,
                      1,
                      1,
                      1,
                      1,
                      1,
                      1,
                      1,
                      1,
                      1,
                      1,
                      0.0031026861611696704,
                      0.09626827609656581,
                      1,
                      0.1837270341207349,
                      0.22222222222222224,
                      1,
                      0.275,
                      0.33125,
                      0.013377338712258793,
                      0.4307692307692308,
                      0.22222222222222224,
                      0.8360413589364846,
                      0.9092382495948136,
                      0.5873015873015872,
                      0.47806354009077157,
                      0.4678456591639871
                    ]
                  },
                  0
                ],
                [
                  {
                    "vectorType": "sparse",
                    "length": 939,
                    "indices": [
                      0,
                      1,
                      7,
                      31,
                      41,
                      68,
                      404,
                      570,
                      819,
                      841,
                      855,
                      871,
                      879,
                      880,
                      884,
                      885,
                      888,
                      889,
                      891,
                      892,
                      893,
                      895,
                      896,
                      897,
                      898,
                      900,
                      901,
                      902,
                      903
                    ],
                    "values": [
                      1,
                      1,
                      1,
                      1,
                      1,
                      1,
                      1,
                      1,
                      1,
                      1,
                      1,
                      1,
                      1,
                      1,
                      0.11284427065623939,
                      0.11645698741924516,
                      0.3463659286763279,
                      0.31758530183727035,
                      0.22222222222222224,
                      1,
                      0.3361111111111111,
                      0.6783038531349699,
                      0.7230769230769232,
                      0.22222222222222224,
                      0.5657311669128509,
                      0.3954619124797407,
                      0.6666666666666666,
                      0.5128593040847201,
                      0.527331189710611
                    ]
                  },
                  0
                ]
              ],
              "plotOptions": {
                "displayType": "table",
                "customPlotOptions": {},
                "pivotColumns": null,
                "pivotAggregation": null,
                "xColumns": null,
                "yColumns": null
              },
              "columnCustomDisplayInfos": {},
              "aggType": "",
              "isJsonSchema": true,
              "removedWidgets": [],
              "aggSchema": [],
              "schema": [
                {
                  "name": "features",
                  "type": "{\"type\":\"udt\",\"class\":\"org.apache.spark.ml.linalg.VectorUDT\",\"pyClass\":\"pyspark.ml.linalg.VectorUDT\",\"sqlType\":{\"type\":\"struct\",\"fields\":[{\"name\":\"type\",\"type\":\"byte\",\"nullable\":false,\"metadata\":{}},{\"name\":\"size\",\"type\":\"integer\",\"nullable\":true,\"metadata\":{}},{\"name\":\"indices\",\"type\":{\"type\":\"array\",\"elementType\":\"integer\",\"containsNull\":false},\"nullable\":true,\"metadata\":{}},{\"name\":\"values\",\"type\":{\"type\":\"array\",\"elementType\":\"double\",\"containsNull\":false},\"nullable\":true,\"metadata\":{}}]}}",
                  "metadata": "{}"
                },
                {
                  "name": "label",
                  "type": "\"double\"",
                  "metadata": "{}"
                }
              ],
              "aggError": "",
              "aggData": [],
              "addedWidgets": {},
              "metadata": {},
              "dbfsResultPath": null,
              "type": "table",
              "aggOverflow": false,
              "aggSeriesLimitReached": false,
              "arguments": {}
            }
          },
          "data": {
            "text/html": [
              "<style scoped>\n  .table-result-container {\n    max-height: 300px;\n    overflow: auto;\n  }\n  table, th, td {\n    border: 1px solid black;\n    border-collapse: collapse;\n  }\n  th, td {\n    padding: 5px;\n  }\n  th {\n    text-align: left;\n  }\n</style><div class='table-result-container'><table class='table-result'><thead style='background-color: white'><tr><th>features</th><th>label</th></tr></thead><tbody><tr><td>Map(vectorType -> sparse, length -> 939, indices -> List(0, 1, 16, 33, 53, 173, 393, 724, 798, 838, 864, 870, 879, 881, 884, 885, 888, 889, 891, 892, 893, 894, 895, 896, 897, 898, 900, 901, 902, 903), values -> List(1.0, 1.0, 1.0, 1.0, 1.0, 1.0, 1.0, 1.0, 1.0, 1.0, 1.0, 1.0, 1.0, 1.0, 0.0031026861611696704, 0.09626827609656581, 1.0, 0.1837270341207349, 0.22222222222222224, 1.0, 0.275, 0.33125, 0.013377338712258793, 0.4307692307692308, 0.22222222222222224, 0.8360413589364846, 0.9092382495948136, 0.5873015873015872, 0.47806354009077157, 0.4678456591639871))</td><td>0.0</td></tr><tr><td>Map(vectorType -> sparse, length -> 939, indices -> List(0, 1, 7, 31, 41, 68, 404, 570, 819, 841, 855, 871, 879, 880, 884, 885, 888, 889, 891, 892, 893, 895, 896, 897, 898, 900, 901, 902, 903), values -> List(1.0, 1.0, 1.0, 1.0, 1.0, 1.0, 1.0, 1.0, 1.0, 1.0, 1.0, 1.0, 1.0, 1.0, 0.11284427065623939, 0.11645698741924516, 0.3463659286763279, 0.31758530183727035, 0.22222222222222224, 1.0, 0.3361111111111111, 0.6783038531349699, 0.7230769230769232, 0.22222222222222224, 0.5657311669128509, 0.3954619124797407, 0.6666666666666666, 0.5128593040847201, 0.527331189710611))</td><td>0.0</td></tr></tbody></table></div>"
            ]
          }
        }
      ],
      "execution_count": null
    },
    {
      "cell_type": "code",
      "source": [
        "# Initialize model with number of features + 1 for bias\n",
        "wInit = np.random.uniform(0,1,940)\n",
        "# Perform gradient descent on the train set\n",
        "lr_results = GradientDescent(vec_train_rdd, vec_test_rdd, wInit, nSteps = 50, learningRate = 0.28)"
      ],
      "metadata": {
        "application/vnd.databricks.v1+cell": {
          "title": "",
          "showTitle": false,
          "inputWidgets": {},
          "nuid": "c60c4992-765a-43b0-b693-e00a869930ae"
        },
        "id": "n5KQD9nNmFOF",
        "outputId": "1317eb57-3e3a-45f2-cbca-78ee3625ee47"
      },
      "outputs": [
        {
          "output_type": "display_data",
          "metadata": {
            "application/vnd.databricks.v1+output": {
              "datasetInfos": [],
              "data": "<div class=\"ansiout\"></div>",
              "removedWidgets": [],
              "addedWidgets": {},
              "metadata": {},
              "type": "html",
              "arguments": {}
            }
          },
          "data": {
            "text/html": [
              "<style scoped>\n  .ansiout {\n    display: block;\n    unicode-bidi: embed;\n    white-space: pre-wrap;\n    word-wrap: break-word;\n    word-break: break-all;\n    font-family: \"Source Code Pro\", \"Menlo\", monospace;;\n    font-size: 13px;\n    color: #555;\n    margin-left: 4px;\n    line-height: 19px;\n  }\n</style>\n<div class=\"ansiout\"></div>"
            ]
          }
        }
      ],
      "execution_count": null
    },
    {
      "cell_type": "code",
      "source": [
        "# Check the last three loss results and see loss is not exploding\n",
        "# The above results are valid if the loss was not exploding\n",
        "print(lr_results[0][-3])\n",
        "print(lr_results[0][-2])\n",
        "print(lr_results[0][-1])"
      ],
      "metadata": {
        "application/vnd.databricks.v1+cell": {
          "title": "",
          "showTitle": false,
          "inputWidgets": {},
          "nuid": "47aa6683-119e-46b4-832c-ced1ed60b8e3"
        },
        "id": "exCiZWe0mFOF",
        "outputId": "6169ee22-d071-4375-8206-970e163c4aaa"
      },
      "outputs": [
        {
          "output_type": "display_data",
          "metadata": {
            "application/vnd.databricks.v1+output": {
              "datasetInfos": [],
              "data": "<div class=\"ansiout\">0.7090909255515747\n0.707826963126258\n0.7065900531797258\n</div>",
              "removedWidgets": [],
              "addedWidgets": {},
              "metadata": {},
              "type": "html",
              "arguments": {}
            }
          },
          "data": {
            "text/html": [
              "<style scoped>\n  .ansiout {\n    display: block;\n    unicode-bidi: embed;\n    white-space: pre-wrap;\n    word-wrap: break-word;\n    word-break: break-all;\n    font-family: \"Source Code Pro\", \"Menlo\", monospace;;\n    font-size: 13px;\n    color: #555;\n    margin-left: 4px;\n    line-height: 19px;\n  }\n</style>\n<div class=\"ansiout\">0.7090909255515747\n0.707826963126258\n0.7065900531797258\n</div>"
            ]
          }
        }
      ],
      "execution_count": null
    },
    {
      "cell_type": "code",
      "source": [
        "# Pick the last model\n",
        "model = lr_results[2][-1]"
      ],
      "metadata": {
        "application/vnd.databricks.v1+cell": {
          "title": "",
          "showTitle": false,
          "inputWidgets": {},
          "nuid": "b826f0bf-efdc-4b61-b18b-4dee77419005"
        },
        "id": "Bt-pyIk6mFOG",
        "outputId": "f0c40870-0ac9-4025-cd1f-a6676c0ef239"
      },
      "outputs": [
        {
          "output_type": "display_data",
          "metadata": {
            "application/vnd.databricks.v1+output": {
              "datasetInfos": [],
              "data": "<div class=\"ansiout\"></div>",
              "removedWidgets": [],
              "addedWidgets": {},
              "metadata": {},
              "type": "html",
              "arguments": {}
            }
          },
          "data": {
            "text/html": [
              "<style scoped>\n  .ansiout {\n    display: block;\n    unicode-bidi: embed;\n    white-space: pre-wrap;\n    word-wrap: break-word;\n    word-break: break-all;\n    font-family: \"Source Code Pro\", \"Menlo\", monospace;;\n    font-size: 13px;\n    color: #555;\n    margin-left: 4px;\n    line-height: 19px;\n  }\n</style>\n<div class=\"ansiout\"></div>"
            ]
          }
        }
      ],
      "execution_count": null
    },
    {
      "cell_type": "code",
      "source": [
        "# Make predictions\n",
        "predrdd = makePrediction(vec_test_rdd, model,threshold = 0.40)\n",
        "preddf = sqlContext.createDataFrame(predrdd, schema)\n",
        "# Evaluate results\n",
        "model_evaluation(preddf)"
      ],
      "metadata": {
        "application/vnd.databricks.v1+cell": {
          "title": "",
          "showTitle": false,
          "inputWidgets": {},
          "nuid": "64eac3fd-0f70-4f1f-9692-15587db449e4"
        },
        "id": "B2lXpyTymFOG",
        "outputId": "5a51b96d-40e1-4200-85e7-186b6467ad32"
      },
      "outputs": [
        {
          "output_type": "display_data",
          "metadata": {
            "application/vnd.databricks.v1+output": {
              "datasetInfos": [],
              "data": "<div class=\"ansiout\">Accuracy = 0.2711\nPrecision = 0.1697\nRecall = 0.8744\nF1-Score = 0.2842\nF05-Score = 0.2023\nF2-Score = 0.4776\nTP = 85929\nFN = 12347\nTN = 75106\nFP = 420542\nTotal Records: 593924\n</div>",
              "removedWidgets": [],
              "addedWidgets": {},
              "metadata": {},
              "type": "html",
              "arguments": {}
            }
          },
          "data": {
            "text/html": [
              "<style scoped>\n  .ansiout {\n    display: block;\n    unicode-bidi: embed;\n    white-space: pre-wrap;\n    word-wrap: break-word;\n    word-break: break-all;\n    font-family: \"Source Code Pro\", \"Menlo\", monospace;;\n    font-size: 13px;\n    color: #555;\n    margin-left: 4px;\n    line-height: 19px;\n  }\n</style>\n<div class=\"ansiout\">Accuracy = 0.2711\nPrecision = 0.1697\nRecall = 0.8744\nF1-Score = 0.2842\nF05-Score = 0.2023\nF2-Score = 0.4776\nTP = 85929\nFN = 12347\nTN = 75106\nFP = 420542\nTotal Records: 593924\n</div>"
            ]
          }
        }
      ],
      "execution_count": null
    },
    {
      "cell_type": "markdown",
      "source": [
        "###Testing on the full dataset\n",
        "Training on 2015 to 2017 records<br/>\n",
        "Testing on 2018 records"
      ],
      "metadata": {
        "application/vnd.databricks.v1+cell": {
          "title": "",
          "showTitle": false,
          "inputWidgets": {},
          "nuid": "e06f3ffc-3912-43e1-8d3d-a42bfcaa2e09"
        },
        "id": "PmsUW93hmFOG"
      }
    },
    {
      "cell_type": "code",
      "source": [
        "def get_split_large_par(df):\n",
        "    df = df.drop(*drop)\n",
        "    train_df = df.where(col('YEAR') != '2018').drop(\"FL_DATE\")\n",
        "    test_df = df.where(col('YEAR') == '2018').drop(\"FL_DATE\")\n",
        "    return train_df, test_df"
      ],
      "metadata": {
        "application/vnd.databricks.v1+cell": {
          "title": "",
          "showTitle": false,
          "inputWidgets": {},
          "nuid": "c0545e25-b32d-441a-8f5c-fdc61c1b1416"
        },
        "id": "N3xtcg7BmFOG",
        "outputId": "22eaf3de-0bff-4fa0-e36e-b179395023ca"
      },
      "outputs": [
        {
          "output_type": "display_data",
          "metadata": {
            "application/vnd.databricks.v1+output": {
              "datasetInfos": [],
              "data": "<div class=\"ansiout\"></div>",
              "removedWidgets": [],
              "addedWidgets": {},
              "metadata": {},
              "type": "html",
              "arguments": {}
            }
          },
          "data": {
            "text/html": [
              "<style scoped>\n  .ansiout {\n    display: block;\n    unicode-bidi: embed;\n    white-space: pre-wrap;\n    word-wrap: break-word;\n    word-break: break-all;\n    font-family: \"Source Code Pro\", \"Menlo\", monospace;;\n    font-size: 13px;\n    color: #555;\n    margin-left: 4px;\n    line-height: 19px;\n  }\n</style>\n<div class=\"ansiout\"></div>"
            ]
          }
        }
      ],
      "execution_count": null
    },
    {
      "cell_type": "code",
      "source": [
        "# 2015 to 2017 data for training and 2018 data for testing\n",
        "train_df_l, test_df_l = get_split_large_par(joined_data_traintest)"
      ],
      "metadata": {
        "application/vnd.databricks.v1+cell": {
          "title": "",
          "showTitle": false,
          "inputWidgets": {},
          "nuid": "bef4da23-42b9-4384-b87f-182afafa0f7f"
        },
        "id": "tcrm0qTmmFOG",
        "outputId": "ccea8d91-6dc3-40ef-e1f7-0ab221b8c497"
      },
      "outputs": [
        {
          "output_type": "display_data",
          "metadata": {
            "application/vnd.databricks.v1+output": {
              "datasetInfos": [],
              "data": "<div class=\"ansiout\"></div>",
              "removedWidgets": [],
              "addedWidgets": {},
              "metadata": {},
              "type": "html",
              "arguments": {}
            }
          },
          "data": {
            "text/html": [
              "<style scoped>\n  .ansiout {\n    display: block;\n    unicode-bidi: embed;\n    white-space: pre-wrap;\n    word-wrap: break-word;\n    word-break: break-all;\n    font-family: \"Source Code Pro\", \"Menlo\", monospace;;\n    font-size: 13px;\n    color: #555;\n    margin-left: 4px;\n    line-height: 19px;\n  }\n</style>\n<div class=\"ansiout\"></div>"
            ]
          }
        }
      ],
      "execution_count": null
    },
    {
      "cell_type": "code",
      "source": [
        "# Undersample the majority class\n",
        "train_df_l = resample(train_df_l, 1.7, 'DEP_DEL15', 1)"
      ],
      "metadata": {
        "application/vnd.databricks.v1+cell": {
          "title": "",
          "showTitle": false,
          "inputWidgets": {},
          "nuid": "b2b78ea9-dff1-4c65-8231-59eaaaeb14e5"
        },
        "id": "3IssUQ0bmFOH",
        "outputId": "0fb1dbbf-8e8f-4244-c9d8-579503fc340c"
      },
      "outputs": [
        {
          "output_type": "display_data",
          "metadata": {
            "application/vnd.databricks.v1+output": {
              "datasetInfos": [],
              "data": "<div class=\"ansiout\"></div>",
              "removedWidgets": [],
              "addedWidgets": {},
              "metadata": {},
              "type": "html",
              "arguments": {}
            }
          },
          "data": {
            "text/html": [
              "<style scoped>\n  .ansiout {\n    display: block;\n    unicode-bidi: embed;\n    white-space: pre-wrap;\n    word-wrap: break-word;\n    word-break: break-all;\n    font-family: \"Source Code Pro\", \"Menlo\", monospace;;\n    font-size: 13px;\n    color: #555;\n    margin-left: 4px;\n    line-height: 19px;\n  }\n</style>\n<div class=\"ansiout\"></div>"
            ]
          }
        }
      ],
      "execution_count": null
    },
    {
      "cell_type": "code",
      "source": [
        "# Fit train dataset for feature processing\n",
        "pipelineModel = pipeline.fit(train_df_l)\n",
        "train_df_l = pipelineModel.transform(train_df_l)\n",
        "vec_train_df_l = train_df_l.select('features','label')\n",
        "vec_train_rdd_l = vec_train_df_l.rdd.map(parse).cache()\n",
        "\n",
        "# Transfor the test dataset\n",
        "test_df_l = pipelineModel.transform(test_df_l)\n",
        "vec_test_df_l = test_df_l.select('features','label')\n",
        "vec_test_rdd_l = vec_test_df_l.rdd.map(parse).cache()"
      ],
      "metadata": {
        "application/vnd.databricks.v1+cell": {
          "title": "",
          "showTitle": false,
          "inputWidgets": {},
          "nuid": "02040a93-8159-4a7f-9d5e-c377748f0351"
        },
        "id": "r7a3uG4omFOH",
        "outputId": "8271cfe6-00ba-44fb-dd1b-6e6cb0ee8419"
      },
      "outputs": [
        {
          "output_type": "display_data",
          "metadata": {
            "application/vnd.databricks.v1+output": {
              "datasetInfos": [],
              "data": "<div class=\"ansiout\"></div>",
              "removedWidgets": [],
              "addedWidgets": {},
              "metadata": {},
              "type": "html",
              "arguments": {}
            }
          },
          "data": {
            "text/html": [
              "<style scoped>\n  .ansiout {\n    display: block;\n    unicode-bidi: embed;\n    white-space: pre-wrap;\n    word-wrap: break-word;\n    word-break: break-all;\n    font-family: \"Source Code Pro\", \"Menlo\", monospace;;\n    font-size: 13px;\n    color: #555;\n    margin-left: 4px;\n    line-height: 19px;\n  }\n</style>\n<div class=\"ansiout\"></div>"
            ]
          }
        }
      ],
      "execution_count": null
    },
    {
      "cell_type": "code",
      "source": [
        "display(vec_train_df_l.take(2))"
      ],
      "metadata": {
        "application/vnd.databricks.v1+cell": {
          "title": "",
          "showTitle": false,
          "inputWidgets": {},
          "nuid": "786d66cb-b38e-4891-a58e-dd1a3f2219e2"
        },
        "id": "hiOYd_RumFOH",
        "outputId": "c70338d7-6b77-42e1-e2c3-a663022219e4"
      },
      "outputs": [
        {
          "output_type": "display_data",
          "metadata": {
            "application/vnd.databricks.v1+output": {
              "overflow": false,
              "datasetInfos": [],
              "data": [
                [
                  {
                    "vectorType": "sparse",
                    "length": 948,
                    "indices": [
                      1,
                      3,
                      9,
                      37,
                      54,
                      60,
                      72,
                      407,
                      649,
                      801,
                      852,
                      871,
                      877,
                      887,
                      891,
                      893,
                      894,
                      897,
                      898,
                      900,
                      901,
                      904,
                      905,
                      906,
                      907,
                      909,
                      910,
                      911,
                      912
                    ],
                    "values": [
                      1,
                      1,
                      1,
                      1,
                      1,
                      1,
                      1,
                      1,
                      1,
                      1,
                      1,
                      1,
                      1,
                      1,
                      1,
                      0.08564263855831351,
                      0.12036722203332201,
                      0.12467787968633101,
                      0.12359550561797754,
                      0.1098901098901099,
                      1,
                      0.8233509086568446,
                      0.5567010309278351,
                      0.125,
                      0.7663157894736842,
                      0.7982456140350876,
                      0.5656565656565657,
                      0.7447698744769876,
                      0.8338235294117647
                    ]
                  },
                  0
                ],
                [
                  {
                    "vectorType": "sparse",
                    "length": 948,
                    "indices": [
                      2,
                      6,
                      14,
                      42,
                      51,
                      62,
                      84,
                      418,
                      649,
                      801,
                      853,
                      868,
                      879,
                      887,
                      891,
                      893,
                      894,
                      897,
                      900,
                      901,
                      904,
                      905,
                      906,
                      907,
                      909,
                      910,
                      911,
                      912
                    ],
                    "values": [
                      1,
                      1,
                      1,
                      1,
                      1,
                      1,
                      1,
                      1,
                      1,
                      1,
                      1,
                      1,
                      1,
                      1,
                      1,
                      0.0007650459027541654,
                      0.12036722203332201,
                      1,
                      0.1098901098901099,
                      0.13854637147053117,
                      0.4113487722258379,
                      0.5463917525773195,
                      0.125,
                      0.5084210526315789,
                      0.4809941520467836,
                      0.5454545454545455,
                      0.45920502092050214,
                      0.48235294117647054
                    ]
                  },
                  0
                ]
              ],
              "plotOptions": {
                "displayType": "table",
                "customPlotOptions": {},
                "pivotColumns": null,
                "pivotAggregation": null,
                "xColumns": null,
                "yColumns": null
              },
              "columnCustomDisplayInfos": {},
              "aggType": "",
              "isJsonSchema": true,
              "removedWidgets": [],
              "aggSchema": [],
              "schema": [
                {
                  "name": "features",
                  "type": "{\"type\":\"udt\",\"class\":\"org.apache.spark.ml.linalg.VectorUDT\",\"pyClass\":\"pyspark.ml.linalg.VectorUDT\",\"sqlType\":{\"type\":\"struct\",\"fields\":[{\"name\":\"type\",\"type\":\"byte\",\"nullable\":false,\"metadata\":{}},{\"name\":\"size\",\"type\":\"integer\",\"nullable\":true,\"metadata\":{}},{\"name\":\"indices\",\"type\":{\"type\":\"array\",\"elementType\":\"integer\",\"containsNull\":false},\"nullable\":true,\"metadata\":{}},{\"name\":\"values\",\"type\":{\"type\":\"array\",\"elementType\":\"double\",\"containsNull\":false},\"nullable\":true,\"metadata\":{}}]}}",
                  "metadata": "{}"
                },
                {
                  "name": "label",
                  "type": "\"double\"",
                  "metadata": "{}"
                }
              ],
              "aggError": "",
              "aggData": [],
              "addedWidgets": {},
              "metadata": {},
              "dbfsResultPath": null,
              "type": "table",
              "aggOverflow": false,
              "aggSeriesLimitReached": false,
              "arguments": {}
            }
          },
          "data": {
            "text/html": [
              "<style scoped>\n  .table-result-container {\n    max-height: 300px;\n    overflow: auto;\n  }\n  table, th, td {\n    border: 1px solid black;\n    border-collapse: collapse;\n  }\n  th, td {\n    padding: 5px;\n  }\n  th {\n    text-align: left;\n  }\n</style><div class='table-result-container'><table class='table-result'><thead style='background-color: white'><tr><th>features</th><th>label</th></tr></thead><tbody><tr><td>Map(vectorType -> sparse, length -> 948, indices -> List(1, 3, 9, 37, 54, 60, 72, 407, 649, 801, 852, 871, 877, 887, 891, 893, 894, 897, 898, 900, 901, 904, 905, 906, 907, 909, 910, 911, 912), values -> List(1.0, 1.0, 1.0, 1.0, 1.0, 1.0, 1.0, 1.0, 1.0, 1.0, 1.0, 1.0, 1.0, 1.0, 1.0, 0.08564263855831351, 0.12036722203332201, 0.12467787968633101, 0.12359550561797754, 0.1098901098901099, 1.0, 0.8233509086568446, 0.5567010309278351, 0.125, 0.7663157894736842, 0.7982456140350876, 0.5656565656565657, 0.7447698744769876, 0.8338235294117647))</td><td>0.0</td></tr><tr><td>Map(vectorType -> sparse, length -> 948, indices -> List(2, 6, 14, 42, 51, 62, 84, 418, 649, 801, 853, 868, 879, 887, 891, 893, 894, 897, 900, 901, 904, 905, 906, 907, 909, 910, 911, 912), values -> List(1.0, 1.0, 1.0, 1.0, 1.0, 1.0, 1.0, 1.0, 1.0, 1.0, 1.0, 1.0, 1.0, 1.0, 1.0, 7.650459027541654E-4, 0.12036722203332201, 1.0, 0.1098901098901099, 0.13854637147053117, 0.4113487722258379, 0.5463917525773195, 0.125, 0.5084210526315789, 0.4809941520467836, 0.5454545454545455, 0.45920502092050214, 0.48235294117647054))</td><td>0.0</td></tr></tbody></table></div>"
            ]
          }
        }
      ],
      "execution_count": null
    },
    {
      "cell_type": "code",
      "source": [
        "display(vec_test_df_l.take(2))"
      ],
      "metadata": {
        "application/vnd.databricks.v1+cell": {
          "title": "",
          "showTitle": false,
          "inputWidgets": {},
          "nuid": "9eddb1b8-25b2-4d58-b4f6-26f0ca77de8c"
        },
        "id": "LjGYkonmmFOH",
        "outputId": "f09c41ed-23cf-46ff-cc2a-c1c1cca2fac1"
      },
      "outputs": [
        {
          "output_type": "display_data",
          "metadata": {
            "application/vnd.databricks.v1+output": {
              "overflow": false,
              "datasetInfos": [],
              "data": [
                [
                  {
                    "vectorType": "sparse",
                    "length": 948,
                    "indices": [
                      5,
                      15,
                      33,
                      50,
                      86,
                      413,
                      649,
                      801,
                      852,
                      858,
                      877,
                      887,
                      891,
                      893,
                      894,
                      897,
                      900,
                      901,
                      902,
                      904,
                      905,
                      906,
                      907,
                      909,
                      910,
                      911,
                      912
                    ],
                    "values": [
                      1,
                      1,
                      1,
                      1,
                      1,
                      1,
                      1,
                      1,
                      1,
                      1,
                      1,
                      1,
                      1,
                      0.09418565113906835,
                      0.12036722203332201,
                      1,
                      0.1098901098901099,
                      0.05126215744409653,
                      0.036204744069912614,
                      0.3230417664908438,
                      0.5670103092783505,
                      0.125,
                      0.8073684210526316,
                      0.8713450292397661,
                      0.595959595959596,
                      0.6631799163179918,
                      0.7602941176470589
                    ]
                  },
                  0
                ],
                [
                  {
                    "vectorType": "sparse",
                    "length": 948,
                    "indices": [
                      6,
                      14,
                      25,
                      52,
                      86,
                      413,
                      649,
                      801,
                      851,
                      867,
                      877,
                      887,
                      890,
                      893,
                      894,
                      897,
                      898,
                      900,
                      901,
                      902,
                      904,
                      905,
                      906,
                      907,
                      909,
                      910,
                      911,
                      912
                    ],
                    "values": [
                      1,
                      1,
                      1,
                      1,
                      1,
                      1,
                      1,
                      1,
                      1,
                      1,
                      1,
                      1,
                      1,
                      0.09418565113906835,
                      0.12036722203332201,
                      1,
                      0.06367041198501873,
                      0.1098901098901099,
                      1,
                      0.08739076154806492,
                      0.3230417664908438,
                      0.7525773195876289,
                      0.125,
                      0.3915789473684211,
                      0.38304093567251457,
                      0.7777777777777778,
                      0.3378661087866109,
                      0.3191176470588235
                    ]
                  },
                  1
                ]
              ],
              "plotOptions": {
                "displayType": "table",
                "customPlotOptions": {},
                "pivotColumns": null,
                "pivotAggregation": null,
                "xColumns": null,
                "yColumns": null
              },
              "columnCustomDisplayInfos": {},
              "aggType": "",
              "isJsonSchema": true,
              "removedWidgets": [],
              "aggSchema": [],
              "schema": [
                {
                  "name": "features",
                  "type": "{\"type\":\"udt\",\"class\":\"org.apache.spark.ml.linalg.VectorUDT\",\"pyClass\":\"pyspark.ml.linalg.VectorUDT\",\"sqlType\":{\"type\":\"struct\",\"fields\":[{\"name\":\"type\",\"type\":\"byte\",\"nullable\":false,\"metadata\":{}},{\"name\":\"size\",\"type\":\"integer\",\"nullable\":true,\"metadata\":{}},{\"name\":\"indices\",\"type\":{\"type\":\"array\",\"elementType\":\"integer\",\"containsNull\":false},\"nullable\":true,\"metadata\":{}},{\"name\":\"values\",\"type\":{\"type\":\"array\",\"elementType\":\"double\",\"containsNull\":false},\"nullable\":true,\"metadata\":{}}]}}",
                  "metadata": "{}"
                },
                {
                  "name": "label",
                  "type": "\"double\"",
                  "metadata": "{}"
                }
              ],
              "aggError": "",
              "aggData": [],
              "addedWidgets": {},
              "metadata": {},
              "dbfsResultPath": null,
              "type": "table",
              "aggOverflow": false,
              "aggSeriesLimitReached": false,
              "arguments": {}
            }
          },
          "data": {
            "text/html": [
              "<style scoped>\n  .table-result-container {\n    max-height: 300px;\n    overflow: auto;\n  }\n  table, th, td {\n    border: 1px solid black;\n    border-collapse: collapse;\n  }\n  th, td {\n    padding: 5px;\n  }\n  th {\n    text-align: left;\n  }\n</style><div class='table-result-container'><table class='table-result'><thead style='background-color: white'><tr><th>features</th><th>label</th></tr></thead><tbody><tr><td>Map(vectorType -> sparse, length -> 948, indices -> List(5, 15, 33, 50, 86, 413, 649, 801, 852, 858, 877, 887, 891, 893, 894, 897, 900, 901, 902, 904, 905, 906, 907, 909, 910, 911, 912), values -> List(1.0, 1.0, 1.0, 1.0, 1.0, 1.0, 1.0, 1.0, 1.0, 1.0, 1.0, 1.0, 1.0, 0.09418565113906835, 0.12036722203332201, 1.0, 0.1098901098901099, 0.05126215744409653, 0.036204744069912614, 0.3230417664908438, 0.5670103092783505, 0.125, 0.8073684210526316, 0.8713450292397661, 0.595959595959596, 0.6631799163179918, 0.7602941176470589))</td><td>0.0</td></tr><tr><td>Map(vectorType -> sparse, length -> 948, indices -> List(6, 14, 25, 52, 86, 413, 649, 801, 851, 867, 877, 887, 890, 893, 894, 897, 898, 900, 901, 902, 904, 905, 906, 907, 909, 910, 911, 912), values -> List(1.0, 1.0, 1.0, 1.0, 1.0, 1.0, 1.0, 1.0, 1.0, 1.0, 1.0, 1.0, 1.0, 0.09418565113906835, 0.12036722203332201, 1.0, 0.06367041198501873, 0.1098901098901099, 1.0, 0.08739076154806492, 0.3230417664908438, 0.7525773195876289, 0.125, 0.3915789473684211, 0.38304093567251457, 0.7777777777777778, 0.3378661087866109, 0.3191176470588235))</td><td>1.0</td></tr></tbody></table></div>"
            ]
          }
        }
      ],
      "execution_count": null
    },
    {
      "cell_type": "code",
      "source": [
        "# Initialize model\n",
        "wInit = np.random.uniform(0,1,949)\n",
        "# Perform gradient descent\n",
        "lr_results_l = GradientDescent(vec_train_rdd_l, vec_test_rdd_l, wInit, nSteps = 125, learningRate = 0.28)\n",
        "# Pick the last model (the model will be checked if the loss did not explode in next step)\n",
        "model_l = lr_results_l[2][-1]\n",
        "#make predictions\n",
        "predrdd_l = makePrediction(vec_test_rdd_l, model_l,threshold = 0.38)\n",
        "preddf_l = sqlContext.createDataFrame(predrdd_l, schema)\n",
        "# Evaluate resuts\n",
        "model_evaluation(preddf_l)"
      ],
      "metadata": {
        "application/vnd.databricks.v1+cell": {
          "title": "",
          "showTitle": false,
          "inputWidgets": {},
          "nuid": "fcd8cb6f-2a7a-435a-a21f-ed9c6e2a87c7"
        },
        "id": "9fy-yBBKmFOH",
        "outputId": "93181e43-f042-4b3f-edac-a197280cdfd8"
      },
      "outputs": [
        {
          "output_type": "display_data",
          "metadata": {
            "application/vnd.databricks.v1+output": {
              "datasetInfos": [],
              "data": "<div class=\"ansiout\">Accuracy = 0.5995\nPrecision = 0.2368\nRecall = 0.5288\nF1-Score = 0.6435\nF05-Score = 0.2662\nF2-Score = 0.4242\nTP = 690272\nFN = 614982\nTN = 3560107\nFP = 2225087\nTotal Records: 7090448\n</div>",
              "removedWidgets": [],
              "addedWidgets": {},
              "metadata": {},
              "type": "html",
              "arguments": {}
            }
          },
          "data": {
            "text/html": [
              "<style scoped>\n  .ansiout {\n    display: block;\n    unicode-bidi: embed;\n    white-space: pre-wrap;\n    word-wrap: break-word;\n    word-break: break-all;\n    font-family: \"Source Code Pro\", \"Menlo\", monospace;;\n    font-size: 13px;\n    color: #555;\n    margin-left: 4px;\n    line-height: 19px;\n  }\n</style>\n<div class=\"ansiout\">Accuracy = 0.5995\nPrecision = 0.2368\nRecall = 0.5288\nF1-Score = 0.6435\nF05-Score = 0.2662\nF2-Score = 0.4242\nTP = 690272\nFN = 614982\nTN = 3560107\nFP = 2225087\nTotal Records: 7090448\n</div>"
            ]
          }
        }
      ],
      "execution_count": null
    },
    {
      "cell_type": "code",
      "source": [
        "# Check the last three loss results and see loss is not exploding\n",
        "# The above results are valid if the loss was not exploding\n",
        "#lr_results_l[0][-3]\n",
        "#lr_results_l[0][-2]\n",
        "lr_results_l[0][-1]"
      ],
      "metadata": {
        "application/vnd.databricks.v1+cell": {
          "title": "",
          "showTitle": false,
          "inputWidgets": {},
          "nuid": "bf3270bb-f236-4cef-8f34-8e8878b1d4ef"
        },
        "id": "DTZiaS-SmFOI",
        "outputId": "0c165b93-56da-4a79-e024-24ae1dd30285"
      },
      "outputs": [
        {
          "output_type": "display_data",
          "metadata": {
            "application/vnd.databricks.v1+output": {
              "datasetInfos": [],
              "data": "<div class=\"ansiout\">Out[256]: 0.6666474051298822</div>",
              "removedWidgets": [],
              "addedWidgets": {},
              "metadata": {},
              "type": "html",
              "arguments": {}
            }
          },
          "data": {
            "text/html": [
              "<style scoped>\n  .ansiout {\n    display: block;\n    unicode-bidi: embed;\n    white-space: pre-wrap;\n    word-wrap: break-word;\n    word-break: break-all;\n    font-family: \"Source Code Pro\", \"Menlo\", monospace;;\n    font-size: 13px;\n    color: #555;\n    margin-left: 4px;\n    line-height: 19px;\n  }\n</style>\n<div class=\"ansiout\">Out[256]: 0.6666474051298822</div>"
            ]
          }
        }
      ],
      "execution_count": null
    },
    {
      "cell_type": "code",
      "source": [
        "# Make another set of predictions by lowering the threshold value\n",
        "predrdd_l = makePrediction(vec_test_rdd_l, model_l,threshold = 0.25)"
      ],
      "metadata": {
        "application/vnd.databricks.v1+cell": {
          "title": "",
          "showTitle": false,
          "inputWidgets": {},
          "nuid": "e1e4b4fb-e8aa-4fe9-8936-ee4e8b850c02"
        },
        "id": "kYSr3VD8mFOI",
        "outputId": "74edc25c-cfa5-4191-e1e3-888237d61201"
      },
      "outputs": [
        {
          "output_type": "display_data",
          "metadata": {
            "application/vnd.databricks.v1+output": {
              "datasetInfos": [],
              "data": "<div class=\"ansiout\"></div>",
              "removedWidgets": [],
              "addedWidgets": {},
              "metadata": {},
              "type": "html",
              "arguments": {}
            }
          },
          "data": {
            "text/html": [
              "<style scoped>\n  .ansiout {\n    display: block;\n    unicode-bidi: embed;\n    white-space: pre-wrap;\n    word-wrap: break-word;\n    word-break: break-all;\n    font-family: \"Source Code Pro\", \"Menlo\", monospace;;\n    font-size: 13px;\n    color: #555;\n    margin-left: 4px;\n    line-height: 19px;\n  }\n</style>\n<div class=\"ansiout\"></div>"
            ]
          }
        }
      ],
      "execution_count": null
    },
    {
      "cell_type": "code",
      "source": [
        "# Convert predictions to dataframe\n",
        "preddf_l = sqlContext.createDataFrame(predrdd_l, schema)"
      ],
      "metadata": {
        "application/vnd.databricks.v1+cell": {
          "title": "",
          "showTitle": false,
          "inputWidgets": {},
          "nuid": "5cefe625-9d5e-4a6b-87c7-a45470abf868"
        },
        "id": "QCAg316NmFOI",
        "outputId": "60f2bb8d-821b-4d81-918d-09992b1de6c6"
      },
      "outputs": [
        {
          "output_type": "display_data",
          "metadata": {
            "application/vnd.databricks.v1+output": {
              "datasetInfos": [],
              "data": "<div class=\"ansiout\"></div>",
              "removedWidgets": [],
              "addedWidgets": {},
              "metadata": {},
              "type": "html",
              "arguments": {}
            }
          },
          "data": {
            "text/html": [
              "<style scoped>\n  .ansiout {\n    display: block;\n    unicode-bidi: embed;\n    white-space: pre-wrap;\n    word-wrap: break-word;\n    word-break: break-all;\n    font-family: \"Source Code Pro\", \"Menlo\", monospace;;\n    font-size: 13px;\n    color: #555;\n    margin-left: 4px;\n    line-height: 19px;\n  }\n</style>\n<div class=\"ansiout\"></div>"
            ]
          }
        }
      ],
      "execution_count": null
    },
    {
      "cell_type": "code",
      "source": [
        "# Evaluate predictions\n",
        "model_evaluation(preddf_l)"
      ],
      "metadata": {
        "application/vnd.databricks.v1+cell": {
          "title": "",
          "showTitle": false,
          "inputWidgets": {},
          "nuid": "83ccabf9-7feb-40e6-bb71-35196a842705"
        },
        "id": "_dyzHskamFOI",
        "outputId": "add75463-0ad1-4a13-d45e-5ddf3375df51"
      },
      "outputs": [
        {
          "output_type": "display_data",
          "metadata": {
            "application/vnd.databricks.v1+output": {
              "datasetInfos": [],
              "data": "<div class=\"ansiout\">Accuracy = 0.4309\nPrecision = 0.2133\nRecall = 0.7778\nF1-Score = 0.4718\nF05-Score = 0.2495\nF2-Score = 0.5086\nTP = 1015262\nFN = 289992\nTN = 2039996\nFP = 3745198\nTotal Records: 7090448\n</div>",
              "removedWidgets": [],
              "addedWidgets": {},
              "metadata": {},
              "type": "html",
              "arguments": {}
            }
          },
          "data": {
            "text/html": [
              "<style scoped>\n  .ansiout {\n    display: block;\n    unicode-bidi: embed;\n    white-space: pre-wrap;\n    word-wrap: break-word;\n    word-break: break-all;\n    font-family: \"Source Code Pro\", \"Menlo\", monospace;;\n    font-size: 13px;\n    color: #555;\n    margin-left: 4px;\n    line-height: 19px;\n  }\n</style>\n<div class=\"ansiout\">Accuracy = 0.4309\nPrecision = 0.2133\nRecall = 0.7778\nF1-Score = 0.4718\nF05-Score = 0.2495\nF2-Score = 0.5086\nTP = 1015262\nFN = 289992\nTN = 2039996\nFP = 3745198\nTotal Records: 7090448\n</div>"
            ]
          }
        }
      ],
      "execution_count": null
    }
  ],
  "metadata": {
    "application/vnd.databricks.v1+notebook": {
      "notebookName": "rdd_logistic_regression",
      "dashboards": [],
      "notebookMetadata": {
        "pythonIndentUnit": 4
      },
      "language": "python",
      "widgets": {},
      "notebookOrigID": 4070574710016716
    },
    "colab": {
      "name": "rdd_logistic_regression.ipynb",
      "provenance": [],
      "collapsed_sections": [
        "7NG3cADtmFN0",
        "y3S8nR-ZmFN5",
        "KRqookkFmFN5",
        "myhiziwPmFN6",
        "uXUPPOd2mFN6",
        "hqVUcgcrmFN6",
        "EnYoLc71mFN7",
        "GkUq0IQwmFN8",
        "DbJ3rasLmFN8",
        "fnOmaiecmFN9",
        "WMk4T-XxmFN-",
        "PmsUW93hmFOG"
      ]
    }
  },
  "nbformat": 4,
  "nbformat_minor": 0
}